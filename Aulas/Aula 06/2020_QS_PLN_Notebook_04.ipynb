{
  "nbformat": 4,
  "nbformat_minor": 0,
  "metadata": {
    "colab": {
      "name": "2020-QS PLN Notebook 04.ipynb",
      "provenance": [],
      "toc_visible": true,
      "mount_file_id": "1LobzYMhrwRnnbBncCAov3ZSrZlKICnej",
      "authorship_tag": "ABX9TyOd2xR4x2VDv9okiYl1+Cya",
      "include_colab_link": true
    },
    "kernelspec": {
      "name": "python3",
      "display_name": "Python 3"
    }
  },
  "cells": [
    {
      "cell_type": "markdown",
      "metadata": {
        "id": "view-in-github",
        "colab_type": "text"
      },
      "source": [
        "<a href=\"https://colab.research.google.com/github/adalves-ufabc/2020.QS-PLN/blob/main/2020_QS_PLN_Notebook_04.ipynb\" target=\"_parent\"><img src=\"https://colab.research.google.com/assets/colab-badge.svg\" alt=\"Open In Colab\"/></a>"
      ]
    },
    {
      "cell_type": "markdown",
      "metadata": {
        "id": "Y6QILOdpOjwv"
      },
      "source": [
        "# **Processamento de Linguagem Natural [2020.QS]**\n",
        "Prof. Alexandre Donizeti Alves"
      ]
    },
    {
      "cell_type": "markdown",
      "metadata": {
        "id": "nmK05FgcOzL2"
      },
      "source": [
        "## **Normalização de Textos** [*Text Normalization*]\n",
        "---\n",
        "\n"
      ]
    },
    {
      "cell_type": "markdown",
      "metadata": {
        "id": "IVnXhhy1_1KC"
      },
      "source": [
        "### **Exemplo 01**"
      ]
    },
    {
      "cell_type": "code",
      "metadata": {
        "id": "XFmK0BEjxH0t",
        "outputId": "fd93642d-b06a-4211-ab85-72788628b98b",
        "colab": {
          "base_uri": "https://localhost:8080/",
          "height": 35
        }
      },
      "source": [
        "# O trecho de codigo a seguir extrai palavras (tokens) de uma string, e \n",
        "# calcula o numero de palavras e o tamanho do vocabulario\n",
        "\n",
        "import re\n",
        "\n",
        "regex = r\"[-'a-zA-ZÀ-ÖØ-öø-ÿ]+\"\n",
        "#regex = r\"[-'a-zA-ZÀ-ÖØ-öø-ÿ0-9]+\"\n",
        "\n",
        "# https://pt.wikipedia.org/wiki/Capivara\n",
        "\n",
        "texto = (\"\"\"A capivara (nome científico: Hydrochoerus hydrochaeris) é uma espécie\n",
        "         de mamífero roedor da família Caviidae e subfamília Hydrochoerinae. \n",
        "         Alguns autores consideram que deva ser classificada em uma família própria. \n",
        "         Está incluída no mesmo grupo de roedores ao qual se classificam as pacas, \n",
        "         cutias, os preás e o porquinho-da-índia. Ocorre por toda a América do Sul \n",
        "         ao leste dos Andes em habitats associados a rios, lagos e pântanos, \n",
        "         do nível do mar até 1 300 m de altitude. Extremamente adaptável, \n",
        "         pode ocorrer em ambientes altamente alterados pelo ser humano. (d'água)\"\"\")\n",
        "\n",
        "matches = re.finditer(regex, texto)\n",
        "\n",
        "vocabulario = set([])\n",
        "\n",
        "for (i, match) in enumerate(matches):\n",
        "   #print (f\"Palavra {i+1} foi identificada nas posições {match.start()}-{match.end()}: {match.group()}\")\n",
        "   vocabulario.add(match.group())\n",
        "    \n",
        "print (f\"N={i+1}, V={len(vocabulario)}\")"
      ],
      "execution_count": 2,
      "outputs": [
        {
          "output_type": "stream",
          "text": [
            "N=87, V=74\n"
          ],
          "name": "stdout"
        }
      ]
    },
    {
      "cell_type": "markdown",
      "metadata": {
        "id": "hn7YcdHUCHVt"
      },
      "source": [
        "### **Exemplo 02**"
      ]
    },
    {
      "cell_type": "code",
      "metadata": {
        "id": "PzhGg3zvya15",
        "outputId": "7ad83c0c-80b8-460e-8ace-f139d7ad8e3a",
        "colab": {
          "base_uri": "https://localhost:8080/"
        }
      },
      "source": [
        "# O trecho de codigo a seguir conta o numero de palavras de um livro\n",
        "# de Machado de Assis\n",
        "\n",
        "#regex = r\"[-'a-zA-ZÀ-ÖØ-öø-ÿ]+\"  \n",
        "regex = r\"[-'a-zA-ZÀ-ÖØ-öø-ÿ0-9]+\" \n",
        "\n",
        "with open(\"/content/A-Semana-Machado-de-Assis.txt\",'r') as document:\n",
        "\n",
        "    content  = document.read()\n",
        "    # document.read()       # devolve o conteudo do arquivo 'fileName'\n",
        "    # document.readline()   # devolve a linha seguinte do arquivo 'fileName'\n",
        "    # document.readlines()  # devolve uma lista de linhas do arquivo 'fileName'\n",
        "\n",
        "    words = re.findall(regex, content)\n",
        "    #for w in words:\n",
        "    #    print (w)\n",
        "    print (f\"Total de palavras (tokens): {len(words)}\")   "
      ],
      "execution_count": null,
      "outputs": [
        {
          "output_type": "stream",
          "text": [
            "Total de palavras (tokens): 267618\n"
          ],
          "name": "stdout"
        }
      ]
    },
    {
      "cell_type": "markdown",
      "metadata": {
        "id": "lWpAtXofFg77"
      },
      "source": [
        "### **Exemplo 03**"
      ]
    },
    {
      "cell_type": "code",
      "metadata": {
        "id": "OZpYbwuu0Bn0",
        "outputId": "a4c9bec7-a769-4a2a-c662-68e5563ec8e2",
        "colab": {
          "base_uri": "https://localhost:8080/"
        }
      },
      "source": [
        "# O trecho de codigo a seguir calcula a frequencia das palavras \n",
        "# e imprime as 20 mais frequentes\n",
        "\n",
        "#regex = r\"[-'a-zA-ZÀ-ÖØ-öø-ÿ]+\" \n",
        "regex = r\"[-'a-zA-ZÀ-ÖØ-öø-ÿ0-9]+\" \n",
        "\n",
        "with open(\"/content/A-Semana-Machado-de-Assis.txt\",'r') as document:\n",
        "\n",
        "    content  = document.read()\n",
        "   \n",
        "    # identificacao de palavras\n",
        "    words       = re.findall(regex, content)\n",
        "    frequencies = dict([])\n",
        "\n",
        "    # quantidade de vezes no documento\n",
        "    for w in words:\n",
        "        w = w.lower()\n",
        "        if w not in frequencies:\n",
        "            frequencies[w] = 0\n",
        "        frequencies[w] += 1\n",
        "    print (f\"Tokens: {len(words)}, Vocabulario: {len(frequencies)}\")\n",
        "\n",
        "    # imprimir as 20 palavras mais frequentes\n",
        "    fs = sorted(frequencies, key=frequencies.get, reverse=True)\n",
        "    for i in range(0,21):\n",
        "        print (f\"--> {frequencies[fs[i]]} {fs[i]}\")"
      ],
      "execution_count": null,
      "outputs": [
        {
          "output_type": "stream",
          "text": [
            "Tokens: 267618, Vocabulario: 25374\n",
            "--> 11053 que\n",
            "--> 9875 a\n",
            "--> 9767 de\n",
            "--> 8236 o\n",
            "--> 7525 e\n",
            "--> 5519 não\n",
            "--> 4018 é\n",
            "--> 3476 do\n",
            "--> 3465 os\n",
            "--> 3352 um\n",
            "--> 3203 da\n",
            "--> 2862 se\n",
            "--> 2421 as\n",
            "--> 2237 em\n",
            "--> 2054 uma\n",
            "--> 2024 com\n",
            "--> 2019 mas\n",
            "--> 1811 para\n",
            "--> 1756 por\n",
            "--> 1456 ao\n",
            "--> 1449 dos\n"
          ],
          "name": "stdout"
        }
      ]
    },
    {
      "cell_type": "markdown",
      "metadata": {
        "id": "uHvy_nvjE3NQ"
      },
      "source": [
        "### **Exemplo 04**"
      ]
    },
    {
      "cell_type": "code",
      "metadata": {
        "id": "RjC4beqy4M7p"
      },
      "source": [
        "# O trecho de codigo a seguir remove as stopwords e imprime as 20 mais \n",
        "# frequentes (desconsiderando as stopwords)\n",
        "\n",
        "#regex = r\"[-'a-zA-ZÀ-ÖØ-öø-ÿ]+\" \n",
        "regex = r\"[-'a-zA-ZÀ-ÖØ-öø-ÿ0-9]+\" \n",
        "\n",
        "stopwords = set([])\n",
        "\n",
        "# leitura das stopwords\n",
        "with open(\"/content/stopwords-pt.txt\",'r') as stopwordsPTfile:\n",
        "    for s in stopwordsPTfile.readlines():\n",
        "        stopwords.add(s.strip().lower())\n",
        "    \n",
        "with open(\"/content/A-Semana-Machado-de-Assis.txt\",'r') as document:\n",
        "\n",
        "    # leitura do documento\n",
        "    content  = document.read()\n",
        "\n",
        "    # identificacao de palavras\n",
        "    words       = re.findall(regex, content)\n",
        "    frequencies = dict([])\n",
        "\n",
        "    # quantidade de vezes no documento\n",
        "    for w in words:\n",
        "        w = w.lower()\n",
        "        if w not in stopwords:\n",
        "            if w not in frequencies:\n",
        "                frequencies[w] = 0\n",
        "            frequencies[w] += 1\n",
        "    print (f\"Tokens: {len(words)}, Vocabulario: {len(frequencies)}\")\n",
        "\n",
        "    # imprimir as 20 palavras mais frequentes\n",
        "    fs = sorted(frequencies, key=frequencies.get, reverse=True)\n",
        "    for i in range(0,20):\n",
        "        print (f\"--> {frequencies[fs[i]]} {fs[i]}\")"
      ],
      "execution_count": null,
      "outputs": []
    },
    {
      "cell_type": "markdown",
      "metadata": {
        "id": "jQ2ObpSlYXx0"
      },
      "source": [
        "### **Extra**"
      ]
    },
    {
      "cell_type": "code",
      "metadata": {
        "id": "cND7-A83YaiP",
        "outputId": "1f5f352c-61d3-4284-9029-e0417f276619",
        "colab": {
          "base_uri": "https://localhost:8080/",
          "height": 527
        }
      },
      "source": [
        "import re\n",
        "\n",
        "regex = r\"[-'a-zA-ZÀ-ÖØ-öø-ÿ0-9]+\" \n",
        "\n",
        "with open(\"/content/teste-palavras.txt\",'r') as document:\n",
        "\n",
        "    content  = document.read()\n",
        "   \n",
        "    # identificacao de palavras\n",
        "    words       = re.findall(regex, content)\n",
        "    frequencies = dict([])\n",
        "\n",
        "    # quantidade de vezes no documento\n",
        "    for w in words:\n",
        "        w = w.lower()\n",
        "        if w not in frequencies:\n",
        "            frequencies[w] = 0\n",
        "        frequencies[w] += 1\n",
        "    print (f\"Tokens: {len(words)}, Vocabulario: {len(frequencies)}\")\n",
        "\n",
        "    # imprimir as palavras de acordo com a frequencia\n",
        "    fs = sorted(frequencies, key=frequencies.get, reverse=True)\n",
        "    for i in range(len(fs)):\n",
        "       print (f\"--> {frequencies[fs[i]]} {fs[i]}\")"
      ],
      "execution_count": 7,
      "outputs": [
        {
          "output_type": "stream",
          "text": [
            "Tokens: 33, Vocabulario: 27\n",
            "--> 4 c\n",
            "--> 2 45\n",
            "--> 2 a\n",
            "--> 2 ufabc\n",
            "--> 1 total\n",
            "--> 1 de\n",
            "--> 1 r\n",
            "--> 1 10\n",
            "--> 1 para\n",
            "--> 1 valores\n",
            "--> 1 superiores\n",
            "--> 1 455\n",
            "--> 1 67\n",
            "--> 1 www\n",
            "--> 1 edu\n",
            "--> 1 br\n",
            "--> 1 livre-docente\n",
            "--> 1 homem-máquina\n",
            "--> 1 d'água\n",
            "--> 1 u\n",
            "--> 1 f\n",
            "--> 1 b\n",
            "--> 1 m\n",
            "--> 1 ph\n",
            "--> 1 d\n",
            "--> 1 sant'anna\n",
            "--> 1 l'ensemble\n"
          ],
          "name": "stdout"
        }
      ]
    },
    {
      "cell_type": "markdown",
      "metadata": {
        "id": "onY6dVr-FuFT"
      },
      "source": [
        "### **NLTK**"
      ]
    },
    {
      "cell_type": "markdown",
      "metadata": {
        "id": "e2hIRXbrWkpE"
      },
      "source": [
        "O *Natural Language Toolkit*, ou mais comumente o **NLTK**, é um conjunto de bibliotecas e programas para processamento simbólico e estatístico da linguagem natural, escrito na linguagem de programação Python.\n",
        "\n",
        "Ele fornece interfaces fáceis de usar para mais de 50 corpora e recursos lexicais, como WordNet, junto com um conjunto de bibliotecas de processamento de texto para classificação, tokenização, lematização, marcação, análise e raciocínio semântico etc.\n",
        "\n",
        "O NLTK inclui uma grande quantidade de código, dados e documentação, todos disponíveis gratuitamente para download em http://www.nltk.org/"
      ]
    },
    {
      "cell_type": "markdown",
      "metadata": {
        "id": "q--R8-IQONrz"
      },
      "source": [
        "Uma das primeiras coisas a se testar é se o NLTK está disponível no Google Colab. Para isso, execute a seguinte instrução:"
      ]
    },
    {
      "cell_type": "code",
      "metadata": {
        "id": "rKnti_tKFyeh"
      },
      "source": [
        "import nltk"
      ],
      "execution_count": null,
      "outputs": []
    },
    {
      "cell_type": "markdown",
      "metadata": {
        "id": "rx8kimPcrx9q"
      },
      "source": [
        "O NLTK possui uma série de pacotes adicionais ou [corpora](#myfootnote1)  que podem ser facilmente adicionados à instalação básica da biblioteca.\n",
        "\n",
        "Para ter acesso ao download destes pacotes adicionais, basta utilizar o comando: \n",
        "\n",
        "`nltk.download()`\n",
        "\n",
        "<a name=\"myfootnote1\">Corpora</a>: plural de \"corpus\", que em latim significa um conjunto de uma obra. Termo que serve para designar um conjunto de textos, ou registros orais de uma língua para fins de análise."
      ]
    },
    {
      "cell_type": "code",
      "metadata": {
        "id": "kfWFi8dBO42I"
      },
      "source": [
        "nltk.download()"
      ],
      "execution_count": null,
      "outputs": []
    },
    {
      "cell_type": "markdown",
      "metadata": {
        "id": "yWJOIxcpPG-l"
      },
      "source": [
        "Um dos corpora disponibilizados pelo NLTK é a obra completa de Machado de Assis. O nome desse pacote é \"machado\"."
      ]
    },
    {
      "cell_type": "code",
      "metadata": {
        "id": "RLTOud0nPId0"
      },
      "source": [
        "from nltk.corpus import machado"
      ],
      "execution_count": null,
      "outputs": []
    },
    {
      "cell_type": "markdown",
      "metadata": {
        "id": "XEMce0AVPPcL"
      },
      "source": [
        "Aparentemente está disponível, mas caso não estivesse, bastaria realizar o download."
      ]
    },
    {
      "cell_type": "code",
      "metadata": {
        "id": "gAwq1sB4PRjQ",
        "outputId": "115a98ff-cbe4-4ed3-ab98-dccb28cd8f5e",
        "colab": {
          "base_uri": "https://localhost:8080/"
        }
      },
      "source": [
        "nltk.download(\"machado\")"
      ],
      "execution_count": null,
      "outputs": [
        {
          "output_type": "stream",
          "text": [
            "[nltk_data] Downloading package machado to /root/nltk_data...\n",
            "[nltk_data]   Package machado is already up-to-date!\n"
          ],
          "name": "stdout"
        },
        {
          "output_type": "execute_result",
          "data": {
            "text/plain": [
              "True"
            ]
          },
          "metadata": {
            "tags": []
          },
          "execution_count": 26
        }
      ]
    },
    {
      "cell_type": "markdown",
      "metadata": {
        "id": "00mSruUDPYs-"
      },
      "source": [
        "Agora eu consigo, por exemplo, algumas informações sobre o corpus:"
      ]
    },
    {
      "cell_type": "code",
      "metadata": {
        "id": "i7n-Cv4IPcg6",
        "outputId": "bbaeb516-8955-4f44-84ac-e3c950cf1383",
        "colab": {
          "base_uri": "https://localhost:8080/"
        }
      },
      "source": [
        "print (\"Número de arquivos no corpus:\", len(machado.fileids()))\n",
        "print (\"Primeiros cinco textos do corpus\", machado.fileids()[0:5])\n",
        "print (\"Quantas palavras existem nesse corpus? Resposta:\", len(machado.words()))"
      ],
      "execution_count": null,
      "outputs": [
        {
          "output_type": "stream",
          "text": [
            "Número de arquivos no corpus: 246\n",
            "Primeiros cinco textos do corpus ['contos/macn001.txt', 'contos/macn002.txt', 'contos/macn003.txt', 'contos/macn004.txt', 'contos/macn005.txt']\n",
            "Quantas palavras existem nesse corpus? Resposta: 3121944\n"
          ],
          "name": "stdout"
        }
      ]
    },
    {
      "cell_type": "markdown",
      "metadata": {
        "id": "-2DDQdZEQg_I"
      },
      "source": [
        "A partir de agora o objetivo é mostrar como o NLTK facilita enormemente o processamento de textos por meio de funções que a biblioteca disponibiliza."
      ]
    },
    {
      "cell_type": "markdown",
      "metadata": {
        "id": "ZwQXMpvLRbFI"
      },
      "source": [
        "O NLTK permite retornar um texto como uma lista de *tokens* usando o método ***`words(id)`***:"
      ]
    },
    {
      "cell_type": "code",
      "metadata": {
        "id": "bUELbrraQqaV",
        "outputId": "73eaab6c-e5d1-4d50-afd9-098379f3d142",
        "colab": {
          "base_uri": "https://localhost:8080/"
        }
      },
      "source": [
        "texto1 = machado.words('romance/marm05.txt')\n",
        "print(texto1)\n",
        "print(len(texto1))"
      ],
      "execution_count": null,
      "outputs": [
        {
          "output_type": "stream",
          "text": [
            "['Romance', ',', 'Memórias', 'Póstumas', 'de', 'Brás', ...]\n",
            "77098\n"
          ],
          "name": "stdout"
        }
      ]
    },
    {
      "cell_type": "markdown",
      "metadata": {
        "id": "r4OhB0jYR2gD"
      },
      "source": [
        "Outra possibilidade é usar a classe Text do NLTK, que além de reperesentar o texto como uma sequência de tokens, também implementa uma série de métodos muito úteis:"
      ]
    },
    {
      "cell_type": "code",
      "metadata": {
        "id": "IYighIUMSKIe"
      },
      "source": [
        "from nltk.text import Text\n",
        "bras = Text(machado.words('romance/marm05.txt'))"
      ],
      "execution_count": null,
      "outputs": []
    },
    {
      "cell_type": "markdown",
      "metadata": {
        "id": "u516lw-YSz67"
      },
      "source": [
        "Com a classe ***Text*** podemos, por exemplo, encontrar uma palavra dentro de diferentes contextos usando o método ***`concordance(string)`***:"
      ]
    },
    {
      "cell_type": "code",
      "metadata": {
        "id": "iPZRB847S-SI",
        "outputId": "fc1e6c69-a42b-4da2-fc87-5630d3a889c6",
        "colab": {
          "base_uri": "https://localhost:8080/"
        }
      },
      "source": [
        "bras.concordance('olhos')"
      ],
      "execution_count": null,
      "outputs": [
        {
          "output_type": "stream",
          "text": [
            "Displaying 25 of 138 matches:\n",
            "De pé , à cabeceira da cama , com os olhos estúpidos , a boca entreaberta , a t\n",
            "orelhas . Pela minha parte fechei os olhos e deixei - me ir à ventura . Já agor\n",
            "xões de cérebro enfermo . Como ia de olhos fechados , não via o caminho ; lembr\n",
            "gelos eternos . Com efeito , abri os olhos e vi que o meu animal galopava numa \n",
            "me apareceu então , fitando - me uns olhos rutilantes como o sol . Tudo nessa f\n",
            " mim mesmo . Então , encarei - a com olhos súplices , e pedi mais alguns anos .\n",
            "o alto de uma montanha . Inclinei os olhos a uma das vertentes , e contemplei ,\n",
            "ilhão , e , não obstante , porque os olhos do delírio são outros , eu via tudo \n",
            "cifração da eternidade . E fixei os olhos , e continuei a ver as idades , que \n",
            " esperto , concordava meu pai ; e os olhos babavam - se - lhe de orgulho , e el\n",
            "te , e , repetido o mote , cravar os olhos na testa de uma senhora , depois tos\n",
            "avrear de estômagos satisfeitos ; os olhos moles e úmidos , ou vivos e cálidos \n",
            "m estacado de orquestra , e todos os olhos se voltavam para o glosador . Quem f\n",
            " . Eu via isso , porque arrastava os olhos da compota para ele e dele para a co\n",
            " eu segui - os . O Vilaça levava nos olhos umas chispas de vinho e de volúpia .\n",
            "es ... D . Eusébia levou o lenço aos olhos . O glosador vasculhava na memória a\n",
            " estupefação imobilizou a todos ; os olhos espraiavam - se a uma e outra banda \n",
            "a aula , dava um pulo , circulava os olhos chamejantes , dizia - nos os últimos\n",
            ", deixava - se estar quieto , com os olhos espetados no ar . Uma flor , o Quinc\n",
            "u forcejava por trazer a bigode . Os olhos , vivos e resolutos , eram a minha f\n",
            " pensativa , ou levantou para mim os olhos cobiçosos . De todas porém a que me \n",
            "pouco ou nada comi , porque só tinha olhos para a dona da casa . Que gentil que\n",
            "erramava - se - lhe a felicidade dos olhos , e eu sentia - me feliz com vê - la\n",
            " meu amor ! Eu agradeci - lho com os olhos úmidos . No dia seguinte levei - lhe\n",
            "proposta . Marcela ouviu - me com os olhos no ar , sem responder logo ; como in\n"
          ],
          "name": "stdout"
        }
      ]
    },
    {
      "cell_type": "markdown",
      "metadata": {
        "id": "15pYpfjmT1H5"
      },
      "source": [
        "Podemos encontrar palavras em um contexto com ajuda de expressões regulares:"
      ]
    },
    {
      "cell_type": "code",
      "metadata": {
        "id": "bxbRMimpT2WT",
        "outputId": "bd1520ed-17e7-46ae-c479-7af3246d9efe",
        "colab": {
          "base_uri": "https://localhost:8080/"
        }
      },
      "source": [
        "bras.findall(\"<olhos> (<.*>)\")"
      ],
      "execution_count": null,
      "outputs": [
        {
          "output_type": "stream",
          "text": [
            "estúpidos; e; fechados; e; rutilantes; súplices; a; do; ,; babavam;\n",
            "na; moles; se; da; umas; .; espraiavam; chamejantes; espetados; ,;\n",
            "cobiçosos; para; ,; úmidos; no; ;; de; de; fitos; a; naquele; do; ,;\n",
            "pretos; as; estúpidos; ao; às; ...; ,; fúlgidos; de; ,; .; de; pretos;\n",
            "tão; de; para; a; chisparam; para; me; da; ,; ,; uma; no; na; para;\n",
            "se; em; .; em; .; de; ,; no; nela; tinham; ;; cintilantes; o; dos; e;\n",
            ",; de; de; dela; vermelhos; .; e; .; o; ,; constantemente; para; ,; ,;\n",
            "para; ,; ao; ,; na; na; baixos; no; mais; no; se; dela; do; no; ,;\n",
            "lampejantes; rasos; todos; ,; e; do; pelos; de; ao; .; lhe; de;\n",
            "enfermos; :; ,; .; e; da; fixos; .; fitos; ,; ,; bonitos; de; ...; .;\n",
            "de; algum; a; ;; fitos; em\n"
          ],
          "name": "stdout"
        }
      ]
    },
    {
      "cell_type": "markdown",
      "metadata": {
        "id": "OAhEzZyzVJvp"
      },
      "source": [
        "**Stopwords**\n",
        "\n",
        "---\n",
        "\n",
        "\n",
        "\n",
        "***Stopwords*** são palavras que podem ser consideradas irrelevantes para o entedimento do sentido de um texto, ou seja, palavras semanticamente irrelavantes.  **Exemplos**: as, e, os,de, para, com, sem, foi.  \n",
        "\n",
        "Essas palavras são geralmente removidas de um texto durante a fase de pré-processamento.\n",
        "\n",
        "O NLTK possui uma lista de ***stopwords*** para o **Português**:\n"
      ]
    },
    {
      "cell_type": "code",
      "metadata": {
        "id": "ZBtI-9OmV0Y7",
        "outputId": "20fb5f34-64c3-43e6-a6bf-92d6c4fba134",
        "colab": {
          "base_uri": "https://localhost:8080/"
        }
      },
      "source": [
        "nltk.download('stopwords')"
      ],
      "execution_count": null,
      "outputs": [
        {
          "output_type": "stream",
          "text": [
            "[nltk_data] Downloading package stopwords to /root/nltk_data...\n",
            "[nltk_data]   Unzipping corpora/stopwords.zip.\n"
          ],
          "name": "stdout"
        },
        {
          "output_type": "execute_result",
          "data": {
            "text/plain": [
              "True"
            ]
          },
          "metadata": {
            "tags": []
          },
          "execution_count": 31
        }
      ]
    },
    {
      "cell_type": "code",
      "metadata": {
        "id": "7mm1J5pJVciq",
        "outputId": "da47ce46-3c24-446b-9a13-f6a9803f9cb6",
        "colab": {
          "base_uri": "https://localhost:8080/"
        }
      },
      "source": [
        "stopwords = nltk.corpus.stopwords.words('portuguese')\n",
        "print(stopwords[:10])\n",
        "print(len(stopwords))"
      ],
      "execution_count": null,
      "outputs": [
        {
          "output_type": "stream",
          "text": [
            "['de', 'a', 'o', 'que', 'e', 'é', 'do', 'da', 'em', 'um']\n",
            "204\n"
          ],
          "name": "stdout"
        }
      ]
    }
  ]
}