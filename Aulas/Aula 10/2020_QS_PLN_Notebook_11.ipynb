{
  "nbformat": 4,
  "nbformat_minor": 0,
  "metadata": {
    "colab": {
      "name": "2020-QS PLN Notebook 11.ipynb",
      "provenance": [],
      "collapsed_sections": [],
      "authorship_tag": "ABX9TyOv+zvo5qUlq7fN2OghLmrp",
      "include_colab_link": true
    },
    "kernelspec": {
      "name": "python3",
      "display_name": "Python 3"
    }
  },
  "cells": [
    {
      "cell_type": "markdown",
      "metadata": {
        "id": "view-in-github",
        "colab_type": "text"
      },
      "source": [
        "<a href=\"https://colab.research.google.com/github/adalves-ufabc/2020.QS-PLN/blob/main/2020_QS_PLN_Notebook_11.ipynb\" target=\"_parent\"><img src=\"https://colab.research.google.com/assets/colab-badge.svg\" alt=\"Open In Colab\"/></a>"
      ]
    },
    {
      "cell_type": "markdown",
      "metadata": {
        "id": "pmbgYaIbCuOR"
      },
      "source": [
        "# **Processamento de Linguagem Natural [2020.QS]**\n",
        "Prof. Alexandre Donizeti Alves"
      ]
    },
    {
      "cell_type": "markdown",
      "metadata": {
        "id": "OXqcxjKECvAT"
      },
      "source": [
        "# **Representação de Textos**\n",
        "\n",
        "---"
      ]
    },
    {
      "cell_type": "markdown",
      "metadata": {
        "id": "74XvOgtkC1zH"
      },
      "source": [
        "### **Codificação *One-Hot***"
      ]
    },
    {
      "cell_type": "code",
      "metadata": {
        "id": "fqnOJ5SqC7Iz",
        "outputId": "68444c22-d0b6-4f05-ab65-87fc1fcf7242",
        "colab": {
          "base_uri": "https://localhost:8080/",
          "height": 92
        }
      },
      "source": [
        "#--------------------------\n",
        "# One Hot Encoding of text \n",
        "#--------------------------\n",
        "\n",
        "documents = [\"Cachorro morde homem.\",\n",
        "             \"Homem morde cachorro.\", \n",
        "             \"Cachorro come carne.\", \n",
        "             \"Homem come comida.\"]\n",
        "\n",
        "processed_docs = [doc.lower().replace(\".\",\"\") for doc in documents]\n",
        "processed_docs"
      ],
      "execution_count": null,
      "outputs": [
        {
          "output_type": "execute_result",
          "data": {
            "text/plain": [
              "['cachorro morde homem',\n",
              " 'homem morde cachorro',\n",
              " 'cachorro come carne',\n",
              " 'homem come comida']"
            ]
          },
          "metadata": {
            "tags": []
          },
          "execution_count": 1
        }
      ]
    },
    {
      "cell_type": "code",
      "metadata": {
        "id": "Qa1LXeouDnLf",
        "outputId": "03800aba-0479-4ba2-abfb-59714f95bf8f",
        "colab": {
          "base_uri": "https://localhost:8080/",
          "height": 36
        }
      },
      "source": [
        "# build the vocabulary\n",
        "vocab = {}\n",
        "count = 0\n",
        "for doc in processed_docs:\n",
        "    for word in doc.split():\n",
        "        if word not in vocab:\n",
        "            count = count +1\n",
        "            vocab[word] = count\n",
        "print(vocab)"
      ],
      "execution_count": null,
      "outputs": [
        {
          "output_type": "stream",
          "text": [
            "{'cachorro': 1, 'morde': 2, 'homem': 3, 'come': 4, 'carne': 5, 'comida': 6}\n"
          ],
          "name": "stdout"
        }
      ]
    },
    {
      "cell_type": "code",
      "metadata": {
        "id": "v-pbBWv4E2VT"
      },
      "source": [
        "# get one hot representation for any string based on this vocabulary\n",
        "# if the word exists in the vocabulary, its representation is returned\n",
        "# if not, a list of zeroes is returned for that word\n",
        "def get_onehot_vector(somestring):\n",
        "    onehot_encoded = []\n",
        "    for word in somestring.split():\n",
        "        temp = [0]*len(vocab)\n",
        "        if word in vocab:\n",
        "            # -1 is to take care of the fact indexing in array starts from 0 and not 1\n",
        "            temp[vocab[word]-1] = 1 \n",
        "        onehot_encoded.append(temp)\n",
        "\n",
        "    return onehot_encoded"
      ],
      "execution_count": null,
      "outputs": []
    },
    {
      "cell_type": "code",
      "metadata": {
        "id": "zC75D0neFR6G",
        "outputId": "d48974b5-726d-4699-c0bf-46ea8e5229f6",
        "colab": {
          "base_uri": "https://localhost:8080/",
          "height": 54
        }
      },
      "source": [
        "print(processed_docs[0])\n",
        "get_onehot_vector(processed_docs[0])"
      ],
      "execution_count": null,
      "outputs": [
        {
          "output_type": "stream",
          "text": [
            "cachorro morde homem\n"
          ],
          "name": "stdout"
        },
        {
          "output_type": "execute_result",
          "data": {
            "text/plain": [
              "[[1, 0, 0, 0, 0, 0], [0, 1, 0, 0, 0, 0], [0, 0, 1, 0, 0, 0]]"
            ]
          },
          "metadata": {
            "tags": []
          },
          "execution_count": 7
        }
      ]
    },
    {
      "cell_type": "code",
      "metadata": {
        "id": "z51GXA5bFgWM",
        "outputId": "6729b91c-c0da-4812-9191-4ca9884eecab",
        "colab": {
          "base_uri": "https://localhost:8080/",
          "height": 111
        }
      },
      "source": [
        "#one hot representation for a random text, using the above vocabulary\n",
        "get_onehot_vector(\"homem e cachorro são bons\") "
      ],
      "execution_count": null,
      "outputs": [
        {
          "output_type": "execute_result",
          "data": {
            "text/plain": [
              "[[0, 0, 1, 0, 0, 0],\n",
              " [0, 0, 0, 0, 0, 0],\n",
              " [1, 0, 0, 0, 0, 0],\n",
              " [0, 0, 0, 0, 0, 0],\n",
              " [0, 0, 0, 0, 0, 0]]"
            ]
          },
          "metadata": {
            "tags": []
          },
          "execution_count": 8
        }
      ]
    },
    {
      "cell_type": "code",
      "metadata": {
        "id": "k7jq7T4GF3F8",
        "outputId": "39a09442-a31a-4fcb-e7f2-497b1ba6abc7",
        "colab": {
          "base_uri": "https://localhost:8080/",
          "height": 111
        }
      },
      "source": [
        "get_onehot_vector(\"homem e homem são bons\")"
      ],
      "execution_count": null,
      "outputs": [
        {
          "output_type": "execute_result",
          "data": {
            "text/plain": [
              "[[0, 0, 1, 0, 0, 0],\n",
              " [0, 0, 0, 0, 0, 0],\n",
              " [0, 0, 1, 0, 0, 0],\n",
              " [0, 0, 0, 0, 0, 0],\n",
              " [0, 0, 0, 0, 0, 0]]"
            ]
          },
          "metadata": {
            "tags": []
          },
          "execution_count": 9
        }
      ]
    },
    {
      "cell_type": "code",
      "metadata": {
        "id": "BGtUSx8pGDR5",
        "outputId": "0da3d23e-0874-45c1-892d-d975027f9dae",
        "colab": {
          "base_uri": "https://localhost:8080/",
          "height": 148
        }
      },
      "source": [
        "#--------------------------------------\n",
        "# One-hot encoding using scikit-learn\n",
        "#--------------------------------------\n",
        "\n",
        "S1 = 'cachorro morde homem'\n",
        "S2 = 'homem morde cachorro'\n",
        "S3 = 'cachorro come carne'\n",
        "S4 = 'homem come comida'\n",
        "\n",
        "from sklearn.preprocessing import LabelEncoder, OneHotEncoder\n",
        "\n",
        "data = [S1.split(), S2.split(), S3.split(), S4.split()]\n",
        "values = data[0]+data[1]+data[2]+data[3]\n",
        "print(\"Dados: \",values)\n",
        "\n",
        "# Label Encoding\n",
        "label_encoder = LabelEncoder()\n",
        "integer_encoded = label_encoder.fit_transform(values)\n",
        "print(\"Codificacao:\",integer_encoded)\n",
        "\n",
        "# One-Hot Encoding\n",
        "onehot_encoder = OneHotEncoder()\n",
        "onehot_encoded = onehot_encoder.fit_transform(data).toarray()\n",
        "print(\"Matriz da codificacao One-Hot:\\n\",onehot_encoded)"
      ],
      "execution_count": null,
      "outputs": [
        {
          "output_type": "stream",
          "text": [
            "Dados:  ['cachorro', 'morde', 'homem', 'homem', 'morde', 'cachorro', 'cachorro', 'come', 'carne', 'homem', 'come', 'comida']\n",
            "Codificacao: [0 5 4 4 5 0 0 2 1 4 2 3]\n",
            "Matriz da codificacao One-Hot:\n",
            " [[1. 0. 0. 1. 0. 0. 0. 1.]\n",
            " [0. 1. 0. 1. 1. 0. 0. 0.]\n",
            " [1. 0. 1. 0. 0. 1. 0. 0.]\n",
            " [0. 1. 1. 0. 0. 0. 1. 0.]]\n"
          ],
          "name": "stdout"
        }
      ]
    },
    {
      "cell_type": "markdown",
      "metadata": {
        "id": "H_UyZDziL1-9"
      },
      "source": [
        "### ***Bag of Words***"
      ]
    },
    {
      "cell_type": "code",
      "metadata": {
        "id": "4IX2g0f5L5zt",
        "outputId": "e20b1974-98f0-4313-ef4b-f177f02592f6",
        "colab": {
          "base_uri": "https://localhost:8080/",
          "height": 92
        }
      },
      "source": [
        "#---------------------\n",
        "# Bag of Words - BoW\n",
        "#---------------------\n",
        "\n",
        "documents = [\"Cachorro morde homem.\",\n",
        "             \"Homem morde cachorro.\", \n",
        "             \"Cachorro come carne.\", \n",
        "             \"Homem come comida.\"]\n",
        "\n",
        "processed_docs = [doc.lower().replace(\".\",\"\") for doc in documents]\n",
        "processed_docs"
      ],
      "execution_count": null,
      "outputs": [
        {
          "output_type": "execute_result",
          "data": {
            "text/plain": [
              "['cachorro morde homem',\n",
              " 'homem morde cachorro',\n",
              " 'cachorro come carne',\n",
              " 'homem come comida']"
            ]
          },
          "metadata": {
            "tags": []
          },
          "execution_count": 11
        }
      ]
    },
    {
      "cell_type": "code",
      "metadata": {
        "id": "MJEa5xmpMG4t",
        "outputId": "7599d523-2ae0-4d56-8967-886f54941349",
        "colab": {
          "base_uri": "https://localhost:8080/",
          "height": 111
        }
      },
      "source": [
        "from sklearn.feature_extraction.text import CountVectorizer\n",
        "\n",
        "# look at the documents list\n",
        "print(\"Corpus: \", processed_docs)\n",
        "\n",
        "count_vect = CountVectorizer()\n",
        "\n",
        "# build a BOW representation for the corpus\n",
        "bow_rep = count_vect.fit_transform(processed_docs)\n",
        "\n",
        "# look at the vocabulary mapping\n",
        "print(\"Vocabulario: \", count_vect.vocabulary_)\n",
        "\n",
        "# see the BOW rep for first 2 documents\n",
        "print(\"Representacao BoW para 'cachorro morde homem': \", bow_rep[0].toarray())\n",
        "print(\"Representacao BoW para 'homem morde cachorro': \",bow_rep[3].toarray())\n",
        "\n",
        "# get the representation using this vocabulary, for a new text\n",
        "temp = count_vect.transform([\"cachorro e cachorro são amigos\"])\n",
        "print(\"Representacao Bow para 'cachorro e cachorro são amigos':\", temp.toarray())"
      ],
      "execution_count": null,
      "outputs": [
        {
          "output_type": "stream",
          "text": [
            "Corpus:  ['cachorro morde homem', 'homem morde cachorro', 'cachorro come carne', 'homem come comida']\n",
            "Vocabulario:  {'cachorro': 0, 'morde': 5, 'homem': 4, 'come': 2, 'carne': 1, 'comida': 3}\n",
            "Representacao BoW para 'cachorro morde homem':  [[1 0 0 0 1 1]]\n",
            "Representacao BoW para 'homem morde cachorro':  [[0 0 1 1 1 0]]\n",
            "Representacao Bow para 'cachorro e cachorro são amigos': [[2 0 0 0 0 0]]\n"
          ],
          "name": "stdout"
        }
      ]
    },
    {
      "cell_type": "markdown",
      "metadata": {
        "id": "A3_tCTfSNqRu"
      },
      "source": [
        "No código acima, representamos o texto considerando a frequência das palavras. Porém, às vezes, não nos importamos muito com a frequência, mas apenas queremos saber se uma palavra apareceu em um texto ou não. Ou seja, cada documento é representado como um vetor de 0s e 1s. Usaremos a opção `binary = True` no *CountVectorizer* para este propósito"
      ]
    },
    {
      "cell_type": "code",
      "metadata": {
        "id": "0RY4AGUkNxPU",
        "outputId": "64916afd-0615-4afc-b0d8-a60ff02c31df",
        "colab": {
          "base_uri": "https://localhost:8080/",
          "height": 36
        }
      },
      "source": [
        "# BoW with binary vectors\n",
        "count_vect = CountVectorizer(binary=True)\n",
        "bow_rep_bin = count_vect.fit_transform(processed_docs)\n",
        "temp = count_vect.transform([\"cachorro e cachorro são amigos\"])\n",
        "print(\"Bow representation for 'cachorro e cachorro são amigos':\", temp.toarray())"
      ],
      "execution_count": null,
      "outputs": [
        {
          "output_type": "stream",
          "text": [
            "Bow representation for 'cachorro e cachorro são amigos': [[1 0 0 0 0 0]]\n"
          ],
          "name": "stdout"
        }
      ]
    },
    {
      "cell_type": "markdown",
      "metadata": {
        "id": "tDWyt-en-lKX"
      },
      "source": [
        "### ***Bag of N-grams***"
      ]
    },
    {
      "cell_type": "code",
      "metadata": {
        "id": "bWeFsXXN-pta",
        "outputId": "8d68cd21-7022-4374-d7ca-e26aad49558d",
        "colab": {
          "base_uri": "https://localhost:8080/",
          "height": 92
        }
      },
      "source": [
        "# corpus\n",
        "documents = [\"Cachorro morde homem.\", \n",
        "             \"Homem morde cachorro.\", \n",
        "             \"Cachorro come carne.\", \n",
        "             \"Homem come comida.\"]\n",
        "\n",
        "processed_docs = [doc.lower().replace(\".\",\"\") for doc in documents]\n",
        "processed_docs"
      ],
      "execution_count": null,
      "outputs": [
        {
          "output_type": "execute_result",
          "data": {
            "text/plain": [
              "['cachorro morde homem',\n",
              " 'homem morde cachorro',\n",
              " 'cachorro come carne',\n",
              " 'homem come comida']"
            ]
          },
          "metadata": {
            "tags": []
          },
          "execution_count": 14
        }
      ]
    },
    {
      "cell_type": "code",
      "metadata": {
        "id": "fT6UpjWx_H6O",
        "outputId": "fd69da5e-3f4a-4eaf-c6fc-32d5539684c9",
        "colab": {
          "base_uri": "https://localhost:8080/",
          "height": 92
        }
      },
      "source": [
        "from sklearn.feature_extraction.text import CountVectorizer\n",
        "\n",
        "# Ngram vectorization example with count vectorizer and uni, bi, trigrams\n",
        "count_vect = CountVectorizer(ngram_range=(1,3))\n",
        "\n",
        "# Build a BOW representation for the corpus\n",
        "bow_rep = count_vect.fit_transform(processed_docs)\n",
        "\n",
        "# Look at the vocabulary mapping\n",
        "print(\"Vocabulario: \", count_vect.vocabulary_)\n",
        "\n",
        "# see the BOW rep for first 2 documents\n",
        "print(\"Representacao BoW para 'cachorro morde homem': \", bow_rep[0].toarray())\n",
        "print(\"Representacao BoW para 'homem morde cachorro: \",bow_rep[1].toarray())\n",
        "\n",
        "# get the representation using this vocabulary, for a new text\n",
        "temp = count_vect.transform([\"cachorro e cachorro são amigos\"])\n",
        "\n",
        "print(\"Representacao BoW para 'cachorro e cachorro são amigos':\", temp.toarray())"
      ],
      "execution_count": null,
      "outputs": [
        {
          "output_type": "stream",
          "text": [
            "Vocabulario:  {'cachorro morde homem': 1, 'homem morde cachorro': 3, 'cachorro come carne': 0, 'homem come comida': 2}\n",
            "Representacao BoW para 'cachorro morde homem':  [[0 1 0 0]]\n",
            "Representacao BoW para 'homem morde cachorro:  [[0 0 0 1]]\n",
            "Representacao BoW para 'cachorro e cachorro são amigos': [[0 0 0 0]]\n"
          ],
          "name": "stdout"
        }
      ]
    },
    {
      "cell_type": "markdown",
      "metadata": {
        "id": "KEZw7HmlAPO_"
      },
      "source": [
        "### ***TF-IDF***"
      ]
    },
    {
      "cell_type": "code",
      "metadata": {
        "id": "NbLNPGWMASq_",
        "outputId": "de4a5758-1e4c-4bd6-c989-307feda7f32a",
        "colab": {
          "base_uri": "https://localhost:8080/",
          "height": 92
        }
      },
      "source": [
        "# corpus\n",
        "documents = [\"Cachorro morde homem.\", \n",
        "             \"Homem morde cachorro.\", \n",
        "             \"Cachorro come carne.\", \n",
        "             \"Homem come comida.\"]\n",
        "\n",
        "processed_docs = [doc.lower().replace(\".\",\"\") for doc in documents]\n",
        "processed_docs"
      ],
      "execution_count": null,
      "outputs": [
        {
          "output_type": "execute_result",
          "data": {
            "text/plain": [
              "['cachorro morde homem',\n",
              " 'homem morde cachorro',\n",
              " 'cachorro come carne',\n",
              " 'homem come comida']"
            ]
          },
          "metadata": {
            "tags": []
          },
          "execution_count": 20
        }
      ]
    },
    {
      "cell_type": "code",
      "metadata": {
        "id": "EeIwHPDJAZRx",
        "outputId": "5019f0fb-59d9-4fa6-9de3-855faa52cf57",
        "colab": {
          "base_uri": "https://localhost:8080/",
          "height": 241
        }
      },
      "source": [
        "# Scikit-Learn\n",
        "from sklearn.feature_extraction.text import TfidfVectorizer\n",
        "\n",
        "tfidf = TfidfVectorizer()\n",
        "bow_rep_tfidf = tfidf.fit_transform(processed_docs)\n",
        "\n",
        "# IDF for all words in the vocabulary\n",
        "print(\"IDF for all words in the vocabulary\",tfidf.idf_)\n",
        "print(\"-\"*10)\n",
        "\n",
        "# all words in the vocabulary.\n",
        "print(\"All words in the vocabulary\",tfidf.get_feature_names())\n",
        "print(\"-\"*10)\n",
        "\n",
        "#TFIDF representation for all documents in our corpus \n",
        "print(\"TFIDF representation for all documents in our corpus\\n\",bow_rep_tfidf.toarray()) \n",
        "print(\"-\"*10)\n",
        "\n",
        "temp = tfidf.transform([\"dog and man are friends\"])\n",
        "print(\"Tfidf representation for 'dog and man are friends':\\n\", temp.toarray())"
      ],
      "execution_count": null,
      "outputs": [
        {
          "output_type": "stream",
          "text": [
            "IDF for all words in the vocabulary [1.22314355 1.91629073 1.51082562 1.91629073 1.22314355 1.51082562]\n",
            "----------\n",
            "All words in the vocabulary ['cachorro', 'carne', 'come', 'comida', 'homem', 'morde']\n",
            "----------\n",
            "TFIDF representation for all documents in our corpus\n",
            " [[0.53256952 0.         0.         0.         0.53256952 0.65782931]\n",
            " [0.53256952 0.         0.         0.         0.53256952 0.65782931]\n",
            " [0.44809973 0.70203482 0.55349232 0.         0.         0.        ]\n",
            " [0.         0.         0.55349232 0.70203482 0.44809973 0.        ]]\n",
            "----------\n",
            "Tfidf representation for 'dog and man are friends':\n",
            " [[0. 0. 0. 0. 0. 0.]]\n"
          ],
          "name": "stdout"
        }
      ]
    }
  ]
}