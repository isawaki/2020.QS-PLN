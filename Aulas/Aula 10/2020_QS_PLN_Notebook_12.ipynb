{
  "nbformat": 4,
  "nbformat_minor": 0,
  "metadata": {
    "colab": {
      "name": "2020-QS PLN Notebook 12.ipynb",
      "provenance": [],
      "collapsed_sections": [
        "F0HoXZ2UmnZ5"
      ],
      "toc_visible": true,
      "authorship_tag": "ABX9TyPQpzl9SEvWm4dlWJA+YYt1",
      "include_colab_link": true
    },
    "kernelspec": {
      "name": "python3",
      "display_name": "Python 3"
    }
  },
  "cells": [
    {
      "cell_type": "markdown",
      "metadata": {
        "id": "view-in-github",
        "colab_type": "text"
      },
      "source": [
        "<a href=\"https://colab.research.google.com/github/adalves-ufabc/2020.QS-PLN/blob/main/2020_QS_PLN_Notebook_12.ipynb\" target=\"_parent\"><img src=\"https://colab.research.google.com/assets/colab-badge.svg\" alt=\"Open In Colab\"/></a>"
      ]
    },
    {
      "cell_type": "markdown",
      "metadata": {
        "id": "F0HoXZ2UmnZ5"
      },
      "source": [
        "# **Processamento de Linguagem Natural [2020.QS]**\n",
        "Prof. Alexandre Donizeti Alves"
      ]
    },
    {
      "cell_type": "markdown",
      "metadata": {
        "id": "S2lsDjdQmu97"
      },
      "source": [
        "# **Convertendo Texto para *Features***\n",
        "\n",
        "---"
      ]
    },
    {
      "cell_type": "markdown",
      "metadata": {
        "id": "30LwWUoEm_pH"
      },
      "source": [
        "### **01 - *One Hot Encoding***"
      ]
    },
    {
      "cell_type": "code",
      "metadata": {
        "id": "2ZlU60GyngSD",
        "outputId": "c8f6f958-ad60-4b46-c058-3936ee8550e1",
        "colab": {
          "base_uri": "https://localhost:8080/",
          "height": 175
        }
      },
      "source": [
        "#----------------------------------------------------\n",
        "# Converting Text to Features Using One Hot Encoding  \n",
        "#----------------------------------------------------\n",
        "\n",
        "# importing the library \n",
        "import pandas as pd\n",
        "\n",
        "text = \"Eu estou aprendendo PLN\"\n",
        "\n",
        "# generating the features\n",
        "pd.get_dummies(text.split())"
      ],
      "execution_count": null,
      "outputs": [
        {
          "output_type": "execute_result",
          "data": {
            "text/html": [
              "<div>\n",
              "<style scoped>\n",
              "    .dataframe tbody tr th:only-of-type {\n",
              "        vertical-align: middle;\n",
              "    }\n",
              "\n",
              "    .dataframe tbody tr th {\n",
              "        vertical-align: top;\n",
              "    }\n",
              "\n",
              "    .dataframe thead th {\n",
              "        text-align: right;\n",
              "    }\n",
              "</style>\n",
              "<table border=\"1\" class=\"dataframe\">\n",
              "  <thead>\n",
              "    <tr style=\"text-align: right;\">\n",
              "      <th></th>\n",
              "      <th>Eu</th>\n",
              "      <th>PLN</th>\n",
              "      <th>aprendendo</th>\n",
              "      <th>estou</th>\n",
              "    </tr>\n",
              "  </thead>\n",
              "  <tbody>\n",
              "    <tr>\n",
              "      <th>0</th>\n",
              "      <td>1</td>\n",
              "      <td>0</td>\n",
              "      <td>0</td>\n",
              "      <td>0</td>\n",
              "    </tr>\n",
              "    <tr>\n",
              "      <th>1</th>\n",
              "      <td>0</td>\n",
              "      <td>0</td>\n",
              "      <td>0</td>\n",
              "      <td>1</td>\n",
              "    </tr>\n",
              "    <tr>\n",
              "      <th>2</th>\n",
              "      <td>0</td>\n",
              "      <td>0</td>\n",
              "      <td>1</td>\n",
              "      <td>0</td>\n",
              "    </tr>\n",
              "    <tr>\n",
              "      <th>3</th>\n",
              "      <td>0</td>\n",
              "      <td>1</td>\n",
              "      <td>0</td>\n",
              "      <td>0</td>\n",
              "    </tr>\n",
              "  </tbody>\n",
              "</table>\n",
              "</div>"
            ],
            "text/plain": [
              "   Eu  PLN  aprendendo  estou\n",
              "0   1    0           0      0\n",
              "1   0    0           0      1\n",
              "2   0    0           1      0\n",
              "3   0    1           0      0"
            ]
          },
          "metadata": {
            "tags": []
          },
          "execution_count": 22
        }
      ]
    },
    {
      "cell_type": "markdown",
      "metadata": {
        "id": "WAGbgjqvnjfo"
      },
      "source": [
        "### **02 - *Count vectorizer***"
      ]
    },
    {
      "cell_type": "markdown",
      "metadata": {
        "id": "VTKCCkqyqPSx"
      },
      "source": [
        "A abordagem no exemplo anterior tem uma desvantagem. Não leva em consideração a frequência de uma palavra. Se uma determinada palavra aparecer várias vezes, há uma chance de perder a informação se ela não for incluída na análise. Um vetorizador de contagem (*count vectorizer*) resolverá esse problema.\n"
      ]
    },
    {
      "cell_type": "code",
      "metadata": {
        "id": "1lRPxpgInrJm",
        "outputId": "723e918c-5169-40bd-e760-7ded7211f30d",
        "colab": {
          "base_uri": "https://localhost:8080/",
          "height": 54
        }
      },
      "source": [
        "#-----------------------------------------------------\n",
        "# Converting text to features using Count Vectorizing \n",
        "#-----------------------------------------------------\n",
        "\n",
        "# importing the function \n",
        "from sklearn.feature_extraction.text import CountVectorizer\n",
        "\n",
        "text = [\"Eu amo PLN e eu irei aprender pln em 3 meses\"]\n",
        "\n",
        "# create the transform\n",
        "vectorizer = CountVectorizer()\n",
        "\n",
        "# tokenizing\n",
        "vectorizer.fit(text)\n",
        "\n",
        "# encode document\n",
        "vector = vectorizer.transform(text)\n",
        "\n",
        "# summarize & generating output\n",
        "print(vectorizer.vocabulary_)\n",
        "print(vector.toarray())"
      ],
      "execution_count": null,
      "outputs": [
        {
          "output_type": "stream",
          "text": [
            "{'eu': 3, 'amo': 0, 'pln': 6, 'irei': 4, 'aprender': 1, 'em': 2, 'meses': 5}\n",
            "[[1 1 1 2 1 1 2]]\n"
          ],
          "name": "stdout"
        }
      ]
    },
    {
      "cell_type": "markdown",
      "metadata": {
        "id": "DcWL4ePGnsng"
      },
      "source": [
        "### **03 - *N-grams***"
      ]
    },
    {
      "cell_type": "code",
      "metadata": {
        "id": "mrTUYkhyxL7S",
        "outputId": "5761ad8b-5fd1-47b2-d813-2e1da1965156",
        "colab": {
          "base_uri": "https://localhost:8080/",
          "height": 73
        }
      },
      "source": [
        "import nltk\n",
        "nltk.download('punkt')"
      ],
      "execution_count": null,
      "outputs": [
        {
          "output_type": "stream",
          "text": [
            "[nltk_data] Downloading package punkt to /root/nltk_data...\n",
            "[nltk_data]   Package punkt is already up-to-date!\n"
          ],
          "name": "stdout"
        },
        {
          "output_type": "execute_result",
          "data": {
            "text/plain": [
              "True"
            ]
          },
          "metadata": {
            "tags": []
          },
          "execution_count": 25
        }
      ]
    },
    {
      "cell_type": "code",
      "metadata": {
        "id": "9AzHev_lnw4a",
        "outputId": "1be0875b-7927-4710-9985-9bebb37179d8",
        "colab": {
          "base_uri": "https://localhost:8080/",
          "height": 92
        }
      },
      "source": [
        "#--------------------\n",
        "# Generating N-grams \n",
        "#--------------------\n",
        "\n",
        "# Generating N-grams using TextBlob\n",
        "\n",
        "text = \"Eu estou aprendendo PLN\"\n",
        "\n",
        "# import textblob\n",
        "from textblob import TextBlob\n",
        "\n",
        "# for unigram : use n = 1\n",
        "TextBlob(text).ngrams(1)"
      ],
      "execution_count": null,
      "outputs": [
        {
          "output_type": "execute_result",
          "data": {
            "text/plain": [
              "[WordList(['Eu']),\n",
              " WordList(['estou']),\n",
              " WordList(['aprendendo']),\n",
              " WordList(['PLN'])]"
            ]
          },
          "metadata": {
            "tags": []
          },
          "execution_count": 26
        }
      ]
    },
    {
      "cell_type": "code",
      "metadata": {
        "id": "TLZO7mPHxVUa",
        "outputId": "4f5b2b18-f79c-4642-e232-50a7c47b0298",
        "colab": {
          "base_uri": "https://localhost:8080/",
          "height": 73
        }
      },
      "source": [
        "# for bigrams, use n = 2 \n",
        "TextBlob(text).ngrams(2)"
      ],
      "execution_count": null,
      "outputs": [
        {
          "output_type": "execute_result",
          "data": {
            "text/plain": [
              "[WordList(['Eu', 'estou']),\n",
              " WordList(['estou', 'aprendendo']),\n",
              " WordList(['aprendendo', 'PLN'])]"
            ]
          },
          "metadata": {
            "tags": []
          },
          "execution_count": 27
        }
      ]
    },
    {
      "cell_type": "code",
      "metadata": {
        "id": "0o0ou7-1xk-M",
        "outputId": "1b616e43-cc64-41cc-e2d6-135561e88881",
        "colab": {
          "base_uri": "https://localhost:8080/",
          "height": 74
        }
      },
      "source": [
        "# Bigram-based features for a document\n",
        "\n",
        "# importing the function \n",
        "from sklearn.feature_extraction.text import CountVectorizer\n",
        "\n",
        "# text\n",
        "text = [\"Eu amo PLN e eu irei aprender PLN em 3 meses\"]\n",
        "\n",
        "# create the transform\n",
        "vectorizer = CountVectorizer(ngram_range=(2, 2))\n",
        "\n",
        "# tokenizing\n",
        "vectorizer.fit(text)\n",
        "\n",
        "# encode document\n",
        "vector = vectorizer.transform(text)\n",
        "\n",
        "# summarize & generating output\n",
        "print(vectorizer.vocabulary_)\n",
        "print(vector.toarray())"
      ],
      "execution_count": null,
      "outputs": [
        {
          "output_type": "stream",
          "text": [
            "{'eu amo': 3, 'amo pln': 0, 'pln eu': 7, 'eu irei': 4, 'irei aprender': 5, 'aprender pln': 1, 'pln em': 6, 'em meses': 2}\n",
            "[[1 1 1 1 1 1 1 1]]\n"
          ],
          "name": "stdout"
        }
      ]
    },
    {
      "cell_type": "markdown",
      "metadata": {
        "id": "bnOvEyv9n2Zr"
      },
      "source": [
        "### **04 - *Co-occurrence matrix***"
      ]
    },
    {
      "cell_type": "markdown",
      "metadata": {
        "id": "rCj5MkFozGmb"
      },
      "source": [
        "Uma matriz de co-ocorrência é como um vetorizador de contagem, onde conta a ocorrência das palavras juntas, em vez de palavras individuais"
      ]
    },
    {
      "cell_type": "code",
      "metadata": {
        "id": "plBTA_0joBBU"
      },
      "source": [
        "#---------------------------------\n",
        "# Generating Co-occurrence Matrix \n",
        "#---------------------------------\n",
        "\n",
        "import numpy as np \n",
        "import nltk\n",
        "from nltk import bigrams    \n",
        "import itertools\n",
        "\n",
        "def co_occurrence_matrix(corpus):\n",
        "    vocab = set(corpus)\n",
        "    vocab = list(vocab)\n",
        "    vocab_to_index = { word:i for i, word in enumerate(vocab) }\n",
        "\n",
        "    # create bigrams from all words in corpus\n",
        "    bi_grams = list(bigrams(corpus))\n",
        "    \n",
        "    # frequency distribution of bigrams ((word1, word2), num_occurrences)\n",
        "    bigram_freq = nltk.FreqDist(bi_grams).most_common(len(bi_grams))\n",
        "\n",
        "    # initialise co-occurrence matrix\n",
        "    # co_occurrence_matrix[current][previous]\n",
        "    co_occurrence_matrix = np.zeros((len(vocab), len(vocab)))\n",
        "\n",
        "    # Loop through the bigrams taking the current and previous word,\n",
        "    # and the number of occurrences of the bigram\n",
        "    for bigram in bigram_freq:\n",
        "        current = bigram[0][1]\n",
        "        previous = bigram[0][0]\n",
        "        count = bigram[1]\n",
        "        pos_current = vocab_to_index[current]\n",
        "        pos_previous = vocab_to_index[previous]\n",
        "        co_occurrence_matrix[pos_current][pos_previous] = count \n",
        "    co_occurrence_matrix = np.matrix(co_occurrence_matrix)\n",
        "\n",
        "    # return the matrix and the index\n",
        "    return co_occurrence_matrix, vocab_to_index"
      ],
      "execution_count": null,
      "outputs": []
    },
    {
      "cell_type": "code",
      "metadata": {
        "id": "o4NuQfPuzuNV",
        "outputId": "a500d55c-d82e-4a66-be13-840374ebc469",
        "colab": {
          "base_uri": "https://localhost:8080/",
          "height": 260
        }
      },
      "source": [
        "# sentences for testing\n",
        "\n",
        "sentences = [['I', 'love', 'nlp'],\n",
        "\t\t\t       ['I', 'love','to', 'learn'],\n",
        "\t\t\t       ['nlp', 'is', 'future'],\n",
        "\t\t\t       ['nlp', 'is', 'cool']]\n",
        "\n",
        "# create one list using many lists\n",
        "merged = list(itertools.chain.from_iterable(sentences))\n",
        "merged"
      ],
      "execution_count": null,
      "outputs": [
        {
          "output_type": "execute_result",
          "data": {
            "text/plain": [
              "['I',\n",
              " 'love',\n",
              " 'nlp',\n",
              " 'I',\n",
              " 'love',\n",
              " 'to',\n",
              " 'learn',\n",
              " 'nlp',\n",
              " 'is',\n",
              " 'future',\n",
              " 'nlp',\n",
              " 'is',\n",
              " 'cool']"
            ]
          },
          "metadata": {
            "tags": []
          },
          "execution_count": 34
        }
      ]
    },
    {
      "cell_type": "code",
      "metadata": {
        "id": "ErAhLUKZ0fQ5",
        "outputId": "d2418d06-2ccd-4d29-aea9-dfb0b7c4d7ac",
        "colab": {
          "base_uri": "https://localhost:8080/",
          "height": 204
        }
      },
      "source": [
        "matrix, vocab_to_index = co_occurrence_matrix(merged)\n",
        "print( matrix )\n",
        "print( vocab_to_index )\n",
        "print( matrix[0] )\n"
      ],
      "execution_count": null,
      "outputs": [
        {
          "output_type": "stream",
          "text": [
            "[[0. 0. 0. 1. 0. 0. 0. 0.]\n",
            " [0. 0. 1. 0. 0. 0. 0. 0.]\n",
            " [0. 0. 0. 0. 1. 0. 1. 1.]\n",
            " [0. 0. 2. 0. 0. 0. 0. 0.]\n",
            " [0. 0. 0. 1. 0. 0. 0. 0.]\n",
            " [0. 0. 0. 0. 0. 0. 1. 0.]\n",
            " [0. 2. 0. 0. 0. 0. 0. 0.]\n",
            " [0. 0. 0. 0. 0. 1. 0. 0.]]\n",
            "{'cool': 0, 'I': 1, 'nlp': 2, 'is': 3, 'future': 4, 'to': 5, 'love': 6, 'learn': 7}\n",
            "[[0. 0. 0. 1. 0. 0. 0. 0.]]\n"
          ],
          "name": "stdout"
        }
      ]
    },
    {
      "cell_type": "code",
      "metadata": {
        "id": "wnRCFx8_06Q0",
        "outputId": "9bd61aac-81cd-4a23-edbd-1375d601f041",
        "colab": {
          "base_uri": "https://localhost:8080/",
          "height": 185
        }
      },
      "source": [
        "# generate the matrix\n",
        "CoMatrixFinal = pd.DataFrame(matrix, columns=vocab_to_index, index=vocab_to_index)\n",
        "print(CoMatrixFinal)"
      ],
      "execution_count": null,
      "outputs": [
        {
          "output_type": "stream",
          "text": [
            "        cool    I  nlp   is  future   to  love  learn\n",
            "cool     0.0  0.0  0.0  1.0     0.0  0.0   0.0    0.0\n",
            "I        0.0  0.0  1.0  0.0     0.0  0.0   0.0    0.0\n",
            "nlp      0.0  0.0  0.0  0.0     1.0  0.0   1.0    1.0\n",
            "is       0.0  0.0  2.0  0.0     0.0  0.0   0.0    0.0\n",
            "future   0.0  0.0  0.0  1.0     0.0  0.0   0.0    0.0\n",
            "to       0.0  0.0  0.0  0.0     0.0  0.0   1.0    0.0\n",
            "love     0.0  2.0  0.0  0.0     0.0  0.0   0.0    0.0\n",
            "learn    0.0  0.0  0.0  0.0     0.0  1.0   0.0    0.0\n"
          ],
          "name": "stdout"
        }
      ]
    },
    {
      "cell_type": "markdown",
      "metadata": {
        "id": "08Ii96eaoCbt"
      },
      "source": [
        "### **05 - *Hash vectorizer***"
      ]
    },
    {
      "cell_type": "markdown",
      "metadata": {
        "id": "ajq3imqf3yMu"
      },
      "source": [
        "No entanto, um vetorizador de contagem e uma matriz de coocorrência têm uma limitação. Nestes métodos, o vocabulário pode se tornar muito grande e causar problemas de memória/computação.\n",
        "\n",
        "Vetorizador Hash (*Hash Vectorizer*) é eficiente em termos de memória e, em vez de armazenar os tokens como strings, o vetorizador aplica   hashing para codificá-los como índices numéricos."
      ]
    },
    {
      "cell_type": "code",
      "metadata": {
        "id": "Vab1JdkNoIvb",
        "outputId": "1f230d64-f0c2-41db-e18f-8e6b285f1a1e",
        "colab": {
          "base_uri": "https://localhost:8080/",
          "height": 73
        }
      },
      "source": [
        "from sklearn.feature_extraction.text import HashingVectorizer\n",
        "\n",
        "# list of text documents\n",
        "text = [\"A ligeira raposa marrom saltou sobre o cachorro preguiçoso.\"]\n",
        "\n",
        "# transform\n",
        "vectorizer = HashingVectorizer(n_features=10)\n",
        "\n",
        "# create the hashing vector\n",
        "vector = vectorizer.transform(text)\n",
        "\n",
        "# summarize the vector\n",
        "print(vector.shape)\n",
        "print(vector.toarray())"
      ],
      "execution_count": null,
      "outputs": [
        {
          "output_type": "stream",
          "text": [
            "(1, 10)\n",
            "[[-0.37796447  0.          0.          0.37796447  0.          0.37796447\n",
            "  -0.37796447  0.37796447 -0.37796447 -0.37796447]]\n"
          ],
          "name": "stdout"
        }
      ]
    },
    {
      "cell_type": "markdown",
      "metadata": {
        "id": "_cGa2TMYoLAb"
      },
      "source": [
        "### **06 - *Term Frequence-Inverse Document Frequency (TF-IDF)***"
      ]
    },
    {
      "cell_type": "code",
      "metadata": {
        "id": "03LtLsCCoXGL",
        "outputId": "fea9326c-988e-45bf-9053-e9d68a636072",
        "colab": {
          "base_uri": "https://localhost:8080/",
          "height": 73
        }
      },
      "source": [
        "#------------------------------------------\n",
        "# Converting Text to Features Using TF-IDF \n",
        "#------------------------------------------\n",
        "\n",
        "# import TfidfVectorizer\n",
        "from sklearn.feature_extraction.text import TfidfVectorizer\n",
        "\n",
        "text = [\"A ligeira raposa marrom saltou sobre o cachorro preguiçoso.\",\n",
        "        \"O cachorro.\",\n",
        "        \"A raposa\"]\n",
        "\n",
        "# create the transform\n",
        "vectorizer = TfidfVectorizer()\n",
        "\n",
        "# tokenize and build vocab\n",
        "vectorizer.fit(text)\n",
        "\n",
        "# summarize\n",
        "print(vectorizer.vocabulary_)\n",
        "print(vectorizer.idf_)"
      ],
      "execution_count": null,
      "outputs": [
        {
          "output_type": "stream",
          "text": [
            "{'ligeira': 1, 'raposa': 4, 'marrom': 2, 'saltou': 5, 'sobre': 6, 'cachorro': 0, 'preguiçoso': 3}\n",
            "[1.28768207 1.69314718 1.69314718 1.69314718 1.28768207 1.69314718\n",
            " 1.69314718]\n"
          ],
          "name": "stdout"
        }
      ]
    },
    {
      "cell_type": "markdown",
      "metadata": {
        "id": "ojBjkrBQm4Lj"
      },
      "source": [
        "**Referência**:\n",
        "\n",
        "Capítulo 3: *Converting Text to Features*\n",
        "\n",
        "https://www.apress.com/br/book/9781484242667\n",
        "\n",
        "![image.png](data:image/png;base64,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)"
      ]
    }
  ]
}