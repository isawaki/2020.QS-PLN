{
  "nbformat": 4,
  "nbformat_minor": 0,
  "metadata": {
    "colab": {
      "name": "2020-QS PLN Notebook 01.ipynb",
      "provenance": [],
      "authorship_tag": "ABX9TyN01BtbjQSJ7WG3oSm/9iS5",
      "include_colab_link": true
    },
    "kernelspec": {
      "name": "python3",
      "display_name": "Python 3"
    }
  },
  "cells": [
    {
      "cell_type": "markdown",
      "metadata": {
        "id": "view-in-github",
        "colab_type": "text"
      },
      "source": [
        "<a href=\"https://colab.research.google.com/github/adalves-ufabc/2020.QS-PLN/blob/main/2020_QS_PLN_Notebook_01.ipynb\" target=\"_parent\"><img src=\"https://colab.research.google.com/assets/colab-badge.svg\" alt=\"Open In Colab\"/></a>"
      ]
    },
    {
      "cell_type": "markdown",
      "metadata": {
        "id": "Y6QILOdpOjwv"
      },
      "source": [
        "# **Processamento de Linguagem Natural [2020.QS]**\n",
        "Prof. Alexandre Donizeti Alves"
      ]
    },
    {
      "cell_type": "markdown",
      "metadata": {
        "id": "nmK05FgcOzL2"
      },
      "source": [
        "## **Expressões Regulares** [*Regular Expressions*]\n",
        "---\n",
        "\n"
      ]
    },
    {
      "cell_type": "markdown",
      "metadata": {
        "id": "nY_1bKNcPQzR"
      },
      "source": [
        "### **Encontrando padrões de texto sem usar expressões regulares**\n",
        "[*Finding Patterns of Text Without Regular Expressions*]"
      ]
    },
    {
      "cell_type": "code",
      "metadata": {
        "id": "8nZjJG97Pq7V",
        "outputId": "c6d927ba-8b59-4d11-8452-75d0e4af74ca",
        "colab": {
          "base_uri": "https://localhost:8080/",
          "height": 87
        }
      },
      "source": [
        "# numero de telefone: tres numeros, um hifen, tres numeros, \n",
        "# um hifen e quatro numeros [999-999-9999]\n",
        "\n",
        "def isPhoneNumber(text):\n",
        "    if len(text) != 12:\n",
        "        return False      # not phone number-sized\n",
        "    for i in range(0, 3):\n",
        "        if not text[i].isdecimal():\n",
        "            return False  # not an area code\n",
        "    if text[3] != '-':\n",
        "        return False      # does not have first hyphen\n",
        "    for i in range(4, 7):\n",
        "        if not text[i].isdecimal():\n",
        "            return False  # does not have first 3 digits\n",
        "    if text[7] != '-':\n",
        "        return False      # does not have second hyphen\n",
        "    for i in range(8, 12):\n",
        "        if not text[i].isdecimal():\n",
        "            return False  # does not have last 4 digits\n",
        "    return True           # \"text\" is a phone number!\n",
        "\n",
        "print('415-555-4242 is a phone number:')\n",
        "print(isPhoneNumber('415-555-4242'))\n",
        "\n",
        "print('Moshi moshi is a phone number:')\n",
        "print(isPhoneNumber('Moshi moshi'))"
      ],
      "execution_count": null,
      "outputs": [
        {
          "output_type": "stream",
          "text": [
            "41-555-4242 is a phone number:\n",
            "False\n",
            "Moshi moshi is a phone number:\n",
            "False\n"
          ],
          "name": "stdout"
        }
      ]
    },
    {
      "cell_type": "code",
      "metadata": {
        "id": "8T-z_YBbQTNp",
        "outputId": "8ce15103-4375-4cb3-b33d-1bc07e2ece2c",
        "colab": {
          "base_uri": "https://localhost:8080/",
          "height": 69
        }
      },
      "source": [
        "message = 'Call me at 415-555-1011 tomorrow. 415-555-9999 is my office.'\n",
        "for i in range(len(message)):\n",
        "  chunk = message[i:i+12]\n",
        "  if isPhoneNumber(chunk):\n",
        "    print('Phone number found: ' + chunk)\n",
        "print('Done')"
      ],
      "execution_count": null,
      "outputs": [
        {
          "output_type": "stream",
          "text": [
            "Phone number found: 415-555-1011\n",
            "Phone number found: 415-555-9999\n",
            "Done\n"
          ],
          "name": "stdout"
        }
      ]
    },
    {
      "cell_type": "markdown",
      "metadata": {
        "id": "ImAq2ZP0Qx6s"
      },
      "source": [
        "### **Encontrando padrões de texto com expressões regulares** \n",
        "[*Finding Patterns of Text with Regular Expressions*]"
      ]
    },
    {
      "cell_type": "code",
      "metadata": {
        "id": "JaF0K3hZSMuL",
        "outputId": "ab0e3e2a-aea3-45b9-b586-0859719f8f83",
        "colab": {
          "base_uri": "https://localhost:8080/",
          "height": 52
        }
      },
      "source": [
        "import re\n",
        "\n",
        "# re.compile() fara um objeto 'Regex' de padrão ser retornado \n",
        "phoneNumRegex = re.compile(r'\\d\\d\\d-\\d\\d\\d-\\d\\d\\d\\d')\n",
        "\n",
        "#phoneNumRegex = re.compile('\\\\d\\\\d\\\\d-\\\\d\\\\d\\\\d-\\\\d\\\\d\\\\d\\\\d')\n",
        "#phoneNumRegex = re.compile(r'\\d{3}-\\d{3}-\\d{4}')\n",
        "\n",
        "# o metodo search retornara 'None' se o padrao regex nao for encontrado\n",
        "# Se o padrao for encontrado, o metodo search retornara um objeto 'Match'\n",
        "# Objetos 'Match' tem um metodo group() que retornara o texto correspondente\n",
        "# extraido da string pesquisada\n",
        "mo = phoneNumRegex.search('My number is 415-555-4242.')\n",
        "\n",
        "#print(mo)\n",
        "print('Phone number found: ' + mo.group())"
      ],
      "execution_count": null,
      "outputs": [
        {
          "output_type": "stream",
          "text": [
            "<_sre.SRE_Match object; span=(13, 25), match='415-555-4242'>\n",
            "Phone number found: 415-555-4242\n"
          ],
          "name": "stdout"
        }
      ]
    },
    {
      "cell_type": "code",
      "metadata": {
        "id": "sYQ9Ma7hSU-8",
        "outputId": "b56dd606-61ba-49f8-d141-5a05ed710b5f",
        "colab": {
          "base_uri": "https://localhost:8080/",
          "height": 35
        }
      },
      "source": [
        "# agrupando com parênteses [Grouping with Parentheses]\n",
        "phoneNumRegex = re.compile(r'(\\d\\d\\d)-(\\d\\d\\d-\\d\\d\\d\\d)')\n",
        "mo = phoneNumRegex.search('My number is 415-555-4242.')\n",
        "\n",
        "mo.group(1)"
      ],
      "execution_count": null,
      "outputs": [
        {
          "output_type": "execute_result",
          "data": {
            "application/vnd.google.colaboratory.intrinsic+json": {
              "type": "string"
            },
            "text/plain": [
              "'415'"
            ]
          },
          "metadata": {
            "tags": []
          },
          "execution_count": 227
        }
      ]
    },
    {
      "cell_type": "code",
      "metadata": {
        "id": "3VOzx_C2SvWY",
        "outputId": "3436e9d5-37d4-4251-e6f1-6cbd249d9601",
        "colab": {
          "base_uri": "https://localhost:8080/",
          "height": 36
        }
      },
      "source": [
        "mo.group(2)"
      ],
      "execution_count": null,
      "outputs": [
        {
          "output_type": "execute_result",
          "data": {
            "application/vnd.google.colaboratory.intrinsic+json": {
              "type": "string"
            },
            "text/plain": [
              "'555-4242'"
            ]
          },
          "metadata": {
            "tags": []
          },
          "execution_count": 155
        }
      ]
    },
    {
      "cell_type": "code",
      "metadata": {
        "id": "5IC-aAJyS0Gp",
        "outputId": "bde9bed6-b3c9-4607-bb1d-5f201f7564d4",
        "colab": {
          "base_uri": "https://localhost:8080/",
          "height": 36
        }
      },
      "source": [
        "mo.group(0)"
      ],
      "execution_count": null,
      "outputs": [
        {
          "output_type": "execute_result",
          "data": {
            "application/vnd.google.colaboratory.intrinsic+json": {
              "type": "string"
            },
            "text/plain": [
              "'415-555-4242'"
            ]
          },
          "metadata": {
            "tags": []
          },
          "execution_count": 156
        }
      ]
    },
    {
      "cell_type": "code",
      "metadata": {
        "id": "k91jeKK8S2NT",
        "outputId": "3cd59598-c824-466e-899f-5ecf01837ff7",
        "colab": {
          "base_uri": "https://localhost:8080/",
          "height": 36
        }
      },
      "source": [
        "mo.group()"
      ],
      "execution_count": null,
      "outputs": [
        {
          "output_type": "execute_result",
          "data": {
            "application/vnd.google.colaboratory.intrinsic+json": {
              "type": "string"
            },
            "text/plain": [
              "'415-555-4242'"
            ]
          },
          "metadata": {
            "tags": []
          },
          "execution_count": 157
        }
      ]
    },
    {
      "cell_type": "code",
      "metadata": {
        "id": "CVU3zT70S6CB",
        "outputId": "6ed74e34-8d59-46be-d7dc-b8327716a5ba",
        "colab": {
          "base_uri": "https://localhost:8080/",
          "height": 54
        }
      },
      "source": [
        "areaCode, mainNumber = mo.groups()\n",
        "print(areaCode)\n",
        "print(mainNumber)"
      ],
      "execution_count": null,
      "outputs": [
        {
          "output_type": "stream",
          "text": [
            "415\n",
            "555-4242\n"
          ],
          "name": "stdout"
        }
      ]
    },
    {
      "cell_type": "code",
      "metadata": {
        "id": "zNIq_OrkS_qA",
        "outputId": "c230a171-b4a1-41a5-c80b-a5a1bbe180b6",
        "colab": {
          "base_uri": "https://localhost:8080/",
          "height": 35
        }
      },
      "source": [
        "# se for necessario usar '(' e ')' --> use '\\(' e '\\)'\n",
        "phoneNumRegex = re.compile(r'(\\(\\d\\d\\d\\)) (\\d\\d\\d-\\d\\d\\d\\d)')\n",
        "mo = phoneNumRegex.search('My phone number is (415) 555-4242.')\n",
        "mo.group(1)"
      ],
      "execution_count": null,
      "outputs": [
        {
          "output_type": "execute_result",
          "data": {
            "application/vnd.google.colaboratory.intrinsic+json": {
              "type": "string"
            },
            "text/plain": [
              "'(415)'"
            ]
          },
          "metadata": {
            "tags": []
          },
          "execution_count": 230
        }
      ]
    },
    {
      "cell_type": "code",
      "metadata": {
        "id": "cmEWwwNqTHXE",
        "outputId": "84937612-78c0-4149-9612-e22662bb9e27",
        "colab": {
          "base_uri": "https://localhost:8080/",
          "height": 36
        }
      },
      "source": [
        "mo.group(2)"
      ],
      "execution_count": null,
      "outputs": [
        {
          "output_type": "execute_result",
          "data": {
            "application/vnd.google.colaboratory.intrinsic+json": {
              "type": "string"
            },
            "text/plain": [
              "'555-4242'"
            ]
          },
          "metadata": {
            "tags": []
          },
          "execution_count": 85
        }
      ]
    },
    {
      "cell_type": "markdown",
      "metadata": {
        "id": "IaRVhwpgTP8X"
      },
      "source": [
        "### **Fazendo a correspondência de vários grupos com pipe**\n",
        "[*Matching Multiple Groups with the Pipe*]"
      ]
    },
    {
      "cell_type": "code",
      "metadata": {
        "id": "HIsxKZhUTaxw",
        "outputId": "b72eb5d2-efaf-4b7b-f8f5-99fb95a6d9f1",
        "colab": {
          "base_uri": "https://localhost:8080/",
          "height": 36
        }
      },
      "source": [
        "heroRegex = re.compile (r'Batman|Tina Fey')\n",
        "mo1 = heroRegex.search('Batman and Tina Fey')\n",
        "mo1.group()"
      ],
      "execution_count": null,
      "outputs": [
        {
          "output_type": "execute_result",
          "data": {
            "application/vnd.google.colaboratory.intrinsic+json": {
              "type": "string"
            },
            "text/plain": [
              "'Batman'"
            ]
          },
          "metadata": {
            "tags": []
          },
          "execution_count": 160
        }
      ]
    },
    {
      "cell_type": "code",
      "metadata": {
        "id": "D3rbPCGWTeRg",
        "outputId": "9d2285a9-484e-4147-a158-591662d8c882",
        "colab": {
          "base_uri": "https://localhost:8080/",
          "height": 36
        }
      },
      "source": [
        "mo2 = heroRegex.search('Tina Fey and Batman')\n",
        "mo2.group()"
      ],
      "execution_count": null,
      "outputs": [
        {
          "output_type": "execute_result",
          "data": {
            "application/vnd.google.colaboratory.intrinsic+json": {
              "type": "string"
            },
            "text/plain": [
              "'Tina Fey'"
            ]
          },
          "metadata": {
            "tags": []
          },
          "execution_count": 87
        }
      ]
    },
    {
      "cell_type": "code",
      "metadata": {
        "id": "E4eyN8VKTKQQ",
        "outputId": "aa7a06d0-1d5f-4142-9715-7a03c676f538",
        "colab": {
          "base_uri": "https://localhost:8080/",
          "height": 35
        }
      },
      "source": [
        "batRegex = re.compile(r'Bat(man|mobile|copter|bat)')\n",
        "mo = batRegex.search('Batmobile lost a wheel')\n",
        "mo.group()"
      ],
      "execution_count": null,
      "outputs": [
        {
          "output_type": "execute_result",
          "data": {
            "application/vnd.google.colaboratory.intrinsic+json": {
              "type": "string"
            },
            "text/plain": [
              "'Batmobile'"
            ]
          },
          "metadata": {
            "tags": []
          },
          "execution_count": 231
        }
      ]
    },
    {
      "cell_type": "code",
      "metadata": {
        "id": "CEFFFSklTjEc",
        "outputId": "009a6736-6cd8-49fb-ed01-f7b47b008623",
        "colab": {
          "base_uri": "https://localhost:8080/",
          "height": 35
        }
      },
      "source": [
        "mo.group(1)"
      ],
      "execution_count": null,
      "outputs": [
        {
          "output_type": "execute_result",
          "data": {
            "application/vnd.google.colaboratory.intrinsic+json": {
              "type": "string"
            },
            "text/plain": [
              "'mobile'"
            ]
          },
          "metadata": {
            "tags": []
          },
          "execution_count": 237
        }
      ]
    },
    {
      "cell_type": "markdown",
      "metadata": {
        "id": "9agRVDi9Tm6S"
      },
      "source": [
        "### **Correspondência opcional usando ponto de interrogação**\n",
        "[*Optional Matching with the Question Mark*]"
      ]
    },
    {
      "cell_type": "code",
      "metadata": {
        "id": "NAuFi4dwTwHd",
        "outputId": "8132fab7-f4d0-46d7-ac9f-80f0fc372997",
        "colab": {
          "base_uri": "https://localhost:8080/",
          "height": 35
        }
      },
      "source": [
        "batRegex = re.compile(r'Bat(wo)?man')\n",
        "mo1 = batRegex.search('The Adventures of Batman')\n",
        "mo1.group()"
      ],
      "execution_count": null,
      "outputs": [
        {
          "output_type": "execute_result",
          "data": {
            "application/vnd.google.colaboratory.intrinsic+json": {
              "type": "string"
            },
            "text/plain": [
              "'Batman'"
            ]
          },
          "metadata": {
            "tags": []
          },
          "execution_count": 238
        }
      ]
    },
    {
      "cell_type": "code",
      "metadata": {
        "id": "AkV5v12wTzHZ",
        "outputId": "c5048301-75b7-42ed-9e1b-3bb031bda7ac",
        "colab": {
          "base_uri": "https://localhost:8080/",
          "height": 35
        }
      },
      "source": [
        "mo2 = batRegex.search('The Adventures of Batwoman')\n",
        "mo2.group()"
      ],
      "execution_count": null,
      "outputs": [
        {
          "output_type": "execute_result",
          "data": {
            "application/vnd.google.colaboratory.intrinsic+json": {
              "type": "string"
            },
            "text/plain": [
              "'Batwoman'"
            ]
          },
          "metadata": {
            "tags": []
          },
          "execution_count": 248
        }
      ]
    },
    {
      "cell_type": "code",
      "metadata": {
        "id": "yshbrd9ET1mQ",
        "outputId": "bf7aa583-d0ea-4eea-f66a-c9322e8f8509",
        "colab": {
          "base_uri": "https://localhost:8080/",
          "height": 36
        }
      },
      "source": [
        "phoneRegex = re.compile(r'(\\d\\d\\d-)?\\d\\d\\d-\\d\\d\\d\\d')\n",
        "mo1 = phoneRegex.search('My number is 415-555-4242')\n",
        "mo1.group()"
      ],
      "execution_count": null,
      "outputs": [
        {
          "output_type": "execute_result",
          "data": {
            "application/vnd.google.colaboratory.intrinsic+json": {
              "type": "string"
            },
            "text/plain": [
              "'415-555-4242'"
            ]
          },
          "metadata": {
            "tags": []
          },
          "execution_count": 172
        }
      ]
    },
    {
      "cell_type": "code",
      "metadata": {
        "id": "OamjQg-MT5o4",
        "outputId": "53d8790b-a478-4794-f056-c3cf513d36e8",
        "colab": {
          "base_uri": "https://localhost:8080/",
          "height": 35
        }
      },
      "source": [
        "# nao tem codigo de area\n",
        "mo2 = phoneRegex.search('My number is 555-4242')\n",
        "mo2.group()"
      ],
      "execution_count": null,
      "outputs": [
        {
          "output_type": "execute_result",
          "data": {
            "application/vnd.google.colaboratory.intrinsic+json": {
              "type": "string"
            },
            "text/plain": [
              "' 555-4242'"
            ]
          },
          "metadata": {
            "tags": []
          },
          "execution_count": 250
        }
      ]
    },
    {
      "cell_type": "markdown",
      "metadata": {
        "id": "InIywgyQT9l7"
      },
      "source": [
        "### **Correspondendo a zero ou mais ocorrências usando asterisco**\n",
        "[*Matching Zero or More with the Star*]"
      ]
    },
    {
      "cell_type": "code",
      "metadata": {
        "id": "O_7Q2c4hUIWn",
        "outputId": "05fe831d-82e8-4b5b-f398-60699b67556d",
        "colab": {
          "base_uri": "https://localhost:8080/",
          "height": 35
        }
      },
      "source": [
        "batRegex = re.compile(r'Bat(wo)*man')\n",
        "mo1 = batRegex.search('The Adventures of Batman')\n",
        "mo1.group()"
      ],
      "execution_count": null,
      "outputs": [
        {
          "output_type": "execute_result",
          "data": {
            "application/vnd.google.colaboratory.intrinsic+json": {
              "type": "string"
            },
            "text/plain": [
              "'Batman'"
            ]
          },
          "metadata": {
            "tags": []
          },
          "execution_count": 255
        }
      ]
    },
    {
      "cell_type": "code",
      "metadata": {
        "id": "d9-8a47DUMUY",
        "outputId": "6ace4f44-5021-476f-a173-1ffcd7c42d08",
        "colab": {
          "base_uri": "https://localhost:8080/",
          "height": 35
        }
      },
      "source": [
        "mo2 = batRegex.search('The Adventures of Batwoman')\n",
        "mo2.group()"
      ],
      "execution_count": null,
      "outputs": [
        {
          "output_type": "execute_result",
          "data": {
            "application/vnd.google.colaboratory.intrinsic+json": {
              "type": "string"
            },
            "text/plain": [
              "'Batwoman'"
            ]
          },
          "metadata": {
            "tags": []
          },
          "execution_count": 256
        }
      ]
    },
    {
      "cell_type": "code",
      "metadata": {
        "id": "8qJS_BXEUOwn",
        "outputId": "3f8a97af-8270-4463-f58f-562a2e330921",
        "colab": {
          "base_uri": "https://localhost:8080/",
          "height": 35
        }
      },
      "source": [
        "mo3 = batRegex.search('The Adventures of Batwowowowowowowoman')\n",
        "mo3.group()"
      ],
      "execution_count": null,
      "outputs": [
        {
          "output_type": "execute_result",
          "data": {
            "application/vnd.google.colaboratory.intrinsic+json": {
              "type": "string"
            },
            "text/plain": [
              "'Batwowowowowowowoman'"
            ]
          },
          "metadata": {
            "tags": []
          },
          "execution_count": 259
        }
      ]
    },
    {
      "cell_type": "markdown",
      "metadata": {
        "id": "YuAdHiDSUS7J"
      },
      "source": [
        "### **Correspondendo a uma ou mais ocorrências usando o sinal de adição**\n",
        "[*Matching One or More with the Plus*]"
      ]
    },
    {
      "cell_type": "code",
      "metadata": {
        "id": "mXYMceuuUaYH",
        "outputId": "f6d1bb74-af8d-4274-a7c7-5c7f1537bbc7",
        "colab": {
          "base_uri": "https://localhost:8080/",
          "height": 36
        }
      },
      "source": [
        "batRegex = re.compile(r'Bat(wo)+man')\n",
        "mo1 = batRegex.search('The Adventures of Batwoman')\n",
        "mo1.group()"
      ],
      "execution_count": null,
      "outputs": [
        {
          "output_type": "execute_result",
          "data": {
            "application/vnd.google.colaboratory.intrinsic+json": {
              "type": "string"
            },
            "text/plain": [
              "'Batwoman'"
            ]
          },
          "metadata": {
            "tags": []
          },
          "execution_count": 178
        }
      ]
    },
    {
      "cell_type": "code",
      "metadata": {
        "id": "yUiba72wUc48",
        "outputId": "83d0069d-8890-4125-c127-238bd6a54800",
        "colab": {
          "base_uri": "https://localhost:8080/",
          "height": 36
        }
      },
      "source": [
        "mo2 = batRegex.search('The Adventures of Batwowowowoman')\n",
        "mo2.group()"
      ],
      "execution_count": null,
      "outputs": [
        {
          "output_type": "execute_result",
          "data": {
            "application/vnd.google.colaboratory.intrinsic+json": {
              "type": "string"
            },
            "text/plain": [
              "'Batwowowowoman'"
            ]
          },
          "metadata": {
            "tags": []
          },
          "execution_count": 179
        }
      ]
    },
    {
      "cell_type": "code",
      "metadata": {
        "id": "J3IjUzzUUgG1",
        "outputId": "8ed78a6a-ce14-4e74-9873-a61f0a45d019",
        "colab": {
          "base_uri": "https://localhost:8080/",
          "height": 35
        }
      },
      "source": [
        "mo3 = batRegex.search('The Adventures of Batman')\n",
        "mo3 == None"
      ],
      "execution_count": null,
      "outputs": [
        {
          "output_type": "execute_result",
          "data": {
            "text/plain": [
              "False"
            ]
          },
          "metadata": {
            "tags": []
          },
          "execution_count": 263
        }
      ]
    },
    {
      "cell_type": "markdown",
      "metadata": {
        "id": "5xFWXfOpUjvG"
      },
      "source": [
        "### **Correspondendo a repetições específicas usando chaves**\n",
        " [*Matching Specific Repetitions with Braces*]"
      ]
    },
    {
      "cell_type": "code",
      "metadata": {
        "id": "Zm5_mGOdUqLs",
        "outputId": "d142325e-71dc-4abe-e731-63b63f1d5171",
        "colab": {
          "base_uri": "https://localhost:8080/",
          "height": 35
        }
      },
      "source": [
        "haRegex = re.compile(r'(Ha){3}')\n",
        "mo1 = haRegex.search('HaHaHa')\n",
        "mo1.group()"
      ],
      "execution_count": null,
      "outputs": [
        {
          "output_type": "execute_result",
          "data": {
            "application/vnd.google.colaboratory.intrinsic+json": {
              "type": "string"
            },
            "text/plain": [
              "'HaHaHa'"
            ]
          },
          "metadata": {
            "tags": []
          },
          "execution_count": 270
        }
      ]
    },
    {
      "cell_type": "code",
      "metadata": {
        "id": "pHh8NItHUs4z",
        "outputId": "21ff4672-ab24-428a-c1b9-c384e447761e",
        "colab": {
          "base_uri": "https://localhost:8080/",
          "height": 35
        }
      },
      "source": [
        "mo2 = haRegex.search('HaHa')\n",
        "mo2 == None"
      ],
      "execution_count": null,
      "outputs": [
        {
          "output_type": "execute_result",
          "data": {
            "text/plain": [
              "True"
            ]
          },
          "metadata": {
            "tags": []
          },
          "execution_count": 273
        }
      ]
    },
    {
      "cell_type": "markdown",
      "metadata": {
        "id": "sDnq826QUzYB"
      },
      "source": [
        "### **Correspondências greedy (gulosas) e nongreedy (não gulosa)**\n",
        "[*Greedy and Non-greedy Matching*]"
      ]
    },
    {
      "cell_type": "code",
      "metadata": {
        "id": "ihdZTKN7U_1b",
        "outputId": "bdb356bb-9552-4226-eb41-28a3082e3c44",
        "colab": {
          "base_uri": "https://localhost:8080/",
          "height": 35
        }
      },
      "source": [
        "# as expressoes regulares em Python sao greedy (gulosas) por default,\n",
        "# o que significa que, em situacoes ambiguas, a correspondencia sera\n",
        "# feita com a maior string possivel\n",
        "greedyHaRegex = re.compile(r'(Ha){3,5}')\n",
        "mo1 = greedyHaRegex.search('HaHaHaHaHa')\n",
        "mo1.group()"
      ],
      "execution_count": null,
      "outputs": [
        {
          "output_type": "execute_result",
          "data": {
            "application/vnd.google.colaboratory.intrinsic+json": {
              "type": "string"
            },
            "text/plain": [
              "'HaHaHaHaHa'"
            ]
          },
          "metadata": {
            "tags": []
          },
          "execution_count": 276
        }
      ]
    },
    {
      "cell_type": "code",
      "metadata": {
        "id": "JjYZtQJPVCbn",
        "outputId": "c637db28-eb9c-4f14-d4ec-20a538b8bf1a",
        "colab": {
          "base_uri": "https://localhost:8080/",
          "height": 35
        }
      },
      "source": [
        "# na versao nongreedy (nao gulosa) das chaves, que faz a correspondencia\n",
        "#com a menor string possivel, um ponto de interrogacao '?' deve ser usado\n",
        "# depois da chave de fechamento\n",
        "nongreedyHaRegex = re.compile(r'(Ha){3,5}?')\n",
        "mo2 = nongreedyHaRegex.search('HaHaHaHaHa')\n",
        "mo2.group()"
      ],
      "execution_count": null,
      "outputs": [
        {
          "output_type": "execute_result",
          "data": {
            "application/vnd.google.colaboratory.intrinsic+json": {
              "type": "string"
            },
            "text/plain": [
              "'HaHaHa'"
            ]
          },
          "metadata": {
            "tags": []
          },
          "execution_count": 278
        }
      ]
    },
    {
      "cell_type": "markdown",
      "metadata": {
        "id": "MRAkWCmfVGqv"
      },
      "source": [
        "### **Método findall()**\n",
        "[*The findall() Method*]"
      ]
    },
    {
      "cell_type": "code",
      "metadata": {
        "id": "71ePZM9cVVEE",
        "outputId": "ccb2d166-476e-4411-ca45-1043fc6a3623",
        "colab": {
          "base_uri": "https://localhost:8080/",
          "height": 35
        }
      },
      "source": [
        "phoneNumRegex = re.compile(r'\\d\\d\\d-\\d\\d\\d-\\d\\d\\d\\d')\n",
        "mo = phoneNumRegex.search('Cell: 415-555-9999 Work: 212-555-0000')\n",
        "mo.group()"
      ],
      "execution_count": null,
      "outputs": [
        {
          "output_type": "execute_result",
          "data": {
            "application/vnd.google.colaboratory.intrinsic+json": {
              "type": "string"
            },
            "text/plain": [
              "'415-555-9999'"
            ]
          },
          "metadata": {
            "tags": []
          },
          "execution_count": 279
        }
      ]
    },
    {
      "cell_type": "code",
      "metadata": {
        "id": "T3EYDhADVpYp",
        "outputId": "602dbf0d-06ca-4773-e714-e0e31e5a3aa1",
        "colab": {
          "base_uri": "https://localhost:8080/",
          "height": 36
        }
      },
      "source": [
        "# o metodo findall() retorna as strings de todas as correspondencias\n",
        "# na string pesquisada, ou seja, uma lista de strings - desde que\n",
        "# nao haja grupos na expressao regular\n",
        "phoneNumRegex = re.compile(r'\\d\\d\\d-\\d\\d\\d-\\d\\d\\d\\d')\n",
        "phoneNumRegex.findall('Cell: 415-555-9999 Work: 212-555-0000')"
      ],
      "execution_count": null,
      "outputs": [
        {
          "output_type": "execute_result",
          "data": {
            "text/plain": [
              "['415-555-9999', '212-555-0000']"
            ]
          },
          "metadata": {
            "tags": []
          },
          "execution_count": 188
        }
      ]
    },
    {
      "cell_type": "code",
      "metadata": {
        "id": "-u_3Po-1VsGg",
        "outputId": "f64e17c3-3453-40f9-e6c8-1913fd325e38",
        "colab": {
          "base_uri": "https://localhost:8080/",
          "height": 36
        }
      },
      "source": [
        "# se houver grupos na expressao regular, findall() retornara uma\n",
        "# lista de tuplas\n",
        "phoneNumRegex = re.compile(r'(\\d\\d\\d)-(\\d\\d\\d)-(\\d\\d\\d\\d)')\n",
        "phoneNumRegex.findall('Cell: 415-555-9999 Work: 212-555-0000')"
      ],
      "execution_count": null,
      "outputs": [
        {
          "output_type": "execute_result",
          "data": {
            "text/plain": [
              "[('415', '555', '9999'), ('212', '555', '0000')]"
            ]
          },
          "metadata": {
            "tags": []
          },
          "execution_count": 189
        }
      ]
    },
    {
      "cell_type": "markdown",
      "metadata": {
        "id": "-gNatBpYVxyv"
      },
      "source": [
        "### **Classes de caracteres**\n",
        "[*Character Classes*]"
      ]
    },
    {
      "cell_type": "code",
      "metadata": {
        "id": "9zeudv8CV3x4",
        "outputId": "47d366cb-b5eb-4ace-be16-99d2c1a32ca3",
        "colab": {
          "base_uri": "https://localhost:8080/",
          "height": 228
        }
      },
      "source": [
        "# classes de caracteres sao convenientes para reduzir as\n",
        "# expressoes regulares\n",
        "\n",
        "# a classe de caracteres [0-5] correspondera somente aos numeros de\n",
        "# 0 a 5; isso é muito mais conciso do que digitar (0|1|2|3|4|5)\n",
        "\n",
        "# a expressao regular '\\d+\\s\\w+' correspondera a textos que tenham um ou mais\n",
        "# digitos (\\d+) seguidos de um caractere de espaco em branco (\\s) seguido\n",
        "# de um ou mais caracteres que sejam letra/digito/underscore (\\w+)\n",
        "\n",
        "xmasRegex = re.compile(r'\\d+\\s\\w+')\n",
        "xmasRegex.findall('12 drummers, 11 pipers, 10 lords, 9 ladies, 8 maids, 7 swans, 6 geese, 5 rings, 4 birds, 3 hens, 2 doves, 1 partridge')"
      ],
      "execution_count": null,
      "outputs": [
        {
          "output_type": "execute_result",
          "data": {
            "text/plain": [
              "['12 drummers',\n",
              " '11 pipers',\n",
              " '10 lords',\n",
              " '9 ladies',\n",
              " '8 maids',\n",
              " '7 swans',\n",
              " '6 geese',\n",
              " '5 rings',\n",
              " '4 birds',\n",
              " '3 hens',\n",
              " '2 doves',\n",
              " '1 partridge']"
            ]
          },
          "metadata": {
            "tags": []
          },
          "execution_count": 281
        }
      ]
    },
    {
      "cell_type": "markdown",
      "metadata": {
        "id": "Y3qP8qatWFoA"
      },
      "source": [
        "### **Criando suas próprias classes de caracteres**\n",
        "[*Making Your Own Character Classes*]"
      ]
    },
    {
      "cell_type": "code",
      "metadata": {
        "id": "Qpe2e7Z_WO8v",
        "outputId": "ac95c4f0-9008-40bf-cebe-fd4316ba7ad3",
        "colab": {
          "base_uri": "https://localhost:8080/",
          "height": 36
        }
      },
      "source": [
        "vowelRegex = re.compile(r'[aeiouAEIOU]')\n",
        "vowelRegex.findall('RoboCop eats baby food. BABY FOOD.')"
      ],
      "execution_count": null,
      "outputs": [
        {
          "output_type": "execute_result",
          "data": {
            "text/plain": [
              "['o', 'o', 'o', 'e', 'a', 'a', 'o', 'o', 'A', 'O', 'O']"
            ]
          },
          "metadata": {
            "tags": []
          },
          "execution_count": 190
        }
      ]
    },
    {
      "cell_type": "code",
      "metadata": {
        "id": "DNgcmT7BWR1q",
        "outputId": "ba5f15aa-3ede-4929-9f7a-78d5150769aa",
        "colab": {
          "base_uri": "https://localhost:8080/",
          "height": 443
        }
      },
      "source": [
        "# a classe de caracteres [a-zA-Z0-9] correspondera a todas\n",
        "# as letras minusculas, as letras maisculas e aos numeros\n",
        "\n",
        "# Nos colchetes, os simbolos normais de expressao regular nao\n",
        "# sao interpretados. Por exemplo, a classe de caracteres [0-5.]\n",
        "# correspondera aos digitos de 0 a 5 e um ponto. \n",
        "# Nao eh necessario escrever essa classe como [0-5\\.]\n",
        "\n",
        "# Ao inserir um acento circunflexo (^) logo depois do colchete\n",
        "# de abertura da classe de caracters, podemos criar uma classe\n",
        "# negativa de caracteres \n",
        "consonantRegex = re.compile(r'[^aeiouAEIOU]')\n",
        "consonantRegex.findall('RoboCop eats baby food. BABY FOOD.')"
      ],
      "execution_count": null,
      "outputs": [
        {
          "output_type": "execute_result",
          "data": {
            "text/plain": [
              "['R',\n",
              " 'b',\n",
              " 'C',\n",
              " 'p',\n",
              " ' ',\n",
              " 't',\n",
              " 's',\n",
              " ' ',\n",
              " 'b',\n",
              " 'b',\n",
              " 'y',\n",
              " ' ',\n",
              " 'f',\n",
              " 'd',\n",
              " '.',\n",
              " ' ',\n",
              " 'B',\n",
              " 'B',\n",
              " 'Y',\n",
              " ' ',\n",
              " 'F',\n",
              " 'D',\n",
              " '.']"
            ]
          },
          "metadata": {
            "tags": []
          },
          "execution_count": 192
        }
      ]
    },
    {
      "cell_type": "markdown",
      "metadata": {
        "id": "T76YBn1UWemZ"
      },
      "source": [
        "### **Acento circunflexo e o sinal de dólar**\n",
        "[*The Caret and Dollar Sign Characters*]"
      ]
    },
    {
      "cell_type": "code",
      "metadata": {
        "id": "CW6MiVVGWphG",
        "outputId": "041c002d-46a8-43bf-9123-e20b31618b79",
        "colab": {
          "base_uri": "https://localhost:8080/",
          "height": 35
        }
      },
      "source": [
        "beginsWithHello = re.compile(r'^Hello')\n",
        "mo = beginsWithHello.search('Hello, world!')\n",
        "mo.group()"
      ],
      "execution_count": null,
      "outputs": [
        {
          "output_type": "execute_result",
          "data": {
            "application/vnd.google.colaboratory.intrinsic+json": {
              "type": "string"
            },
            "text/plain": [
              "'Hello'"
            ]
          },
          "metadata": {
            "tags": []
          },
          "execution_count": 286
        }
      ]
    },
    {
      "cell_type": "code",
      "metadata": {
        "id": "5xPx72gQWwkO",
        "outputId": "256f7a22-0cf9-4837-89f4-819f2638e578",
        "colab": {
          "base_uri": "https://localhost:8080/",
          "height": 35
        }
      },
      "source": [
        "beginsWithHello.search('He said hello.') == None"
      ],
      "execution_count": null,
      "outputs": [
        {
          "output_type": "execute_result",
          "data": {
            "text/plain": [
              "True"
            ]
          },
          "metadata": {
            "tags": []
          },
          "execution_count": 287
        }
      ]
    },
    {
      "cell_type": "code",
      "metadata": {
        "id": "nRg9FwUyW3X7",
        "outputId": "73980852-f752-4e70-8a26-503560fe1ae4",
        "colab": {
          "base_uri": "https://localhost:8080/",
          "height": 35
        }
      },
      "source": [
        "endsWithNumber = re.compile(r'\\d$')\n",
        "mo = endsWithNumber.search('Your number is 42')\n",
        "mo.group()"
      ],
      "execution_count": null,
      "outputs": [
        {
          "output_type": "execute_result",
          "data": {
            "application/vnd.google.colaboratory.intrinsic+json": {
              "type": "string"
            },
            "text/plain": [
              "'2'"
            ]
          },
          "metadata": {
            "tags": []
          },
          "execution_count": 291
        }
      ]
    },
    {
      "cell_type": "code",
      "metadata": {
        "id": "urdDHKFUW6-F",
        "outputId": "4331043d-c284-423c-ca88-c01da6808003",
        "colab": {
          "base_uri": "https://localhost:8080/",
          "height": 36
        }
      },
      "source": [
        "endsWithNumber.search('Your number is forty two.') == None"
      ],
      "execution_count": null,
      "outputs": [
        {
          "output_type": "execute_result",
          "data": {
            "text/plain": [
              "True"
            ]
          },
          "metadata": {
            "tags": []
          },
          "execution_count": 195
        }
      ]
    },
    {
      "cell_type": "code",
      "metadata": {
        "id": "vM4ZJRr_W9yn",
        "outputId": "ff31f4da-6df0-4c42-aab4-a7b9a333aeb9",
        "colab": {
          "base_uri": "https://localhost:8080/",
          "height": 35
        }
      },
      "source": [
        "wholeStringIsNum = re.compile(r'^\\d+$')\n",
        "mo = wholeStringIsNum.search('1234567890')\n",
        "mo.group()"
      ],
      "execution_count": null,
      "outputs": [
        {
          "output_type": "execute_result",
          "data": {
            "application/vnd.google.colaboratory.intrinsic+json": {
              "type": "string"
            },
            "text/plain": [
              "'1234567890'"
            ]
          },
          "metadata": {
            "tags": []
          },
          "execution_count": 298
        }
      ]
    },
    {
      "cell_type": "code",
      "metadata": {
        "id": "ckIPx24vXA8X",
        "outputId": "dd46ce9e-2ee2-489e-cfbe-ac00abd8cf63",
        "colab": {
          "base_uri": "https://localhost:8080/",
          "height": 36
        }
      },
      "source": [
        "wholeStringIsNum.search('12345xyz67890') == None"
      ],
      "execution_count": null,
      "outputs": [
        {
          "output_type": "execute_result",
          "data": {
            "text/plain": [
              "True"
            ]
          },
          "metadata": {
            "tags": []
          },
          "execution_count": 197
        }
      ]
    },
    {
      "cell_type": "code",
      "metadata": {
        "id": "dC_3F7LWXDho",
        "outputId": "213ff340-3735-45a7-d226-ad5b2f57e714",
        "colab": {
          "base_uri": "https://localhost:8080/",
          "height": 36
        }
      },
      "source": [
        "wholeStringIsNum.search('12 34567890') == None"
      ],
      "execution_count": null,
      "outputs": [
        {
          "output_type": "execute_result",
          "data": {
            "text/plain": [
              "True"
            ]
          },
          "metadata": {
            "tags": []
          },
          "execution_count": 116
        }
      ]
    },
    {
      "cell_type": "markdown",
      "metadata": {
        "id": "KjSy9a1CXGXI"
      },
      "source": [
        "### **Caractere curinga**\n",
        "[*The Wildcard Character*]"
      ]
    },
    {
      "cell_type": "code",
      "metadata": {
        "id": "F4xkFaqNXPRf",
        "outputId": "2ca67aa4-8257-494f-f0d2-ae4473759b24",
        "colab": {
          "base_uri": "https://localhost:8080/",
          "height": 36
        }
      },
      "source": [
        "atRegex = re.compile(r'.at')\n",
        "atRegex.findall('The cat in the hat sat on the flat mat.')"
      ],
      "execution_count": null,
      "outputs": [
        {
          "output_type": "execute_result",
          "data": {
            "text/plain": [
              "['cat', 'hat', 'sat', 'lat', 'mat']"
            ]
          },
          "metadata": {
            "tags": []
          },
          "execution_count": 198
        }
      ]
    },
    {
      "cell_type": "markdown",
      "metadata": {
        "id": "E2Q20PzGXSQ6"
      },
      "source": [
        "### **Correspondendo a tudo usando ponto-asterisco**\n",
        "[*Matching Everything with Dot-Star*]"
      ]
    },
    {
      "cell_type": "code",
      "metadata": {
        "id": "1wyg5qEUXb1l",
        "outputId": "1381125e-cd81-4dd5-b5f1-4cb4c73e28bb",
        "colab": {
          "base_uri": "https://localhost:8080/",
          "height": 35
        }
      },
      "source": [
        "# podemos usar ponto-asterisco (.*) para indicar \"qualquer caractere\"\n",
        "# Lembre-se que o caractere ponto quer dizer \"qualquer caractere unico,\n",
        "# exceto a quebra de linha\" e o caractere asterisco quer dizer\n",
        "# \"zero ou mais ocorrencias do caractere anterior\"\n",
        "nameRegex = re.compile(r'First Name: (.*) Last Name: (.*)')\n",
        "mo = nameRegex.search('First Name: Al Last Name: Sweigart')\n",
        "mo.group(1)"
      ],
      "execution_count": null,
      "outputs": [
        {
          "output_type": "execute_result",
          "data": {
            "application/vnd.google.colaboratory.intrinsic+json": {
              "type": "string"
            },
            "text/plain": [
              "'Al'"
            ]
          },
          "metadata": {
            "tags": []
          },
          "execution_count": 300
        }
      ]
    },
    {
      "cell_type": "code",
      "metadata": {
        "id": "JdIss8goXjc9",
        "outputId": "4567f647-470e-4c91-bb16-b7ad73477514",
        "colab": {
          "base_uri": "https://localhost:8080/",
          "height": 36
        }
      },
      "source": [
        "mo.group(2)"
      ],
      "execution_count": null,
      "outputs": [
        {
          "output_type": "execute_result",
          "data": {
            "application/vnd.google.colaboratory.intrinsic+json": {
              "type": "string"
            },
            "text/plain": [
              "'Sweigart'"
            ]
          },
          "metadata": {
            "tags": []
          },
          "execution_count": 200
        }
      ]
    },
    {
      "cell_type": "code",
      "metadata": {
        "id": "xyxx7mxzXnZn",
        "outputId": "0a9a62d4-389b-45e4-f2df-e217d958edf2",
        "colab": {
          "base_uri": "https://localhost:8080/",
          "height": 35
        }
      },
      "source": [
        "nongreedyRegex = re.compile(r'<.*?>')\n",
        "mo = nongreedyRegex.search('<To serve man> for dinner.>')\n",
        "mo.group()"
      ],
      "execution_count": null,
      "outputs": [
        {
          "output_type": "execute_result",
          "data": {
            "application/vnd.google.colaboratory.intrinsic+json": {
              "type": "string"
            },
            "text/plain": [
              "'<To serve man>'"
            ]
          },
          "metadata": {
            "tags": []
          },
          "execution_count": 302
        }
      ]
    },
    {
      "cell_type": "code",
      "metadata": {
        "id": "dUHRMC8YXpMe",
        "outputId": "2e4e37ab-9a03-4950-84ca-0177eb51f618",
        "colab": {
          "base_uri": "https://localhost:8080/",
          "height": 36
        }
      },
      "source": [
        "greedyRegex = re.compile(r'<.*>')\n",
        "mo = greedyRegex.search('<To serve man> for dinner.>')\n",
        "mo.group()"
      ],
      "execution_count": null,
      "outputs": [
        {
          "output_type": "execute_result",
          "data": {
            "application/vnd.google.colaboratory.intrinsic+json": {
              "type": "string"
            },
            "text/plain": [
              "'<To serve man> for dinner.>'"
            ]
          },
          "metadata": {
            "tags": []
          },
          "execution_count": 204
        }
      ]
    },
    {
      "cell_type": "markdown",
      "metadata": {
        "id": "cHPlGRI4XuHh"
      },
      "source": [
        "### **Correspondendo a quebras de linha com o caractere ponto**\n",
        "[*Matching Newlines with the Dot Character*]"
      ]
    },
    {
      "cell_type": "code",
      "metadata": {
        "id": "JnEQSiHhX4h7",
        "outputId": "bdfd0745-9355-4462-f2e5-e18af478ba5e",
        "colab": {
          "base_uri": "https://localhost:8080/",
          "height": 35
        }
      },
      "source": [
        "noNewlineRegex = re.compile('.*')\n",
        "noNewlineRegex.search('Serve the public trust.\\nProtect the innocent. \\nUphold the law.').group()"
      ],
      "execution_count": null,
      "outputs": [
        {
          "output_type": "execute_result",
          "data": {
            "application/vnd.google.colaboratory.intrinsic+json": {
              "type": "string"
            },
            "text/plain": [
              "'Serve the public trust.'"
            ]
          },
          "metadata": {
            "tags": []
          },
          "execution_count": 303
        }
      ]
    },
    {
      "cell_type": "code",
      "metadata": {
        "id": "d3ccLv6QX7ny",
        "outputId": "5ea883ee-f57a-4348-80f6-622881a52f5e",
        "colab": {
          "base_uri": "https://localhost:8080/",
          "height": 35
        }
      },
      "source": [
        "newlineRegex = re.compile('.*', re.DOTALL)\n",
        "newlineRegex.search('Serve the public trust.\\nProtect the innocent.\\nUphold the law.').group()"
      ],
      "execution_count": null,
      "outputs": [
        {
          "output_type": "execute_result",
          "data": {
            "application/vnd.google.colaboratory.intrinsic+json": {
              "type": "string"
            },
            "text/plain": [
              "'Serve the public trust.\\nProtect the innocent.\\nUphold the law.'"
            ]
          },
          "metadata": {
            "tags": []
          },
          "execution_count": 304
        }
      ]
    },
    {
      "cell_type": "markdown",
      "metadata": {
        "id": "sNEZzg_-YNFh"
      },
      "source": [
        "### **Correspondências sem diferenciar letras maiúsculas de minúsculas**\n",
        " [*Case-Insensitive Matching*]"
      ]
    },
    {
      "cell_type": "code",
      "metadata": {
        "id": "Mje_oiaIYbzV"
      },
      "source": [
        "regex1 = re.compile('RoboCop')\n",
        "regex2 = re.compile('ROBOCOP')\n",
        "regex3 = re.compile('robOcop')\n",
        "regex4 = re.compile('RobocOp')"
      ],
      "execution_count": null,
      "outputs": []
    },
    {
      "cell_type": "code",
      "metadata": {
        "id": "FqvyWIidYjOf",
        "outputId": "a69445bb-312d-49a4-8f99-a8c04e72189a",
        "colab": {
          "base_uri": "https://localhost:8080/",
          "height": 36
        }
      },
      "source": [
        "robocop = re.compile(r'robocop', re.I)\n",
        "#robocop = re.compile(r'robocop', re.IGNORECASE)\n",
        "robocop.search('RoboCop is part man, part machine, all cop.').group()"
      ],
      "execution_count": null,
      "outputs": [
        {
          "output_type": "execute_result",
          "data": {
            "application/vnd.google.colaboratory.intrinsic+json": {
              "type": "string"
            },
            "text/plain": [
              "'RoboCop'"
            ]
          },
          "metadata": {
            "tags": []
          },
          "execution_count": 207
        }
      ]
    },
    {
      "cell_type": "code",
      "metadata": {
        "id": "umz6gjeUYDAQ",
        "outputId": "eef7bf37-08e9-42ed-d389-9733e6459658",
        "colab": {
          "base_uri": "https://localhost:8080/",
          "height": 36
        }
      },
      "source": [
        "robocop.search('ROBOCOP protects the innocent.').group()"
      ],
      "execution_count": null,
      "outputs": [
        {
          "output_type": "execute_result",
          "data": {
            "application/vnd.google.colaboratory.intrinsic+json": {
              "type": "string"
            },
            "text/plain": [
              "'ROBOCOP'"
            ]
          },
          "metadata": {
            "tags": []
          },
          "execution_count": 208
        }
      ]
    },
    {
      "cell_type": "code",
      "metadata": {
        "id": "cUwqXS8_Yo8D",
        "outputId": "d879db54-e886-403f-edf0-8bf3219a88bb",
        "colab": {
          "base_uri": "https://localhost:8080/",
          "height": 36
        }
      },
      "source": [
        "robocop.search('Al, why does your programming book talk about robocop so much?').group()"
      ],
      "execution_count": null,
      "outputs": [
        {
          "output_type": "execute_result",
          "data": {
            "application/vnd.google.colaboratory.intrinsic+json": {
              "type": "string"
            },
            "text/plain": [
              "'robocop'"
            ]
          },
          "metadata": {
            "tags": []
          },
          "execution_count": 209
        }
      ]
    },
    {
      "cell_type": "markdown",
      "metadata": {
        "id": "0yDuIFWvYsyh"
      },
      "source": [
        "### **Substituindo strings com o método sub()**\n",
        "[*Substituting Strings with the sub() Method*]"
      ]
    },
    {
      "cell_type": "code",
      "metadata": {
        "id": "_JUVtvc3Y0UD",
        "outputId": "ea0aab4d-f14d-4eed-f8f7-81998eb662ee",
        "colab": {
          "base_uri": "https://localhost:8080/",
          "height": 36
        }
      },
      "source": [
        "namesRegex = re.compile(r'Agent \\w+')\n",
        "namesRegex.sub('CENSORED', 'Agent Alice gave the secret documents to Agent Bob.')"
      ],
      "execution_count": null,
      "outputs": [
        {
          "output_type": "execute_result",
          "data": {
            "application/vnd.google.colaboratory.intrinsic+json": {
              "type": "string"
            },
            "text/plain": [
              "'CENSORED gave the secret documents to CENSORED.'"
            ]
          },
          "metadata": {
            "tags": []
          },
          "execution_count": 128
        }
      ]
    },
    {
      "cell_type": "code",
      "metadata": {
        "id": "VNOusmWoY3mi",
        "outputId": "514258a3-a374-4632-c53c-4aec0bc05bcf",
        "colab": {
          "base_uri": "https://localhost:8080/",
          "height": 36
        }
      },
      "source": [
        "agentNamesRegex = re.compile(r'Agent (\\w)\\w*')\n",
        "agentNamesRegex.sub(r'\\1****', 'Agent Alice told Agent Carol that Agent Eve knew Agent Bob was a double agent.')"
      ],
      "execution_count": null,
      "outputs": [
        {
          "output_type": "execute_result",
          "data": {
            "application/vnd.google.colaboratory.intrinsic+json": {
              "type": "string"
            },
            "text/plain": [
              "'A**** told C**** that E**** knew B**** was a double agent.'"
            ]
          },
          "metadata": {
            "tags": []
          },
          "execution_count": 210
        }
      ]
    },
    {
      "cell_type": "markdown",
      "metadata": {
        "id": "x-jWt7xdY9Ri"
      },
      "source": [
        "### **Administrando expressões regulares (regexes) complexas**\n",
        "[*Managing Complex Regexes*]"
      ]
    },
    {
      "cell_type": "code",
      "metadata": {
        "id": "pTovVC0rZDRe"
      },
      "source": [
        "phoneRegex = re.compile(r'((\\d{3}|\\(\\d{3}\\))?(\\s|-|\\.)?\\d{3}(\\s|-|\\.)\\d{4}(\\s*(ext|x|ext.)\\s*\\d{2,5})?)')"
      ],
      "execution_count": null,
      "outputs": []
    },
    {
      "cell_type": "code",
      "metadata": {
        "id": "P-8H-cZ5ZHJl"
      },
      "source": [
        "phoneRegex = re.compile(r'''(\n",
        "    (\\d{3}|\\(\\d{3}\\))?            # codigo de area\n",
        "    (\\s|-|\\.)?                    # separador\n",
        "    \\d{3}                         # primeiros 3 digitos\n",
        "    (\\s|-|\\.)                     # separador\n",
        "    \\d{4}                         # ultimos 4 digits\n",
        "    (\\s*(ext|x|ext.)\\s*\\d{2,5})?  # extensao\n",
        "    )''', re.VERBOSE)"
      ],
      "execution_count": null,
      "outputs": []
    }
  ]
}