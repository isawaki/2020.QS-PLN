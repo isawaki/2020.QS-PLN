{
  "nbformat": 4,
  "nbformat_minor": 0,
  "metadata": {
    "colab": {
      "name": "2020-QS PLN Notebook 02.ipynb",
      "provenance": [],
      "authorship_tag": "ABX9TyOAhV8BVPIgUtqmCyLv57ho",
      "include_colab_link": true
    },
    "kernelspec": {
      "name": "python3",
      "display_name": "Python 3"
    }
  },
  "cells": [
    {
      "cell_type": "markdown",
      "metadata": {
        "id": "view-in-github",
        "colab_type": "text"
      },
      "source": [
        "<a href=\"https://colab.research.google.com/github/adalves-ufabc/2020.QS-PLN/blob/main/2020_QS_PLN_Notebook_02.ipynb\" target=\"_parent\"><img src=\"https://colab.research.google.com/assets/colab-badge.svg\" alt=\"Open In Colab\"/></a>"
      ]
    },
    {
      "cell_type": "code",
      "metadata": {
        "id": "-_xxy6ZiqnQu",
        "outputId": "3ea4573f-2e50-47ce-ecf9-8d2f2791e93b",
        "colab": {
          "base_uri": "https://localhost:8080/",
          "height": 139
        }
      },
      "source": [
        "import re\n",
        "\n",
        "patterns = [\n",
        "    (r\"\\b(to|estou|eu estou)\\b\", \"EU ESTOU\"),\n",
        "    (r\"\\b(sou|eu sou)\\b\", \"EU SOU\"),\n",
        "    (r\"\\b(olha so,?) \", \"\"),\n",
        "    (r\".*EU ESTOU (deprimido|triste|cansado|doente).*\", r\"LAMENTO OUVIR QUE VOCE ESTA \\1\"),\n",
        "    (r\".*EU SOU (infeliz).*\", r\"POR QUE VOCE ESTA \\1?\"),\n",
        "    (r\".* todos .*\", \"DE QUE FORMA?\"),\n",
        "    (r\".* sempre .*\", \"VOCE PODE PENSAR EM UM EXEMPLO ESPECIFICO?\"),\n",
        "    ]\n",
        "\n",
        "while True:\n",
        "    comment = input()\n",
        "    response = comment.lower()\n",
        "    for pat, sub in patterns:\n",
        "        response = re.sub(pat, sub, response)\n",
        "    print (response.upper())\n"
      ],
      "execution_count": null,
      "outputs": [
        {
          "output_type": "stream",
          "text": [
            "vocês todos estão acordados?\n",
            "DE QUE FORMA?\n",
            "vocês sempre estão calados\n",
            "VOCE PODE PENSAR EM UM EXEMPLO ESPECIFICO?\n",
            "eu estou doente\n",
            "LAMENTO OUVIR QUE VOCE ESTA DOENTE\n"
          ],
          "name": "stdout"
        }
      ]
    }
  ]
}