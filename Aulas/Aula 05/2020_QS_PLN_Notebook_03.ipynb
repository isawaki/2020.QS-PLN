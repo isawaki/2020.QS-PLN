{
  "nbformat": 4,
  "nbformat_minor": 0,
  "metadata": {
    "colab": {
      "name": "2020-QS PLN Notebook 03.ipynb",
      "provenance": [],
      "authorship_tag": "ABX9TyOYkahpuad0Z0Vu6p0C0R+t",
      "include_colab_link": true
    },
    "kernelspec": {
      "name": "python3",
      "display_name": "Python 3"
    }
  },
  "cells": [
    {
      "cell_type": "markdown",
      "metadata": {
        "id": "view-in-github",
        "colab_type": "text"
      },
      "source": [
        "<a href=\"https://colab.research.google.com/github/adalves-ufabc/2020.QS-PLN/blob/main/2020_QS_PLN_Notebook_03.ipynb\" target=\"_parent\"><img src=\"https://colab.research.google.com/assets/colab-badge.svg\" alt=\"Open In Colab\"/></a>"
      ]
    },
    {
      "cell_type": "markdown",
      "metadata": {
        "id": "Y6QILOdpOjwv"
      },
      "source": [
        "# **Processamento de Linguagem Natural [2020.QS]**\n",
        "Prof. Alexandre Donizeti Alves"
      ]
    },
    {
      "cell_type": "markdown",
      "metadata": {
        "id": "NIZrLHdXZ7Je"
      },
      "source": [
        "## **Projeto: extrator de números de telefone e de endereços de e-mail**\n",
        "---"
      ]
    },
    {
      "cell_type": "markdown",
      "metadata": {
        "id": "A5pAVGDheHqM"
      },
      "source": [
        "Suponha que você tenha a tarefa maçante de localizar todos os números de telefone e endereços de e-mail em uma página Web ou em um documento extenso. \n",
        "\n",
        "Se você fizer rolangens manualmente pela página (ou documento), você poderá acabar fazendo a pesquisa por bastante tempo.\n",
        "\n",
        "Porém, se você tivesse um programa que pudesse pesquisar o texto em seu clipboard em busca de números de telefone e de endereços de e-mail, seria possível simplesmente pressionar CRTL+A para selecionar todo o texto, CRTL+C para copiá-lo para o clipboard e então executar o seu programa."
      ]
    },
    {
      "cell_type": "markdown",
      "metadata": {
        "id": "P4HFhACeaR6Y"
      },
      "source": [
        "### **Passo 1: Criar uma regex para números de telefone**"
      ]
    },
    {
      "cell_type": "code",
      "metadata": {
        "id": "X31Po9jAav2t",
        "outputId": "7ca5305f-12d0-449c-bd9f-7309a3588b5b",
        "colab": {
          "base_uri": "https://localhost:8080/",
          "height": 34
        }
      },
      "source": [
        "!pip install pyperclip"
      ],
      "execution_count": null,
      "outputs": [
        {
          "output_type": "stream",
          "text": [
            "Requirement already satisfied: pyperclip in /usr/local/lib/python3.6/dist-packages (1.8.0)\n"
          ],
          "name": "stdout"
        }
      ]
    },
    {
      "cell_type": "code",
      "metadata": {
        "id": "ceo6jMYWaege"
      },
      "source": [
        "import pyperclip, re\n",
        "\n",
        "phoneRegex = re.compile(r'''(\n",
        "    (\\d{3}|\\(\\d{3}\\))?               # codigo de area\n",
        "    (\\s|-|\\.)?                       # separador\n",
        "    (\\d{3})                          # primeiros 3 digitos\n",
        "    (\\s|-|\\.)                        # separador\n",
        "    (\\d{4})                          # ultimos 4 digitos\n",
        "    (\\s*(ext|x|ext.)\\s*(\\d{2,5}))?   # extensao\n",
        "    )''', re.VERBOSE)\n",
        "\n",
        "# TODO: Create email regex.\n",
        "# TODO: Cria a regex para e-mail\n",
        "\n",
        "# TODO: Find matches in clipboard text.\n",
        "# TODO: Encontra correspondências no texto do clipboard\n",
        "\n",
        "# TODO: Copy results to the clipboard.\n",
        "# TODO: Copia os resultados para o clipboard"
      ],
      "execution_count": null,
      "outputs": []
    },
    {
      "cell_type": "markdown",
      "metadata": {
        "id": "Qom3q0WRa2Hm"
      },
      "source": [
        "### **Passo 2: Criar uma regex para endereços de e-mail**"
      ]
    },
    {
      "cell_type": "code",
      "metadata": {
        "id": "Spnj4RpUa6X-"
      },
      "source": [
        "# TODO: Cria a regex para e-mail\n",
        "emailRegex = re.compile(r'''(\n",
        "    [a-zA-Z0-9._%+-]+        # nome do usuario\n",
        "    @                        # simbolo @\n",
        "    [a-zA-Z0-9.-]+           # nome do dominio\n",
        "    (\\.[a-zA-Z]{2,4}){1,2}   # ponto seguido de outros caracteres\n",
        "    )''', re.VERBOSE)"
      ],
      "execution_count": null,
      "outputs": []
    },
    {
      "cell_type": "markdown",
      "metadata": {
        "id": "BWjaYNjEbBWP"
      },
      "source": [
        "### **Passo 3: Encontrar todas as correspondências no texto do clipboard**"
      ]
    },
    {
      "cell_type": "code",
      "metadata": {
        "id": "NO79tvxobJJV",
        "outputId": "bb89cd4f-6f4d-4d54-cf6c-2c9911a4649c",
        "colab": {
          "base_uri": "https://localhost:8080/",
          "height": 426
        }
      },
      "source": [
        "# TODO: Encontra correspondências no texto do clipboard\n",
        "text = str(pyperclip.paste())\n",
        "\n",
        "matches = []\n",
        "for groups in phoneRegex.findall(text):\n",
        "    phoneNum = '-'.join([groups[1], groups[3], groups[5]])\n",
        "    if groups[8] != '':\n",
        "        phoneNum += ' x' + groups[8]\n",
        "    matches.append(phoneNum)\n",
        "for groups in emailRegex.findall(text):\n",
        "    matches.append(groups[0])\n"
      ],
      "execution_count": null,
      "outputs": [
        {
          "output_type": "error",
          "ename": "PyperclipException",
          "evalue": "ignored",
          "traceback": [
            "\u001b[0;31m---------------------------------------------------------------------------\u001b[0m",
            "\u001b[0;31mPyperclipException\u001b[0m                        Traceback (most recent call last)",
            "\u001b[0;32m<ipython-input-5-6a8012e39151>\u001b[0m in \u001b[0;36m<module>\u001b[0;34m()\u001b[0m\n\u001b[1;32m      1\u001b[0m \u001b[0;31m# TODO: Encontra correspondências no texto do clipboard\u001b[0m\u001b[0;34m\u001b[0m\u001b[0;34m\u001b[0m\u001b[0;34m\u001b[0m\u001b[0m\n\u001b[0;32m----> 2\u001b[0;31m \u001b[0mtext\u001b[0m \u001b[0;34m=\u001b[0m \u001b[0mstr\u001b[0m\u001b[0;34m(\u001b[0m\u001b[0mpyperclip\u001b[0m\u001b[0;34m.\u001b[0m\u001b[0mpaste\u001b[0m\u001b[0;34m(\u001b[0m\u001b[0;34m)\u001b[0m\u001b[0;34m)\u001b[0m\u001b[0;34m\u001b[0m\u001b[0;34m\u001b[0m\u001b[0m\n\u001b[0m\u001b[1;32m      3\u001b[0m \u001b[0;34m\u001b[0m\u001b[0m\n\u001b[1;32m      4\u001b[0m \u001b[0mmatches\u001b[0m \u001b[0;34m=\u001b[0m \u001b[0;34m[\u001b[0m\u001b[0;34m]\u001b[0m\u001b[0;34m\u001b[0m\u001b[0;34m\u001b[0m\u001b[0m\n\u001b[1;32m      5\u001b[0m \u001b[0;32mfor\u001b[0m \u001b[0mgroups\u001b[0m \u001b[0;32min\u001b[0m \u001b[0mphoneRegex\u001b[0m\u001b[0;34m.\u001b[0m\u001b[0mfindall\u001b[0m\u001b[0;34m(\u001b[0m\u001b[0mtext\u001b[0m\u001b[0;34m)\u001b[0m\u001b[0;34m:\u001b[0m\u001b[0;34m\u001b[0m\u001b[0;34m\u001b[0m\u001b[0m\n",
            "\u001b[0;32m/usr/local/lib/python3.6/dist-packages/pyperclip/__init__.py\u001b[0m in \u001b[0;36mlazy_load_stub_paste\u001b[0;34m()\u001b[0m\n\u001b[1;32m    638\u001b[0m     \u001b[0;32mglobal\u001b[0m \u001b[0mcopy\u001b[0m\u001b[0;34m,\u001b[0m \u001b[0mpaste\u001b[0m\u001b[0;34m\u001b[0m\u001b[0;34m\u001b[0m\u001b[0m\n\u001b[1;32m    639\u001b[0m     \u001b[0mcopy\u001b[0m\u001b[0;34m,\u001b[0m \u001b[0mpaste\u001b[0m \u001b[0;34m=\u001b[0m \u001b[0mdetermine_clipboard\u001b[0m\u001b[0;34m(\u001b[0m\u001b[0;34m)\u001b[0m\u001b[0;34m\u001b[0m\u001b[0;34m\u001b[0m\u001b[0m\n\u001b[0;32m--> 640\u001b[0;31m     \u001b[0;32mreturn\u001b[0m \u001b[0mpaste\u001b[0m\u001b[0;34m(\u001b[0m\u001b[0;34m)\u001b[0m\u001b[0;34m\u001b[0m\u001b[0;34m\u001b[0m\u001b[0m\n\u001b[0m\u001b[1;32m    641\u001b[0m \u001b[0;34m\u001b[0m\u001b[0m\n\u001b[1;32m    642\u001b[0m \u001b[0;34m\u001b[0m\u001b[0m\n",
            "\u001b[0;32m/usr/local/lib/python3.6/dist-packages/pyperclip/__init__.py\u001b[0m in \u001b[0;36m__call__\u001b[0;34m(self, *args, **kwargs)\u001b[0m\n\u001b[1;32m    301\u001b[0m \u001b[0;34m\u001b[0m\u001b[0m\n\u001b[1;32m    302\u001b[0m         \u001b[0;32mdef\u001b[0m \u001b[0m__call__\u001b[0m\u001b[0;34m(\u001b[0m\u001b[0mself\u001b[0m\u001b[0;34m,\u001b[0m \u001b[0;34m*\u001b[0m\u001b[0margs\u001b[0m\u001b[0;34m,\u001b[0m \u001b[0;34m**\u001b[0m\u001b[0mkwargs\u001b[0m\u001b[0;34m)\u001b[0m\u001b[0;34m:\u001b[0m\u001b[0;34m\u001b[0m\u001b[0;34m\u001b[0m\u001b[0m\n\u001b[0;32m--> 303\u001b[0;31m             \u001b[0;32mraise\u001b[0m \u001b[0mPyperclipException\u001b[0m\u001b[0;34m(\u001b[0m\u001b[0mEXCEPT_MSG\u001b[0m\u001b[0;34m)\u001b[0m\u001b[0;34m\u001b[0m\u001b[0;34m\u001b[0m\u001b[0m\n\u001b[0m\u001b[1;32m    304\u001b[0m \u001b[0;34m\u001b[0m\u001b[0m\n\u001b[1;32m    305\u001b[0m         \u001b[0;32mif\u001b[0m \u001b[0mPY2\u001b[0m\u001b[0;34m:\u001b[0m\u001b[0;34m\u001b[0m\u001b[0;34m\u001b[0m\u001b[0m\n",
            "\u001b[0;31mPyperclipException\u001b[0m: \n    Pyperclip could not find a copy/paste mechanism for your system.\n    For more information, please visit https://pyperclip.readthedocs.io/en/latest/index.html#not-implemented-error "
          ]
        }
      ]
    },
    {
      "cell_type": "markdown",
      "metadata": {
        "id": "nvRDxj0Yb8-a"
      },
      "source": [
        "### **Passo 4: Reunir as correspondências em uma string para o clipboard**"
      ]
    },
    {
      "cell_type": "code",
      "metadata": {
        "id": "-TTF9UKSb_Os"
      },
      "source": [
        "# TODO: Copia os resultados para o clipboard\n",
        "\n",
        "if len(matches) > 0:\n",
        "    pyperclip.copy('\\n'.join(matches))\n",
        "    print('Copied to clipboard:')\n",
        "    print('\\n'.join(matches))\n",
        "else:\n",
        "    print('No phone numbers or email addresses found.')"
      ],
      "execution_count": null,
      "outputs": []
    },
    {
      "cell_type": "markdown",
      "metadata": {
        "id": "uFqr6vKjpSah"
      },
      "source": [
        "https://nostarch.com/contactus/"
      ]
    }
  ]
}