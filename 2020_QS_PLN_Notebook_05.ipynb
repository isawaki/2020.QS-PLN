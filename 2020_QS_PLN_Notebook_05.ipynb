{
  "nbformat": 4,
  "nbformat_minor": 0,
  "metadata": {
    "colab": {
      "name": "2020-QS PLN Notebook 05.ipynb",
      "provenance": [],
      "toc_visible": true,
      "authorship_tag": "ABX9TyNW9xCy6eAlNbw7/ahTCTJS",
      "include_colab_link": true
    },
    "kernelspec": {
      "name": "python3",
      "display_name": "Python 3"
    }
  },
  "cells": [
    {
      "cell_type": "markdown",
      "metadata": {
        "id": "view-in-github",
        "colab_type": "text"
      },
      "source": [
        "<a href=\"https://colab.research.google.com/github/adalves-ufabc/2020.QS-PLN/blob/main/2020_QS_PLN_Notebook_05.ipynb\" target=\"_parent\"><img src=\"https://colab.research.google.com/assets/colab-badge.svg\" alt=\"Open In Colab\"/></a>"
      ]
    },
    {
      "cell_type": "markdown",
      "metadata": {
        "id": "x_wfEq7o3IdZ"
      },
      "source": [
        "# **Processamento de Linguagem Natural [2020.QS]**\n",
        "Prof. Alexandre Donizeti Alves"
      ]
    },
    {
      "cell_type": "markdown",
      "metadata": {
        "id": "DTHse4x88eMD"
      },
      "source": [
        "## **Capítulo 01 - Introdução ao Processamento de Linguagem Natural]**\n",
        "\n",
        "[Livro: *The Natural Language Processing Workshop*]\n",
        "\n",
        "### https://github.com/PacktWorkshops/The-Natural-Language-Processing-Workshop\n",
        "---\n",
        "\n"
      ]
    },
    {
      "cell_type": "markdown",
      "metadata": {
        "id": "g31KrBKD3LQg"
      },
      "source": [
        "### **Exemplo 1.01 - Analítica de Texto [*Text Analytics*]**"
      ]
    },
    {
      "cell_type": "markdown",
      "metadata": {
        "id": "VuCkbQ6u_y4d"
      },
      "source": [
        "Neste exercício, realizaremos algumas análises de texto básicas em alguns dados de texto fornecidos, incluindo a pesquisa de uma palavra específica, a localização do índice de uma palavra e a localização de uma palavra em uma determinada posição. Siga estas etapas para implementar este exercício usando a seguinte frase:"
      ]
    },
    {
      "cell_type": "code",
      "metadata": {
        "trusted": true,
        "id": "JEvYybkO_CfW",
        "outputId": "58c8a498-0906-471c-97c8-010ffc9a9783",
        "colab": {
          "base_uri": "https://localhost:8080/",
          "height": 36
        }
      },
      "source": [
        "sentence = 'The quick brown fox jumps over the lazy dog'\n",
        "sentence"
      ],
      "execution_count": 9,
      "outputs": [
        {
          "output_type": "execute_result",
          "data": {
            "application/vnd.google.colaboratory.intrinsic+json": {
              "type": "string"
            },
            "text/plain": [
              "'The quick brown fox jumps over the lazy dog'"
            ]
          },
          "metadata": {
            "tags": []
          },
          "execution_count": 9
        }
      ]
    },
    {
      "cell_type": "code",
      "metadata": {
        "id": "HJV2Alwe_lzb",
        "outputId": "e44823c8-646c-49d6-9a8e-66558eaa9e8d",
        "colab": {
          "base_uri": "https://localhost:8080/",
          "height": 35
        }
      },
      "source": [
        "# verifica se uma determinada palavra (word) pertence a uma sentenca (sentence)\n",
        "def find_word(word, sentence):\n",
        "    return word in sentence\n",
        "\n",
        "# verifica se a palavra 'quick' pertence a essa sentenca    \n",
        "find_word('quick', sentence)"
      ],
      "execution_count": 10,
      "outputs": [
        {
          "output_type": "execute_result",
          "data": {
            "text/plain": [
              "True"
            ]
          },
          "metadata": {
            "tags": []
          },
          "execution_count": 10
        }
      ]
    },
    {
      "cell_type": "code",
      "metadata": {
        "id": "f4vZ3XOD_v_a",
        "outputId": "55bcc9b3-5dd2-4895-b599-466ab7dbb81c",
        "colab": {
          "base_uri": "https://localhost:8080/",
          "height": 35
        }
      },
      "source": [
        "# retorna o valor do indice de uma palava (word) em um texto (text)\n",
        "def get_index(word, text):\n",
        "    return text.index(word)\n",
        "\n",
        "# retorna o valor do indice da palavra 'fox' na sentenca   \n",
        "get_index('fox', sentence)"
      ],
      "execution_count": 11,
      "outputs": [
        {
          "output_type": "execute_result",
          "data": {
            "text/plain": [
              "16"
            ]
          },
          "metadata": {
            "tags": []
          },
          "execution_count": 11
        }
      ]
    },
    {
      "cell_type": "code",
      "metadata": {
        "id": "tJsU7r15Ahwh",
        "outputId": "7311650a-3e99-4a69-feb2-e655f8e906e7",
        "colab": {
          "base_uri": "https://localhost:8080/",
          "height": 35
        }
      },
      "source": [
        "# a posicao da palavra 'lazy' na sentenca\n",
        "# a primeira palavra 'The' esta na posicao de indice 0\n",
        "get_index('lazy', sentence.split())"
      ],
      "execution_count": 12,
      "outputs": [
        {
          "output_type": "execute_result",
          "data": {
            "text/plain": [
              "7"
            ]
          },
          "metadata": {
            "tags": []
          },
          "execution_count": 12
        }
      ]
    },
    {
      "cell_type": "code",
      "metadata": {
        "id": "SoAi9gi3AqgI",
        "outputId": "f48e274c-b8d2-4f38-98a7-ac5ec6368844",
        "colab": {
          "base_uri": "https://localhost:8080/",
          "height": 36
        }
      },
      "source": [
        "# retorna a palavra que esta na posicao de indice 'rank' no texto (text)\n",
        "def get_word(text,rank):\n",
        "    return text.split()[rank]\n",
        "    \n",
        "# retorna a terceira(indice 2) palavra da sentenca\n",
        "get_word(sentence,2)"
      ],
      "execution_count": 13,
      "outputs": [
        {
          "output_type": "execute_result",
          "data": {
            "application/vnd.google.colaboratory.intrinsic+json": {
              "type": "string"
            },
            "text/plain": [
              "'brown'"
            ]
          },
          "metadata": {
            "tags": []
          },
          "execution_count": 13
        }
      ]
    },
    {
      "cell_type": "code",
      "metadata": {
        "id": "KkRzFIMPAuY-",
        "outputId": "57fa6d8c-fa59-4410-fccf-d72e730f6517",
        "colab": {
          "base_uri": "https://localhost:8080/",
          "height": 36
        }
      },
      "source": [
        "# retorna a terceira (indice 2) palavra da sentenca na ordem inversa\n",
        "get_word(sentence,2)[::-1]"
      ],
      "execution_count": 14,
      "outputs": [
        {
          "output_type": "execute_result",
          "data": {
            "application/vnd.google.colaboratory.intrinsic+json": {
              "type": "string"
            },
            "text/plain": [
              "'nworb'"
            ]
          },
          "metadata": {
            "tags": []
          },
          "execution_count": 14
        }
      ]
    },
    {
      "cell_type": "code",
      "metadata": {
        "id": "BuH-XAnDA0_y",
        "outputId": "9b864210-8e1c-4298-b783-1a22f375f304",
        "colab": {
          "base_uri": "https://localhost:8080/",
          "height": 36
        }
      },
      "source": [
        "# concatena a primeira e a ultima palavra do texto\n",
        "def concat_words(text):\n",
        "    \"\"\"\n",
        "    This method will concat first and last \n",
        "    words of given text\n",
        "    \"\"\"\n",
        "    words = text.split()\n",
        "    first_word = words[0]\n",
        "    last_word = words[len(words)-1]\n",
        "    return first_word + last_word\n",
        "\n",
        "# concatena a primeira (The) e a ultima (dog) palavra da sentenca\n",
        "concat_words(sentence)"
      ],
      "execution_count": 15,
      "outputs": [
        {
          "output_type": "execute_result",
          "data": {
            "application/vnd.google.colaboratory.intrinsic+json": {
              "type": "string"
            },
            "text/plain": [
              "'Thedog'"
            ]
          },
          "metadata": {
            "tags": []
          },
          "execution_count": 15
        }
      ]
    },
    {
      "cell_type": "code",
      "metadata": {
        "id": "GzI_aECpBABg",
        "outputId": "51c23694-e65c-4635-bd96-c33c869be30a",
        "colab": {
          "base_uri": "https://localhost:8080/",
          "height": 35
        }
      },
      "source": [
        "def get_even_position_words(text):\n",
        "    words = text.split()\n",
        "    return [words[i] for i in range(len(words)) if i%2 == 0]\n",
        " \n",
        "# retorna as palavras da sentenca em posicoes pares \n",
        "get_even_position_words(sentence)"
      ],
      "execution_count": 17,
      "outputs": [
        {
          "output_type": "execute_result",
          "data": {
            "text/plain": [
              "['The', 'brown', 'jumps', 'the', 'dog']"
            ]
          },
          "metadata": {
            "tags": []
          },
          "execution_count": 17
        }
      ]
    },
    {
      "cell_type": "code",
      "metadata": {
        "id": "RMe-Or7fBDcy",
        "outputId": "3be60772-edde-44e4-d8ec-c01ee66774e5",
        "colab": {
          "base_uri": "https://localhost:8080/",
          "height": 36
        }
      },
      "source": [
        "def get_last_n_letters(text, n):\n",
        "    return text[-n:]\n",
        "\n",
        "# retorna as ultimas tres letras da sentenca   \n",
        "get_last_n_letters(sentence,3)"
      ],
      "execution_count": 18,
      "outputs": [
        {
          "output_type": "execute_result",
          "data": {
            "application/vnd.google.colaboratory.intrinsic+json": {
              "type": "string"
            },
            "text/plain": [
              "'dog'"
            ]
          },
          "metadata": {
            "tags": []
          },
          "execution_count": 18
        }
      ]
    },
    {
      "cell_type": "code",
      "metadata": {
        "id": "mgTpJm9PBH1p",
        "outputId": "32e54c7a-c3c8-43c8-ce6a-473bff21095c",
        "colab": {
          "base_uri": "https://localhost:8080/",
          "height": 36
        }
      },
      "source": [
        "def get_reverse(text):\n",
        "    return text[::-1]\n",
        "    \n",
        "# retorna o texto da sentenca na ordem inversa    \n",
        "get_reverse(sentence)"
      ],
      "execution_count": 19,
      "outputs": [
        {
          "output_type": "execute_result",
          "data": {
            "application/vnd.google.colaboratory.intrinsic+json": {
              "type": "string"
            },
            "text/plain": [
              "'god yzal eht revo spmuj xof nworb kciuq ehT'"
            ]
          },
          "metadata": {
            "tags": []
          },
          "execution_count": 19
        }
      ]
    },
    {
      "cell_type": "code",
      "metadata": {
        "id": "mBtO6j0iBKVh",
        "outputId": "32b99754-97f7-49b2-a879-8f153ca4a32e",
        "colab": {
          "base_uri": "https://localhost:8080/",
          "height": 36
        }
      },
      "source": [
        "def get_word_reverse(text):\n",
        "    words = text.split()\n",
        "    return ' '.join([word[::-1] for word in words])\n",
        "\n",
        "# retorna cada palavra da sentenca na ordem inversa, mantendo sua sequencia\n",
        "get_word_reverse(sentence)"
      ],
      "execution_count": 16,
      "outputs": [
        {
          "output_type": "execute_result",
          "data": {
            "application/vnd.google.colaboratory.intrinsic+json": {
              "type": "string"
            },
            "text/plain": [
              "'ehT kciuq nworb xof spmuj revo eht yzal god'"
            ]
          },
          "metadata": {
            "tags": []
          },
          "execution_count": 16
        }
      ]
    },
    {
      "cell_type": "markdown",
      "metadata": {
        "id": "DTdzhiG7CRDJ"
      },
      "source": [
        "## **Tarefas de Pré-processamento em PLN**"
      ]
    },
    {
      "cell_type": "markdown",
      "metadata": {
        "id": "x01_4-43Chi8"
      },
      "source": [
        "Para realizar essas tarefas, usaremos uma biblioteca Python chamada **NLTK** (Natural Language Toolkit). **NLTK** é uma ferramenta de código aberto poderosa que fornece um conjunto de métodos e algoritmos para realizar uma ampla gama de tarefas de PLN, incluindo *tokenization* (tokenização), *Parts-of-Speech tagging* (*PoS Tagging*), *stemming*, *lemmatization* (lematização) e muito mais."
      ]
    },
    {
      "cell_type": "markdown",
      "metadata": {
        "id": "cOKqKYeRZJ7_"
      },
      "source": [
        "**Tokenização**\n",
        "\n",
        "---\n",
        "\n"
      ]
    },
    {
      "cell_type": "markdown",
      "metadata": {
        "id": "t6ImGc0mEVcc"
      },
      "source": [
        "\n",
        "A **tokenização** se refere ao procedimento de dividir uma frase em suas partes constituintes - as palavras e a pontuação das quais ela é composta. \n",
        "\n",
        "É diferente de simplesmente dividir a frase em espaços em branco e, em vez disso, divide a frase em palavras constituintes, números (se houver) e pontuação, que nem sempre podem ser separados por espaços em branco. \n",
        "\n",
        "Por exemplo, considere esta frase: \"I am reading a book.\" Aqui, nossa tarefa é extrair palavras / tokens desta frase. Depois de passar essa frase para um programa de tokenização, as palavras / tokens extraídos seriam \"I\", \"am\", \"reading\", \"a\", \"book\" e \".\" - este exemplo extrai um token de cada vez. Esses tokens são chamados de **unigramas**.\n",
        "\n",
        "\n",
        "O NLTK fornece um método chamado **`word_tokenize()`**, que transforma o texto em palavras (tokens). Na verdade, ele separa o texto em palavras diferentes com base na pontuação e espaços entre as palavras."
      ]
    },
    {
      "cell_type": "markdown",
      "metadata": {
        "id": "2AM9PSpCFTVV"
      },
      "source": [
        "### **Exemplo 1.02 - Tokenização [*Tokenization*]**"
      ]
    },
    {
      "cell_type": "code",
      "metadata": {
        "id": "qUZDKegpGOGi",
        "outputId": "cf9270ba-93b1-415d-a141-a55103a526db",
        "colab": {
          "base_uri": "https://localhost:8080/",
          "height": 163
        }
      },
      "source": [
        "from nltk import word_tokenize,download\n",
        "download(['punkt','averaged_perceptron_tagger','stopwords'])"
      ],
      "execution_count": 27,
      "outputs": [
        {
          "output_type": "stream",
          "text": [
            "[nltk_data] Downloading package punkt to /root/nltk_data...\n",
            "[nltk_data]   Unzipping tokenizers/punkt.zip.\n",
            "[nltk_data] Downloading package averaged_perceptron_tagger to\n",
            "[nltk_data]     /root/nltk_data...\n",
            "[nltk_data]   Unzipping taggers/averaged_perceptron_tagger.zip.\n",
            "[nltk_data] Downloading package stopwords to /root/nltk_data...\n",
            "[nltk_data]   Unzipping corpora/stopwords.zip.\n"
          ],
          "name": "stdout"
        },
        {
          "output_type": "execute_result",
          "data": {
            "text/plain": [
              "True"
            ]
          },
          "metadata": {
            "tags": []
          },
          "execution_count": 27
        }
      ]
    },
    {
      "cell_type": "code",
      "metadata": {
        "id": "wOebC1YmGepE",
        "outputId": "30332e70-259a-4279-ae81-c68e5b803f92",
        "colab": {
          "base_uri": "https://localhost:8080/",
          "height": 35
        }
      },
      "source": [
        "def get_tokens(sentence):\n",
        "    words = word_tokenize(sentence)\n",
        "    return words\n",
        "\n",
        "print(get_tokens(\"I am reading NLP Fundamentals.\"))"
      ],
      "execution_count": 28,
      "outputs": [
        {
          "output_type": "stream",
          "text": [
            "['I', 'am', 'reading', 'NLP', 'Fundamentals', '.']\n"
          ],
          "name": "stdout"
        }
      ]
    },
    {
      "cell_type": "markdown",
      "metadata": {
        "id": "CZf_cmCXZUXn"
      },
      "source": [
        "**PoS Tagging**\n",
        "\n",
        "---\n"
      ]
    },
    {
      "cell_type": "markdown",
      "metadata": {
        "id": "PBRKc69HGwrD"
      },
      "source": [
        "Um etiquetador é responsável pelo processo de definição da classe gramatical das palavras, de acordo com as funções sintáticas.  \n",
        "\n",
        "O processo de classificação das palavras em suas classe gramaticais (a quais chamamos de ***Part-of-Speech*** ou ***POS***) e rotulação são conhecidas como *Part-of-Speech tagging*, *POS-tagging*, ou simplismente *tagging*.\n",
        "\n",
        "Em PLN, o termo PoS se refere a classes gramaticais. **PoS Tagging** se refere ao processo de etiquetação de palavras dentro de frases com seus respectivos PoS. Extraímos os PoS de tokens que constituem uma frase para que possamos filtrar os PoS de interesse e analisá-los. \n",
        "\n",
        "Por exemplo, se olharmos para a frase \"*The sky is blue*\", obteremos quatro tokens com a ajuda da **tokenização**: \"*The*\", \"*sky*\", \"*is*\" e \"*blue*\". Agora, usando um *POS tagger*, marcamos o PoS para cada palavra/token. Isso terá a seguinte aparência:\n",
        "\n",
        "> [('The', 'DT'), ('sky', 'NN'), ('is', 'VBZ'), ('blue', 'JJ')]\n",
        "\n",
        "O formato anterior é uma saída do método **`pos_tag()`** da biblioteca NLTK. É uma lista de tuplas em que cada tupla consiste na palavra seguida pela PoS tag:\n",
        "\n",
        "\n",
        "> **DT** = Determiner\n",
        "\n",
        "> **NN** = Noun, common, singular or mass\n",
        "\n",
        "> **VBZ** = Verb, present tense, third-person singular\n",
        "\n",
        "> **JJ** = Adjective\n",
        "\n",
        "Para obter a lista completa de PoS tags em NLTK, você pode consultar https://pythonprogramming.net/natural-language-toolkit-nltk-part-speech-tagging/.\n",
        "\n",
        "**PoS tagging** é realizada usando diferentes técnicas, uma das quais é uma abordagem baseada em regras que constrói uma lista para atribuir uma possível tag para cada palavra.\n",
        "\n",
        "**PoS tagging** encontra aplicação em muitas tarefas de PLN, incluindo desambiguação de sentido de palavra, classificação, reconhecimento de entidade nomeada (***NER - Named Entity Recognition***) e resolução de correferência.\n",
        "\n",
        "Por exemplo, considere o uso da palavra \"planted\" nestas duas frases:\n",
        "\n",
        "> \"*He planted the evidence for the case*\" e \"*He planted five trees in the garden*\"\n",
        "\n",
        "Podemos ver que a POS tag \"planted\" claramente nos ajudaria a diferenciar os diferentes significados das frases."
      ]
    },
    {
      "cell_type": "markdown",
      "metadata": {
        "id": "hRqF9-eXe9Va"
      },
      "source": [
        "### **Exemplo 1.03 - *PoS Tagging***"
      ]
    },
    {
      "cell_type": "code",
      "metadata": {
        "id": "ANagaiepfHF3"
      },
      "source": [
        "from nltk import word_tokenize, pos_tag"
      ],
      "execution_count": 29,
      "outputs": []
    },
    {
      "cell_type": "code",
      "metadata": {
        "id": "_w1utWbcfadV"
      },
      "source": [
        "def get_tokens(sentence):\n",
        "    words = word_tokenize(sentence)\n",
        "    return words"
      ],
      "execution_count": 30,
      "outputs": []
    },
    {
      "cell_type": "code",
      "metadata": {
        "id": "OHv6Q1B5fgAb",
        "outputId": "55a1971b-c767-4132-86ea-c5e43f9fb836",
        "colab": {
          "base_uri": "https://localhost:8080/",
          "height": 35
        }
      },
      "source": [
        "words  = get_tokens(\"I am reading NLP Fundamentals\")\n",
        "print(words)"
      ],
      "execution_count": 31,
      "outputs": [
        {
          "output_type": "stream",
          "text": [
            "['I', 'am', 'reading', 'NLP', 'Fundamentals']\n"
          ],
          "name": "stdout"
        }
      ]
    },
    {
      "cell_type": "code",
      "metadata": {
        "id": "cYzkNTOzfns-",
        "outputId": "51d0277d-2e06-47d0-b984-d3ab9cb4665b",
        "colab": {
          "base_uri": "https://localhost:8080/",
          "height": 108
        }
      },
      "source": [
        "def get_pos(words):\n",
        "    return pos_tag(words)\n",
        "    \n",
        "get_pos(words)"
      ],
      "execution_count": 32,
      "outputs": [
        {
          "output_type": "execute_result",
          "data": {
            "text/plain": [
              "[('I', 'PRP'),\n",
              " ('am', 'VBP'),\n",
              " ('reading', 'VBG'),\n",
              " ('NLP', 'NNP'),\n",
              " ('Fundamentals', 'NNS')]"
            ]
          },
          "metadata": {
            "tags": []
          },
          "execution_count": 32
        }
      ]
    },
    {
      "cell_type": "markdown",
      "metadata": {
        "id": "vibL1eq4fvYr"
      },
      "source": [
        "Na saída anterior, podemos ver que para cada token, um PoS foi alocado.\n",
        "\n",
        ">**PRP** significa pronome pessoal\n",
        "\n",
        "> **VBP** significa verbo no presente\n",
        "\n",
        "> **VGB** significa verbo no gerúndio\n",
        "\n",
        "> **NNP** significa substantivo próprio singular \n",
        "\n",
        "> **NNS** significa substantivo plural\n"
      ]
    },
    {
      "cell_type": "markdown",
      "metadata": {
        "id": "7xDFTRZHgYZU"
      },
      "source": [
        "**Remoção de *stop words***\n",
        "\n",
        "---"
      ]
    },
    {
      "cell_type": "markdown",
      "metadata": {
        "id": "BjSPIcyMgetf"
      },
      "source": [
        "As palavras irrelevantes (***stop words***) são as palavras que ocorrem com mais frequência em qualquer idioma e são usadas apenas para apoiar a construção de frases e não contribuem em nada para a semântica de uma frase.\n",
        "\n",
        "Portanto, podemos remover essas palavras de qualquer texto antes de um processo de PLL, pois elas ocorrem com muita frequência e sua presença não tem muito impacto no sentido de uma frase. Removê-las nos ajudará a limpar nossos dados, tornando sua análise muito mais eficiente. Exemplos de ***stop words*** (em inglês) incluem \"*a*\", \"*am*\", \"*and*\", \"*the*\", \"*in*\", \"*of*\", entre outras."
      ]
    },
    {
      "cell_type": "markdown",
      "metadata": {
        "id": "_CkKAgl6mcc6"
      },
      "source": [
        "### **Exemplo 1.04 - Remoção de *stop words***"
      ]
    },
    {
      "cell_type": "code",
      "metadata": {
        "id": "KPi3mZFrml8F",
        "outputId": "1a8ba610-ffff-4787-d9a9-fb6f10a0aadb",
        "colab": {
          "base_uri": "https://localhost:8080/",
          "height": 52
        }
      },
      "source": [
        "from nltk import download\n",
        "download('stopwords')\n",
        "from nltk import word_tokenize\n",
        "from nltk.corpus import stopwords"
      ],
      "execution_count": null,
      "outputs": [
        {
          "output_type": "stream",
          "text": [
            "[nltk_data] Downloading package stopwords to /root/nltk_data...\n",
            "[nltk_data]   Package stopwords is already up-to-date!\n"
          ],
          "name": "stdout"
        }
      ]
    },
    {
      "cell_type": "code",
      "metadata": {
        "id": "KYqC_sthmv9n",
        "outputId": "b3b86d02-36c0-4d87-8da9-3630aa94d0de",
        "colab": {
          "base_uri": "https://localhost:8080/",
          "height": 55
        }
      },
      "source": [
        "stop_words = stopwords.words('english')\n",
        "print(stop_words)"
      ],
      "execution_count": null,
      "outputs": [
        {
          "output_type": "stream",
          "text": [
            "['de', 'la', 'que', 'el', 'en', 'y', 'a', 'los', 'del', 'se', 'las', 'por', 'un', 'para', 'con', 'no', 'una', 'su', 'al', 'lo', 'como', 'más', 'pero', 'sus', 'le', 'ya', 'o', 'este', 'sí', 'porque', 'esta', 'entre', 'cuando', 'muy', 'sin', 'sobre', 'también', 'me', 'hasta', 'hay', 'donde', 'quien', 'desde', 'todo', 'nos', 'durante', 'todos', 'uno', 'les', 'ni', 'contra', 'otros', 'ese', 'eso', 'ante', 'ellos', 'e', 'esto', 'mí', 'antes', 'algunos', 'qué', 'unos', 'yo', 'otro', 'otras', 'otra', 'él', 'tanto', 'esa', 'estos', 'mucho', 'quienes', 'nada', 'muchos', 'cual', 'poco', 'ella', 'estar', 'estas', 'algunas', 'algo', 'nosotros', 'mi', 'mis', 'tú', 'te', 'ti', 'tu', 'tus', 'ellas', 'nosotras', 'vosotros', 'vosotras', 'os', 'mío', 'mía', 'míos', 'mías', 'tuyo', 'tuya', 'tuyos', 'tuyas', 'suyo', 'suya', 'suyos', 'suyas', 'nuestro', 'nuestra', 'nuestros', 'nuestras', 'vuestro', 'vuestra', 'vuestros', 'vuestras', 'esos', 'esas', 'estoy', 'estás', 'está', 'estamos', 'estáis', 'están', 'esté', 'estés', 'estemos', 'estéis', 'estén', 'estaré', 'estarás', 'estará', 'estaremos', 'estaréis', 'estarán', 'estaría', 'estarías', 'estaríamos', 'estaríais', 'estarían', 'estaba', 'estabas', 'estábamos', 'estabais', 'estaban', 'estuve', 'estuviste', 'estuvo', 'estuvimos', 'estuvisteis', 'estuvieron', 'estuviera', 'estuvieras', 'estuviéramos', 'estuvierais', 'estuvieran', 'estuviese', 'estuvieses', 'estuviésemos', 'estuvieseis', 'estuviesen', 'estando', 'estado', 'estada', 'estados', 'estadas', 'estad', 'he', 'has', 'ha', 'hemos', 'habéis', 'han', 'haya', 'hayas', 'hayamos', 'hayáis', 'hayan', 'habré', 'habrás', 'habrá', 'habremos', 'habréis', 'habrán', 'habría', 'habrías', 'habríamos', 'habríais', 'habrían', 'había', 'habías', 'habíamos', 'habíais', 'habían', 'hube', 'hubiste', 'hubo', 'hubimos', 'hubisteis', 'hubieron', 'hubiera', 'hubieras', 'hubiéramos', 'hubierais', 'hubieran', 'hubiese', 'hubieses', 'hubiésemos', 'hubieseis', 'hubiesen', 'habiendo', 'habido', 'habida', 'habidos', 'habidas', 'soy', 'eres', 'es', 'somos', 'sois', 'son', 'sea', 'seas', 'seamos', 'seáis', 'sean', 'seré', 'serás', 'será', 'seremos', 'seréis', 'serán', 'sería', 'serías', 'seríamos', 'seríais', 'serían', 'era', 'eras', 'éramos', 'erais', 'eran', 'fui', 'fuiste', 'fue', 'fuimos', 'fuisteis', 'fueron', 'fuera', 'fueras', 'fuéramos', 'fuerais', 'fueran', 'fuese', 'fueses', 'fuésemos', 'fueseis', 'fuesen', 'sintiendo', 'sentido', 'sentida', 'sentidos', 'sentidas', 'siente', 'sentid', 'tengo', 'tienes', 'tiene', 'tenemos', 'tenéis', 'tienen', 'tenga', 'tengas', 'tengamos', 'tengáis', 'tengan', 'tendré', 'tendrás', 'tendrá', 'tendremos', 'tendréis', 'tendrán', 'tendría', 'tendrías', 'tendríamos', 'tendríais', 'tendrían', 'tenía', 'tenías', 'teníamos', 'teníais', 'tenían', 'tuve', 'tuviste', 'tuvo', 'tuvimos', 'tuvisteis', 'tuvieron', 'tuviera', 'tuvieras', 'tuviéramos', 'tuvierais', 'tuvieran', 'tuviese', 'tuvieses', 'tuviésemos', 'tuvieseis', 'tuviesen', 'teniendo', 'tenido', 'tenida', 'tenidos', 'tenidas', 'tened']\n"
          ],
          "name": "stdout"
        }
      ]
    },
    {
      "cell_type": "code",
      "metadata": {
        "id": "vgr1r34Ym6ep",
        "outputId": "95e65797-683c-4c11-a0f1-0db806b5b8a4",
        "colab": {
          "base_uri": "https://localhost:8080/",
          "height": 35
        }
      },
      "source": [
        "sentence = \"I am learning Python. It is one of the most popular programming languages\"\n",
        "sentence_words = word_tokenize(sentence)\n",
        "\n",
        "print(sentence_words)"
      ],
      "execution_count": null,
      "outputs": [
        {
          "output_type": "stream",
          "text": [
            "['I', 'am', 'learning', 'Python', '.', 'It', 'is', 'one', 'of', 'the', 'most', 'popular', 'programming', 'languages']\n"
          ],
          "name": "stdout"
        }
      ]
    },
    {
      "cell_type": "code",
      "metadata": {
        "id": "yKMu0iQDnA7F",
        "outputId": "43881e5c-6902-4249-a4e2-a43dd720f37e",
        "colab": {
          "base_uri": "https://localhost:8080/",
          "height": 35
        }
      },
      "source": [
        "def remove_stop_words(sentence, stop_words):\n",
        "    return ' '.join([word for word in sentence if word not in stop_words])\n",
        "\n",
        "print(remove_stop_words(sentence_words, stop_words))"
      ],
      "execution_count": null,
      "outputs": [
        {
          "output_type": "stream",
          "text": [
            "I am learning Python . It is one of the most popular programming languages\n"
          ],
          "name": "stdout"
        }
      ]
    },
    {
      "cell_type": "code",
      "metadata": {
        "id": "vvymdtiYnGaQ",
        "outputId": "b4230e1c-3811-4e00-f6a5-ddc732e9304d",
        "colab": {
          "base_uri": "https://localhost:8080/",
          "height": 35
        }
      },
      "source": [
        "stop_words.extend(['I','It', 'one'])\n",
        "print(remove_stop_words(sentence_words,stop_words))"
      ],
      "execution_count": null,
      "outputs": [
        {
          "output_type": "stream",
          "text": [
            "am learning . is of the most popular programming languages\n"
          ],
          "name": "stdout"
        }
      ]
    },
    {
      "cell_type": "markdown",
      "metadata": {
        "id": "YfaUYXJ1oD5W"
      },
      "source": [
        "**Normalização de Textos**\n",
        "\n",
        "---"
      ]
    },
    {
      "cell_type": "markdown",
      "metadata": {
        "id": "8AA6gLHaoJKM"
      },
      "source": [
        "Existem algumas palavras que são soletradas, pronunciadas e representadas de maneira diferente - por exemplo, palavras como US e United States. Embora sejam diferentes, eles se referem à mesma coisa. \n",
        "\n",
        "Existem também diferentes formas de palavras que precisam ser convertidas em formas básicas. Por exemplo, palavras como \"*does*\" e \"*doing*\", quando convertidas para sua forma básica, tornam-se \"*do*\". \n",
        "\n",
        "A **normalização de textos** é um processo em que diferentes variações de texto são convertidas em um formato padrão. Precisamos realizar a normalização do texto, pois há algumas palavras que podem significar a mesma coisa. Existem várias maneiras de normalizar o texto, como *spelling correction* (correção ortográfica), *stemming* e *lemmatization* (lematização)."
      ]
    },
    {
      "cell_type": "markdown",
      "metadata": {
        "id": "SoRsqp1H83e-"
      },
      "source": [
        "### **Exercício 1.05 - Normalização de Textos**"
      ]
    },
    {
      "cell_type": "code",
      "metadata": {
        "id": "Looak_w59Uu1"
      },
      "source": [
        "sentence = \"I visited the US from the UK on 22-10-18\""
      ],
      "execution_count": null,
      "outputs": []
    },
    {
      "cell_type": "code",
      "metadata": {
        "id": "bsC_nR0W9eTW"
      },
      "source": [
        "def normalize(text):\n",
        "    return text.replace(\"US\", \"United States\").replace(\"UK\", \n",
        "        \"United Kingdom\").replace(\"-18\", \"-2018\")"
      ],
      "execution_count": null,
      "outputs": []
    },
    {
      "cell_type": "code",
      "metadata": {
        "id": "q6BXDoYb9ixI",
        "outputId": "8affed7f-5baa-4f35-ec82-a551c1c0e3c5",
        "colab": {
          "base_uri": "https://localhost:8080/",
          "height": 35
        }
      },
      "source": [
        "normalized_sentence = normalize(sentence)\n",
        "print(normalized_sentence)"
      ],
      "execution_count": null,
      "outputs": [
        {
          "output_type": "stream",
          "text": [
            "I visited the United States from the United Kingdom on 22-10-2018\n"
          ],
          "name": "stdout"
        }
      ]
    },
    {
      "cell_type": "code",
      "metadata": {
        "id": "AxbLIAvv9olZ",
        "outputId": "65a47de2-bd68-4f1c-e7aa-43694824e323",
        "colab": {
          "base_uri": "https://localhost:8080/",
          "height": 35
        }
      },
      "source": [
        "normalized_sentence = normalize('The US and the UK are two superpowers')\n",
        "print(normalized_sentence)"
      ],
      "execution_count": null,
      "outputs": [
        {
          "output_type": "stream",
          "text": [
            "The United States and the United Kingdom are two superpowers\n"
          ],
          "name": "stdout"
        }
      ]
    },
    {
      "cell_type": "markdown",
      "metadata": {
        "id": "8dyGynFN905X"
      },
      "source": [
        "**Correção Ortográfica (*Spelling Correction*)**\n",
        "\n",
        "---"
      ]
    },
    {
      "cell_type": "markdown",
      "metadata": {
        "id": "xdd-S22T-Dru"
      },
      "source": [
        "A **correção ortográfica** é uma das tarefas mais importantes em qualquer projeto de PLN. Pode ser demorado, mas sem ele há grandes chances de perder informações importantes.\n",
        "\n",
        "A correção ortográfica é executada em duas etapas:\n",
        "\n",
        "1. Identifique a palavra com grafia incorreta, o que pode ser feito por uma \n",
        "simples pesquisa no dicionário. Se não houver correspondência no dicionário do idioma, será considerado incorreto.\n",
        "\n",
        "2. Substitua ou sugira a palavra soletrada corretamente. Existem muitos algoritmos para essa tarefa. Um deles é o algoritmo de **distância de edição mínima** (*minimum edit distance*), que escolhe a palavra soletrada corretamente mais próxima para uma palavra com erros ortográficos. A proximidade é definida pelo número de edições que precisam ser feitas na palavra digitada incorretamente para chegar à palavra digitada corretamente."
      ]
    },
    {
      "cell_type": "markdown",
      "metadata": {
        "id": "APfeGPx5AOOW"
      },
      "source": [
        "### **Exemplo 1.06 - Correção Ortográfica**"
      ]
    },
    {
      "cell_type": "code",
      "metadata": {
        "id": "wT6ihkfxBRvf",
        "outputId": "9cbb4a71-a0d9-401b-ad52-090e3b24d680",
        "colab": {
          "base_uri": "https://localhost:8080/",
          "height": 211
        }
      },
      "source": [
        "!pip install autocorrect"
      ],
      "execution_count": null,
      "outputs": [
        {
          "output_type": "stream",
          "text": [
            "Collecting autocorrect\n",
            "\u001b[?25l  Downloading https://files.pythonhosted.org/packages/a0/71/eb8c1f83439dfe6cbe1edb03be1f1110b242503b61950e7c292dd557c23e/autocorrect-2.2.2.tar.gz (621kB)\n",
            "\r\u001b[K     |▌                               | 10kB 13.8MB/s eta 0:00:01\r\u001b[K     |█                               | 20kB 1.7MB/s eta 0:00:01\r\u001b[K     |█▋                              | 30kB 2.2MB/s eta 0:00:01\r\u001b[K     |██                              | 40kB 2.4MB/s eta 0:00:01\r\u001b[K     |██▋                             | 51kB 2.0MB/s eta 0:00:01\r\u001b[K     |███▏                            | 61kB 2.3MB/s eta 0:00:01\r\u001b[K     |███▊                            | 71kB 2.5MB/s eta 0:00:01\r\u001b[K     |████▏                           | 81kB 2.7MB/s eta 0:00:01\r\u001b[K     |████▊                           | 92kB 2.9MB/s eta 0:00:01\r\u001b[K     |█████▎                          | 102kB 2.7MB/s eta 0:00:01\r\u001b[K     |█████▉                          | 112kB 2.7MB/s eta 0:00:01\r\u001b[K     |██████▎                         | 122kB 2.7MB/s eta 0:00:01\r\u001b[K     |██████▉                         | 133kB 2.7MB/s eta 0:00:01\r\u001b[K     |███████▍                        | 143kB 2.7MB/s eta 0:00:01\r\u001b[K     |████████                        | 153kB 2.7MB/s eta 0:00:01\r\u001b[K     |████████▍                       | 163kB 2.7MB/s eta 0:00:01\r\u001b[K     |█████████                       | 174kB 2.7MB/s eta 0:00:01\r\u001b[K     |█████████▌                      | 184kB 2.7MB/s eta 0:00:01\r\u001b[K     |██████████                      | 194kB 2.7MB/s eta 0:00:01\r\u001b[K     |██████████▌                     | 204kB 2.7MB/s eta 0:00:01\r\u001b[K     |███████████                     | 215kB 2.7MB/s eta 0:00:01\r\u001b[K     |███████████▋                    | 225kB 2.7MB/s eta 0:00:01\r\u001b[K     |████████████▏                   | 235kB 2.7MB/s eta 0:00:01\r\u001b[K     |████████████▋                   | 245kB 2.7MB/s eta 0:00:01\r\u001b[K     |█████████████▏                  | 256kB 2.7MB/s eta 0:00:01\r\u001b[K     |█████████████▊                  | 266kB 2.7MB/s eta 0:00:01\r\u001b[K     |██████████████▎                 | 276kB 2.7MB/s eta 0:00:01\r\u001b[K     |██████████████▊                 | 286kB 2.7MB/s eta 0:00:01\r\u001b[K     |███████████████▎                | 296kB 2.7MB/s eta 0:00:01\r\u001b[K     |███████████████▉                | 307kB 2.7MB/s eta 0:00:01\r\u001b[K     |████████████████▍               | 317kB 2.7MB/s eta 0:00:01\r\u001b[K     |████████████████▉               | 327kB 2.7MB/s eta 0:00:01\r\u001b[K     |█████████████████▍              | 337kB 2.7MB/s eta 0:00:01\r\u001b[K     |██████████████████              | 348kB 2.7MB/s eta 0:00:01\r\u001b[K     |██████████████████▌             | 358kB 2.7MB/s eta 0:00:01\r\u001b[K     |███████████████████             | 368kB 2.7MB/s eta 0:00:01\r\u001b[K     |███████████████████▌            | 378kB 2.7MB/s eta 0:00:01\r\u001b[K     |████████████████████            | 389kB 2.7MB/s eta 0:00:01\r\u001b[K     |████████████████████▌           | 399kB 2.7MB/s eta 0:00:01\r\u001b[K     |█████████████████████           | 409kB 2.7MB/s eta 0:00:01\r\u001b[K     |█████████████████████▋          | 419kB 2.7MB/s eta 0:00:01\r\u001b[K     |██████████████████████▏         | 430kB 2.7MB/s eta 0:00:01\r\u001b[K     |██████████████████████▋         | 440kB 2.7MB/s eta 0:00:01\r\u001b[K     |███████████████████████▏        | 450kB 2.7MB/s eta 0:00:01\r\u001b[K     |███████████████████████▊        | 460kB 2.7MB/s eta 0:00:01\r\u001b[K     |████████████████████████▎       | 471kB 2.7MB/s eta 0:00:01\r\u001b[K     |████████████████████████▊       | 481kB 2.7MB/s eta 0:00:01\r\u001b[K     |█████████████████████████▎      | 491kB 2.7MB/s eta 0:00:01\r\u001b[K     |█████████████████████████▉      | 501kB 2.7MB/s eta 0:00:01\r\u001b[K     |██████████████████████████▍     | 512kB 2.7MB/s eta 0:00:01\r\u001b[K     |██████████████████████████▉     | 522kB 2.7MB/s eta 0:00:01\r\u001b[K     |███████████████████████████▍    | 532kB 2.7MB/s eta 0:00:01\r\u001b[K     |████████████████████████████    | 542kB 2.7MB/s eta 0:00:01\r\u001b[K     |████████████████████████████▌   | 552kB 2.7MB/s eta 0:00:01\r\u001b[K     |█████████████████████████████   | 563kB 2.7MB/s eta 0:00:01\r\u001b[K     |█████████████████████████████▌  | 573kB 2.7MB/s eta 0:00:01\r\u001b[K     |██████████████████████████████  | 583kB 2.7MB/s eta 0:00:01\r\u001b[K     |██████████████████████████████▋ | 593kB 2.7MB/s eta 0:00:01\r\u001b[K     |███████████████████████████████ | 604kB 2.7MB/s eta 0:00:01\r\u001b[K     |███████████████████████████████▋| 614kB 2.7MB/s eta 0:00:01\r\u001b[K     |████████████████████████████████| 624kB 2.7MB/s \n",
            "\u001b[?25hBuilding wheels for collected packages: autocorrect\n",
            "  Building wheel for autocorrect (setup.py) ... \u001b[?25l\u001b[?25hdone\n",
            "  Created wheel for autocorrect: filename=autocorrect-2.2.2-cp36-none-any.whl size=621491 sha256=6bca1b3607ea8cb42e35b214aa380e2fa9ce749eaa8689a07878e3c4e6860481\n",
            "  Stored in directory: /root/.cache/pip/wheels/b4/0b/7d/98268d64c8697425f712c897265394486542141bbe4de319d6\n",
            "Successfully built autocorrect\n",
            "Installing collected packages: autocorrect\n",
            "Successfully installed autocorrect-2.2.2\n"
          ],
          "name": "stdout"
        }
      ]
    },
    {
      "cell_type": "code",
      "metadata": {
        "id": "xS6vQHRPAcfm"
      },
      "source": [
        "from nltk import word_tokenize\n",
        "from autocorrect import Speller"
      ],
      "execution_count": null,
      "outputs": []
    },
    {
      "cell_type": "code",
      "metadata": {
        "id": "da7HtmOXBV0H",
        "outputId": "71b4bb35-3e43-4c88-ff2c-c03f5e4e6d43",
        "colab": {
          "base_uri": "https://localhost:8080/",
          "height": 35
        }
      },
      "source": [
        "spell = Speller(lang='en')\n",
        "spell('Natureal')"
      ],
      "execution_count": null,
      "outputs": [
        {
          "output_type": "execute_result",
          "data": {
            "application/vnd.google.colaboratory.intrinsic+json": {
              "type": "string"
            },
            "text/plain": [
              "'Natural'"
            ]
          },
          "metadata": {
            "tags": []
          },
          "execution_count": 30
        }
      ]
    },
    {
      "cell_type": "code",
      "metadata": {
        "id": "vpH_lwkpBdgm",
        "outputId": "a6a21bc3-f691-404a-ad78-b58fa0309562",
        "colab": {
          "base_uri": "https://localhost:8080/",
          "height": 35
        }
      },
      "source": [
        "sentence = word_tokenize(\"Ntural Luanguage Processin deals with the art of extracting insightes from Natural Languaes\")\n",
        "print(sentence)"
      ],
      "execution_count": null,
      "outputs": [
        {
          "output_type": "stream",
          "text": [
            "['Ntural', 'Luanguage', 'Processin', 'deals', 'with', 'the', 'art', 'of', 'extracting', 'insightes', 'from', 'Natural', 'Languaes']\n"
          ],
          "name": "stdout"
        }
      ]
    },
    {
      "cell_type": "code",
      "metadata": {
        "id": "hyN3l9XnBl8g",
        "outputId": "d21113e0-d7c1-4ec0-8e7b-164aa94bb5cc",
        "colab": {
          "base_uri": "https://localhost:8080/",
          "height": 35
        }
      },
      "source": [
        "def correct_spelling(tokens):\n",
        "    sentence_corrected = ' '.join([spell(word) for word in tokens])\n",
        "    return sentence_corrected\n",
        "\n",
        "print(correct_spelling(sentence))"
      ],
      "execution_count": null,
      "outputs": [
        {
          "output_type": "stream",
          "text": [
            "Natural Language Processing deals with the art of extracting insights from Natural Languages\n"
          ],
          "name": "stdout"
        }
      ]
    },
    {
      "cell_type": "markdown",
      "metadata": {
        "id": "Fk1MLzG6CN1A"
      },
      "source": [
        "***Stemming***\n",
        "\n",
        "---"
      ]
    },
    {
      "cell_type": "markdown",
      "metadata": {
        "id": "U5-O3ehFCUF5"
      },
      "source": [
        "Na maioria dos idiomas, as palavras são transformadas em várias formas ao serem usadas em uma frase. Por exemplo, a palavra \"*product*\" pode ser transformada em \"*production*\" quando se refere ao processo de fazer algo ou transformada em \"*products*\" no plural. \n",
        "\n",
        "É necessário converter essas palavras em suas formas básicas, pois elas carregam o mesmo significado em qualquer caso. ***Stemming*** é o processo que nos ajuda a fazer isso. Se olharmos a figura a seguir, teremos uma ideia perfeita de como as palavras são transformadas em suas formas básicas:\n",
        "\n",
        "![stemming.png](data:image/png;base64,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)\n"
      ]
    },
    {
      "cell_type": "markdown",
      "metadata": {
        "id": "LDi6Uh2DDPYW"
      },
      "source": [
        "### **Exemplo 1.07 - *Stemming***"
      ]
    },
    {
      "cell_type": "markdown",
      "metadata": {
        "id": "KQi1cumLDkGP"
      },
      "source": [
        "Neste exemplo, usaremos dois algoritmos, chamados de ***Porter stemmer*** e ***Snowball stemmer***, fornecidos pela biblioteca NLTK. O ***Porter stemmer*** é um algoritmo baseado em regras que transforma palavras em sua forma básica removendo sufixos de palavras. O ***Snowball stemmer*** é uma melhoria em relação ao anterior, pois é um pouco mais rápido e usa menos memória. No NLTK, isso é feito pelo método **`stem()`** fornecido pela classe `PorterStemmer`."
      ]
    },
    {
      "cell_type": "code",
      "metadata": {
        "id": "N-HU8p8rDb7w"
      },
      "source": [
        "from nltk import stem"
      ],
      "execution_count": null,
      "outputs": []
    },
    {
      "cell_type": "code",
      "metadata": {
        "id": "MQf4fAY3EnH2",
        "outputId": "28c1c0b9-b11c-41cc-88d3-0a31a9a1bcbc",
        "colab": {
          "base_uri": "https://localhost:8080/",
          "height": 35
        }
      },
      "source": [
        "def get_stems(word,stemmer):\n",
        "    return stemmer.stem(word)\n",
        "porterStem = stem.PorterStemmer()\n",
        "\n",
        "get_stems(\"production\",porterStem)"
      ],
      "execution_count": null,
      "outputs": [
        {
          "output_type": "execute_result",
          "data": {
            "application/vnd.google.colaboratory.intrinsic+json": {
              "type": "string"
            },
            "text/plain": [
              "'product'"
            ]
          },
          "metadata": {
            "tags": []
          },
          "execution_count": 34
        }
      ]
    },
    {
      "cell_type": "code",
      "metadata": {
        "id": "dl32n6R9Eqk_",
        "outputId": "0ca5275d-e348-489c-e785-9958fc50af28",
        "colab": {
          "base_uri": "https://localhost:8080/",
          "height": 35
        }
      },
      "source": [
        "get_stems(\"coming\",porterStem)"
      ],
      "execution_count": null,
      "outputs": [
        {
          "output_type": "execute_result",
          "data": {
            "application/vnd.google.colaboratory.intrinsic+json": {
              "type": "string"
            },
            "text/plain": [
              "'come'"
            ]
          },
          "metadata": {
            "tags": []
          },
          "execution_count": 35
        }
      ]
    },
    {
      "cell_type": "code",
      "metadata": {
        "id": "lOYvR3MZEucb",
        "outputId": "cf39c62d-1490-468a-a6b2-c9fd67f7d5d7",
        "colab": {
          "base_uri": "https://localhost:8080/",
          "height": 36
        }
      },
      "source": [
        "get_stems(\"firing\",porterStem)"
      ],
      "execution_count": null,
      "outputs": [
        {
          "output_type": "execute_result",
          "data": {
            "application/vnd.google.colaboratory.intrinsic+json": {
              "type": "string"
            },
            "text/plain": [
              "'fire'"
            ]
          },
          "metadata": {
            "tags": []
          },
          "execution_count": 61
        }
      ]
    },
    {
      "cell_type": "code",
      "metadata": {
        "id": "Pys8LnZ-Eztc",
        "outputId": "b8568abf-18ff-4263-a4c0-304dbd3b18b5",
        "colab": {
          "base_uri": "https://localhost:8080/",
          "height": 36
        }
      },
      "source": [
        "get_stems(\"battling\",porterStem)"
      ],
      "execution_count": null,
      "outputs": [
        {
          "output_type": "execute_result",
          "data": {
            "application/vnd.google.colaboratory.intrinsic+json": {
              "type": "string"
            },
            "text/plain": [
              "'battl'"
            ]
          },
          "metadata": {
            "tags": []
          },
          "execution_count": 62
        }
      ]
    },
    {
      "cell_type": "code",
      "metadata": {
        "id": "vcWU8mMrE4V6",
        "outputId": "d67b2ba5-f73b-4678-c4e9-151aa14a34c3",
        "colab": {
          "base_uri": "https://localhost:8080/",
          "height": 36
        }
      },
      "source": [
        "stemmer = stem.SnowballStemmer(\"english\")\n",
        "get_stems(\"battling\",stemmer)"
      ],
      "execution_count": null,
      "outputs": [
        {
          "output_type": "execute_result",
          "data": {
            "application/vnd.google.colaboratory.intrinsic+json": {
              "type": "string"
            },
            "text/plain": [
              "'battl'"
            ]
          },
          "metadata": {
            "tags": []
          },
          "execution_count": 63
        }
      ]
    },
    {
      "cell_type": "markdown",
      "metadata": {
        "id": "PQQou3NjFGe0"
      },
      "source": [
        "**Lematização (*Lemmatization*)**\n",
        "\n",
        "---"
      ]
    },
    {
      "cell_type": "markdown",
      "metadata": {
        "id": "lBukulzHFRt0"
      },
      "source": [
        "Às vezes, o processo de *stemming* leva a resultados incorretos. \n",
        "\n",
        "Por exemplo, no último exercício, a palavra ***battling*** foi transformada em \"*battl*\", que não é uma palavra. Para superar esses problemas com *stemming*, usamos a lematização. \n",
        "\n",
        "A **lematização** é o processo de converter palavras em sua forma gramatical básica, como em \"*battling*\" em \"*battle*\", em vez de apenas de cortar palavras aleatoriamente. Nesse processo, uma verificação adicional é feita procurando em um **dicionário** para extrair a forma base de uma palavra."
      ]
    },
    {
      "cell_type": "markdown",
      "metadata": {
        "id": "7GGGWTNhGj62"
      },
      "source": [
        "### **Exemplo 1.08 - Lematização**"
      ]
    },
    {
      "cell_type": "code",
      "metadata": {
        "id": "k9k0yLr_GqTZ",
        "outputId": "fda88fc6-d3a0-46da-ed68-a6b15584df98",
        "colab": {
          "base_uri": "https://localhost:8080/",
          "height": 52
        }
      },
      "source": [
        "from nltk import download\n",
        "download('wordnet')\n",
        "from nltk.stem.wordnet import WordNetLemmatizer"
      ],
      "execution_count": null,
      "outputs": [
        {
          "output_type": "stream",
          "text": [
            "[nltk_data] Downloading package wordnet to /root/nltk_data...\n",
            "[nltk_data]   Unzipping corpora/wordnet.zip.\n"
          ],
          "name": "stdout"
        }
      ]
    },
    {
      "cell_type": "code",
      "metadata": {
        "id": "YgU6BnzTGx7L"
      },
      "source": [
        "lemmatizer = WordNetLemmatizer()"
      ],
      "execution_count": null,
      "outputs": []
    },
    {
      "cell_type": "code",
      "metadata": {
        "id": "RzJOP2x-G2d0",
        "outputId": "a1158051-27ac-441a-8769-b010d474a4af",
        "colab": {
          "base_uri": "https://localhost:8080/",
          "height": 35
        }
      },
      "source": [
        "def get_lemma(word):\n",
        "    return lemmatizer.lemmatize(word)\n",
        "\n",
        "get_lemma('products')"
      ],
      "execution_count": null,
      "outputs": [
        {
          "output_type": "execute_result",
          "data": {
            "application/vnd.google.colaboratory.intrinsic+json": {
              "type": "string"
            },
            "text/plain": [
              "'product'"
            ]
          },
          "metadata": {
            "tags": []
          },
          "execution_count": 38
        }
      ]
    },
    {
      "cell_type": "code",
      "metadata": {
        "id": "tTPbeUTDG9V4",
        "outputId": "206c2b80-ef03-4720-dd71-4d3134b2a6d8",
        "colab": {
          "base_uri": "https://localhost:8080/",
          "height": 36
        }
      },
      "source": [
        "get_lemma('production')"
      ],
      "execution_count": null,
      "outputs": [
        {
          "output_type": "execute_result",
          "data": {
            "application/vnd.google.colaboratory.intrinsic+json": {
              "type": "string"
            },
            "text/plain": [
              "'production'"
            ]
          },
          "metadata": {
            "tags": []
          },
          "execution_count": 67
        }
      ]
    },
    {
      "cell_type": "code",
      "metadata": {
        "id": "MfZeIPQXG-rj",
        "outputId": "d4aeff67-47cb-4551-9e36-11727c01c8ab",
        "colab": {
          "base_uri": "https://localhost:8080/",
          "height": 35
        }
      },
      "source": [
        "get_lemma('coming')"
      ],
      "execution_count": null,
      "outputs": [
        {
          "output_type": "execute_result",
          "data": {
            "application/vnd.google.colaboratory.intrinsic+json": {
              "type": "string"
            },
            "text/plain": [
              "'coming'"
            ]
          },
          "metadata": {
            "tags": []
          },
          "execution_count": 42
        }
      ]
    },
    {
      "cell_type": "markdown",
      "metadata": {
        "id": "qKKxbazxHJf9"
      },
      "source": [
        "**Reconhecimento de Entidades Nomeadas (*NER - Named Entity Recognition*)**\n",
        "\n",
        "---"
      ]
    },
    {
      "cell_type": "markdown",
      "metadata": {
        "id": "XrajXzC2HYh4"
      },
      "source": [
        "**Reconhecimento de Entidades Nomeadas** é o processo de extrair entidades importantes, como nomes de pessoas, nomes de lugares e nomes de organizações, de um determinado texto. \n",
        "\n",
        "Eles geralmente não estão presentes nos dicionários. Portanto, precisamos tratá-los de forma diferente. O principal objetivo desse processo é identificar as entidades nomeadas (como nomes próprios) e mapeá-las em categorias, que já estão definidas. Por exemplo, as categorias podem incluir nomes de pessoas, lugares e assim por diante.\n",
        "\n",
        "O **Reconhecimento de Entidades Nomeadas** encontrou uso em muitas tarefas de PLN, incluindo atribuição de tags a artigos de notícias, algoritmos de pesquisa e muito mais. O **Reconhecimento de Entidades Nomeadas** pode analisar um artigo de notícias e extrair as principais pessoas, organizações e lugares discutidos nele e atribuí-los como marcas para novos artigos.\n",
        "\n",
        "No caso de algoritmos de busca, vamos supor que tenhamos que criar um mecanismo de busca, voltado especificamente para livros. Se tivéssemos de enviar uma determinada consulta para todas as palavras, a pesquisa demoraria muito. Em vez disso, se extrairmos as entidades principais de todos os livros usando **Reconhecimento de Entidades Nomeadas** e executarmos uma consulta de pesquisa nas entidades em vez de em todo o conteúdo, a velocidade do sistema aumentará drasticamente.\n",
        "\n",
        "**Chunking** é o processo de agrupar palavras em pedaços, que podem ser usados ​​posteriormente para encontrar grupos de substantivos e grupos de verbos, ou também para particionar frases."
      ]
    },
    {
      "cell_type": "markdown",
      "metadata": {
        "id": "bKtTCrn2Imxd"
      },
      "source": [
        "### **Exemplo 1.09 - Reconhecimento de Entidades Nomeadas**"
      ]
    },
    {
      "cell_type": "code",
      "metadata": {
        "id": "KUjpeg80IwR4",
        "outputId": "b4027328-a223-429c-a5b7-74abee93e7a5",
        "colab": {
          "base_uri": "https://localhost:8080/",
          "height": 121
        }
      },
      "source": [
        "from nltk import download\n",
        "from nltk import pos_tag\n",
        "from nltk import ne_chunk\n",
        "from nltk import word_tokenize\n",
        "download('maxent_ne_chunker')\n",
        "download('words')"
      ],
      "execution_count": null,
      "outputs": [
        {
          "output_type": "stream",
          "text": [
            "[nltk_data] Downloading package maxent_ne_chunker to\n",
            "[nltk_data]     /root/nltk_data...\n",
            "[nltk_data]   Unzipping chunkers/maxent_ne_chunker.zip.\n",
            "[nltk_data] Downloading package words to /root/nltk_data...\n",
            "[nltk_data]   Unzipping corpora/words.zip.\n"
          ],
          "name": "stdout"
        },
        {
          "output_type": "execute_result",
          "data": {
            "text/plain": [
              "True"
            ]
          },
          "metadata": {
            "tags": []
          },
          "execution_count": 43
        }
      ]
    },
    {
      "cell_type": "code",
      "metadata": {
        "id": "PoKqWicpI844"
      },
      "source": [
        "sentence = \"We are reading a book published by Packt which is based out of Birmingham.\""
      ],
      "execution_count": null,
      "outputs": []
    },
    {
      "cell_type": "code",
      "metadata": {
        "id": "_hX2-LKJI_gi",
        "outputId": "cbd30c97-3031-4a7c-f3fa-7c046f975a4f",
        "colab": {
          "base_uri": "https://localhost:8080/",
          "height": 35
        }
      },
      "source": [
        "def get_ner(text):\n",
        "    i = ne_chunk(pos_tag(word_tokenize(text)), binary=True)\n",
        "    return [a for a in i if len(a)==1]\n",
        "    \n",
        "get_ner(sentence)"
      ],
      "execution_count": null,
      "outputs": [
        {
          "output_type": "execute_result",
          "data": {
            "text/plain": [
              "[Tree('NE', [('Packt', 'NNP')]), Tree('NE', [('Birmingham', 'NNP')])]"
            ]
          },
          "metadata": {
            "tags": []
          },
          "execution_count": 45
        }
      ]
    },
    {
      "cell_type": "markdown",
      "metadata": {
        "id": "RGkWTTBNJkX1"
      },
      "source": [
        "**Desambiguação do sentido da palavra (*Word Sense Disambiguation*)**\n",
        "\n",
        "---"
      ]
    },
    {
      "cell_type": "markdown",
      "metadata": {
        "id": "hz67vou_JsuN"
      },
      "source": [
        "O significado de uma palavra depende de sua associação com outras palavras em uma frase. Isso significa que duas ou mais palavras com a mesma grafia podem ter significados diferentes em diferentes contextos.\n",
        "\n",
        "Isso geralmente leva à **ambigüidade**. A **desambiguação do sentido da palavra** é o processo de mapear uma palavra para o sentido que ela deve ter. Precisamos desambiguar as palavras com base no sentido que carregam, para que possam ser tratadas como entidades diferentes ao serem analisadas. A figura a seguir mostra um exemplo perfeito de como a ambigüidade é causada devido ao uso da mesma palavra em frases diferentes:\n",
        "\n",
        "\n",
        "![image.png](data:image/png;base64,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)"
      ]
    },
    {
      "cell_type": "markdown",
      "metadata": {
        "id": "C9-n54eGbj6X"
      },
      "source": [
        "Um dos algoritmos para resolver a desambiguação do sentido da palavra é o algoritmo de **Lesk**. Possui um enorme corpus de fundo (geralmente é usado **WordNet**) que contém definições de todos os sinônimos possíveis de todas as palavras possíveis em um idioma. Em seguida, ele pega uma palavra e o contexto como entrada e encontra uma correspondência entre o contexto e todas as definições da palavra. O significado com o maior número de correspondências com o contexto da palavra será retornado.\n",
        "\n",
        "Por exemplo, suponha que temos uma frase como \"*We play only socce*\" em um determinado texto. Agora, precisamos encontrar o significado da palavra \"*play*\" nesta frase. No algoritmo de Lesk, cada palavra com significado ambíguo é salva em *synsets*. Neste caso, a palavra \"play\" será salva com todas as definições possíveis. Digamos que temos duas definições para a palavra \"*play*\":\n",
        "\n",
        "> **Jogar**: participar de um esporte ou jogo\n",
        "> **Tocar**: usando um instrumento musical\n",
        "\n",
        "Em seguida, encontraremos a similaridade entre o contexto da palavra \"play\" no texto e ambas as definições anteriores usando técnicas de similaridade de texto. A definição mais adequada ao contexto de \"*play*\" na frase será considerada o significado ou definição da palavra. Nesse caso, descobriremos que nossa primeira definição se encaixa melhor no contexto, pois as palavras \"*sport*\" e \"*game*\" estão presentes nas frases anteriores."
      ]
    },
    {
      "cell_type": "markdown",
      "metadata": {
        "id": "wQBg_u7gdFt5"
      },
      "source": [
        "### **Exemplo 1.10 - Desambiguação do Sentido da Palavra**"
      ]
    },
    {
      "cell_type": "code",
      "metadata": {
        "id": "BHEWNa8sdR0R"
      },
      "source": [
        "from nltk.wsd import lesk\n",
        "from nltk import word_tokenize"
      ],
      "execution_count": null,
      "outputs": []
    },
    {
      "cell_type": "code",
      "metadata": {
        "id": "B8obOLqXdiJh"
      },
      "source": [
        "sentence1 = \"Keep your savings in the bank\"\n",
        "sentence2 = \"It's so risky to drive over the banks of the road\""
      ],
      "execution_count": null,
      "outputs": []
    },
    {
      "cell_type": "code",
      "metadata": {
        "id": "ddGDEADSdmvL",
        "outputId": "1abe23e8-1b59-4cd7-9fd0-152fb0f9779d",
        "colab": {
          "base_uri": "https://localhost:8080/",
          "height": 35
        }
      },
      "source": [
        "def get_synset(sentence, word):\n",
        "    return lesk(word_tokenize(sentence), word)\n",
        "    \n",
        "get_synset(sentence1,'bank')"
      ],
      "execution_count": null,
      "outputs": [
        {
          "output_type": "execute_result",
          "data": {
            "text/plain": [
              "Synset('savings_bank.n.02')"
            ]
          },
          "metadata": {
            "tags": []
          },
          "execution_count": 77
        }
      ]
    },
    {
      "cell_type": "code",
      "metadata": {
        "id": "kkaeSf3vdpOf",
        "outputId": "64658dc1-3307-40b2-8ade-4ab31eef3c5d",
        "colab": {
          "base_uri": "https://localhost:8080/",
          "height": 35
        }
      },
      "source": [
        "get_synset(sentence2,'bank')"
      ],
      "execution_count": null,
      "outputs": [
        {
          "output_type": "execute_result",
          "data": {
            "text/plain": [
              "Synset('bank.v.07')"
            ]
          },
          "metadata": {
            "tags": []
          },
          "execution_count": 78
        }
      ]
    },
    {
      "cell_type": "code",
      "metadata": {
        "id": "H9WmPTEQeP8C",
        "outputId": "e2a3603e-7833-4aa8-ee14-eade6e792986",
        "colab": {
          "base_uri": "https://localhost:8080/",
          "height": 329
        }
      },
      "source": [
        "from nltk.corpus import wordnet as wn\n",
        "for ss in wn.synsets('bank'):\n",
        "  print(ss, ss.definition())"
      ],
      "execution_count": null,
      "outputs": [
        {
          "output_type": "stream",
          "text": [
            "Synset('bank.n.01') sloping land (especially the slope beside a body of water)\n",
            "Synset('depository_financial_institution.n.01') a financial institution that accepts deposits and channels the money into lending activities\n",
            "Synset('bank.n.03') a long ridge or pile\n",
            "Synset('bank.n.04') an arrangement of similar objects in a row or in tiers\n",
            "Synset('bank.n.05') a supply or stock held in reserve for future use (especially in emergencies)\n",
            "Synset('bank.n.06') the funds held by a gambling house or the dealer in some gambling games\n",
            "Synset('bank.n.07') a slope in the turn of a road or track; the outside is higher than the inside in order to reduce the effects of centrifugal force\n",
            "Synset('savings_bank.n.02') a container (usually with a slot in the top) for keeping money at home\n",
            "Synset('bank.n.09') a building in which the business of banking transacted\n",
            "Synset('bank.n.10') a flight maneuver; aircraft tips laterally about its longitudinal axis (especially in turning)\n",
            "Synset('bank.v.01') tip laterally\n",
            "Synset('bank.v.02') enclose with a bank\n",
            "Synset('bank.v.03') do business with a bank or keep an account at a bank\n",
            "Synset('bank.v.04') act as the banker in a game or in gambling\n",
            "Synset('bank.v.05') be in the banking business\n",
            "Synset('deposit.v.02') put into a bank account\n",
            "Synset('bank.v.07') cover with ashes so to control the rate of burning\n",
            "Synset('trust.v.01') have confidence or faith in\n"
          ],
          "name": "stdout"
        }
      ]
    },
    {
      "cell_type": "markdown",
      "metadata": {
        "id": "xIOQPo1hfrwk"
      },
      "source": [
        "**Detecção de Limites de Sentença (*Sentence Boundary Detection*)**\n",
        "\n",
        "---"
      ]
    },
    {
      "cell_type": "markdown",
      "metadata": {
        "id": "b71HSx58gFAK"
      },
      "source": [
        "A **Detecção de Limites de Sentença** é o método de detectar onde uma sentença termina e outra começa. \n",
        "\n",
        "Se você está pensando que isso parece muito fácil, já que um ponto (.) ou um ponto de interrogação (?) denota o final de uma sentença e o início de outra, então você está errado. \n",
        "\n",
        "Também podem haver casos em que as letras das siglas são separadas por pontos, por exemplo. Várias análises precisam ser realizadas em um nível de sentença; detectar os limites das sentenças é essencial."
      ]
    },
    {
      "cell_type": "markdown",
      "metadata": {
        "id": "k2bgb7wAhA4o"
      },
      "source": [
        "### **Exemplo 1.11 - Detecção de Limites de Sentença**"
      ]
    },
    {
      "cell_type": "code",
      "metadata": {
        "id": "Oh2xG1xhhGIU"
      },
      "source": [
        "import nltk\n",
        "from nltk.tokenize import sent_tokenize"
      ],
      "execution_count": null,
      "outputs": []
    },
    {
      "cell_type": "code",
      "metadata": {
        "id": "LYwWlNG7hMz2",
        "outputId": "536703ef-0778-4738-e113-8dcf61c90536",
        "colab": {
          "base_uri": "https://localhost:8080/",
          "height": 87
        }
      },
      "source": [
        "def get_sentences(text):\n",
        "    return sent_tokenize(text)\n",
        "    \n",
        "get_sentences(\"We are reading a book. Do you know who is the publisher? It is Packt. Packt is based out of Birmingham.\")"
      ],
      "execution_count": null,
      "outputs": [
        {
          "output_type": "execute_result",
          "data": {
            "text/plain": [
              "['We are reading a book.',\n",
              " 'Do you know who is the publisher?',\n",
              " 'It is Packt.',\n",
              " 'Packt is based out of Birmingham.']"
            ]
          },
          "metadata": {
            "tags": []
          },
          "execution_count": 50
        }
      ]
    },
    {
      "cell_type": "code",
      "metadata": {
        "id": "M9x72ETnhZma",
        "outputId": "462d97b1-42ff-497b-ed92-a8fbef7e7517",
        "colab": {
          "base_uri": "https://localhost:8080/",
          "height": 52
        }
      },
      "source": [
        "get_sentences(\"Mr. Donald John Trump is the current president of the USA. Before joining politics, he was a businessman.\")"
      ],
      "execution_count": null,
      "outputs": [
        {
          "output_type": "execute_result",
          "data": {
            "text/plain": [
              "['Mr.. Donald John Trump is the current president of the USA.',\n",
              " 'Before joining politics, he was a businessman.']"
            ]
          },
          "metadata": {
            "tags": []
          },
          "execution_count": 52
        }
      ]
    },
    {
      "cell_type": "markdown",
      "metadata": {
        "id": "5RKEf30chl4T"
      },
      "source": [
        "Como você pode ver no código, o método **`sent_tokenize`** é capaz de diferenciar entre o ponto (.) após \"Mr\" e aquele usado para finalizar a frase."
      ]
    }
  ]
}