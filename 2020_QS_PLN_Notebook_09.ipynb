{
  "nbformat": 4,
  "nbformat_minor": 0,
  "metadata": {
    "colab": {
      "name": "2020-QS PLN Notebook 09.ipynb",
      "provenance": [],
      "collapsed_sections": [],
      "toc_visible": true,
      "authorship_tag": "ABX9TyO7Fs8obnQM1m2o6saBkIIt",
      "include_colab_link": true
    },
    "kernelspec": {
      "name": "python3",
      "display_name": "Python 3"
    }
  },
  "cells": [
    {
      "cell_type": "markdown",
      "metadata": {
        "id": "view-in-github",
        "colab_type": "text"
      },
      "source": [
        "<a href=\"https://colab.research.google.com/github/adalves-ufabc/2020.QS-PLN/blob/main/2020_QS_PLN_Notebook_09.ipynb\" target=\"_parent\"><img src=\"https://colab.research.google.com/assets/colab-badge.svg\" alt=\"Open In Colab\"/></a>"
      ]
    },
    {
      "cell_type": "markdown",
      "metadata": {
        "id": "TX66rCyzFT9A"
      },
      "source": [
        "# **Processamento de Linguagem Natural [2020.QS]**\n",
        "Prof. Alexandre Donizeti Alves"
      ]
    },
    {
      "cell_type": "markdown",
      "metadata": {
        "id": "C70pRuctFXyX"
      },
      "source": [
        "# **Arquivos PDF**\n",
        "\n",
        "---\n"
      ]
    },
    {
      "cell_type": "code",
      "metadata": {
        "id": "BoXGy9DwFhO3",
        "outputId": "31c7bc50-8b5b-43dc-fb7d-7d1644c96a9c",
        "colab": {
          "base_uri": "https://localhost:8080/",
          "height": 280
        }
      },
      "source": [
        "# https://github.com/pdfminer/pdfminer.six\n",
        "\n",
        "# Pdfminer.six is a community maintained fork of the original PDFMiner. \n",
        "# It is a tool for extracting information from PDF documents. \n",
        "# It focuses on getting and analyzing text data. \n",
        "\n",
        "# Pdfminer.six extracts the text from a page directly from the sourcecode of the PDF. \n",
        "# It can also be used to get the exact location, font or color of the text.\n",
        "\n",
        "\n",
        "# install and import all the necessary libraries\n",
        "!pip3 install pdfminer.six"
      ],
      "execution_count": null,
      "outputs": [
        {
          "output_type": "stream",
          "text": [
            "Collecting pdfminer.six\n",
            "\u001b[?25l  Downloading https://files.pythonhosted.org/packages/93/f3/4fec7dabe8802ebec46141345bf714cd1fc7d93cb74ddde917e4b6d97d88/pdfminer.six-20201018-py3-none-any.whl (5.6MB)\n",
            "\u001b[K     |████████████████████████████████| 5.6MB 4.9MB/s \n",
            "\u001b[?25hRequirement already satisfied: sortedcontainers in /usr/local/lib/python3.6/dist-packages (from pdfminer.six) (2.2.2)\n",
            "Collecting cryptography\n",
            "\u001b[?25l  Downloading https://files.pythonhosted.org/packages/4a/a8/904c6f56c6018fc0b860510a55ea6123d561d02157f9e0855301afa27749/cryptography-3.2-cp35-abi3-manylinux2010_x86_64.whl (2.6MB)\n",
            "\u001b[K     |████████████████████████████████| 2.7MB 43.9MB/s \n",
            "\u001b[?25hRequirement already satisfied: chardet; python_version > \"3.0\" in /usr/local/lib/python3.6/dist-packages (from pdfminer.six) (3.0.4)\n",
            "Requirement already satisfied: cffi!=1.11.3,>=1.8 in /usr/local/lib/python3.6/dist-packages (from cryptography->pdfminer.six) (1.14.3)\n",
            "Requirement already satisfied: six>=1.4.1 in /usr/local/lib/python3.6/dist-packages (from cryptography->pdfminer.six) (1.15.0)\n",
            "Requirement already satisfied: pycparser in /usr/local/lib/python3.6/dist-packages (from cffi!=1.11.3,>=1.8->cryptography->pdfminer.six) (2.20)\n",
            "Installing collected packages: cryptography, pdfminer.six\n",
            "Successfully installed cryptography-3.2 pdfminer.six-20201018\n"
          ],
          "name": "stdout"
        }
      ]
    },
    {
      "cell_type": "markdown",
      "metadata": {
        "id": "uyv6mXz59GZW"
      },
      "source": [
        "### **Arquivos com 2 colunas**"
      ]
    },
    {
      "cell_type": "code",
      "metadata": {
        "id": "k9p0su4uIu2X",
        "outputId": "a65b69f4-5988-4ec0-efe7-7e686a973429",
        "colab": {
          "base_uri": "https://localhost:8080/",
          "height": 36
        }
      },
      "source": [
        "import pdfminer\n",
        "from pdfminer.high_level import extract_text\n",
        "\n",
        "print(pdfminer.__version__)"
      ],
      "execution_count": null,
      "outputs": [
        {
          "output_type": "stream",
          "text": [
            "20201018\n"
          ],
          "name": "stdout"
        }
      ]
    },
    {
      "cell_type": "code",
      "metadata": {
        "id": "E09k1WV6KRCg"
      },
      "source": [
        "text = extract_text('/content/example01.pdf')\n",
        "\n",
        "print(text)"
      ],
      "execution_count": null,
      "outputs": []
    },
    {
      "cell_type": "markdown",
      "metadata": {
        "id": "U79jRurkPfEG"
      },
      "source": [
        "https://pdfminersix.readthedocs.io/_/downloads/en/latest/pdf/"
      ]
    },
    {
      "cell_type": "code",
      "metadata": {
        "id": "9TgP__CpOb35"
      },
      "source": [
        "from pdfminer.high_level import extract_pages\n",
        "\n",
        "for page_layout in extract_pages(\"/content/example01.pdf\"):\n",
        "  for element in page_layout:\n",
        "    print(element)"
      ],
      "execution_count": null,
      "outputs": []
    },
    {
      "cell_type": "code",
      "metadata": {
        "id": "ztmSFPqiPCsH"
      },
      "source": [
        "from pdfminer.high_level import extract_pages\n",
        "from pdfminer.layout import LTTextContainer\n",
        "\n",
        "for page_layout in extract_pages('/content/example02.pdf'):\n",
        "  for element in page_layout:\n",
        "    if isinstance(element, LTTextContainer):\n",
        "      print(element.get_text())"
      ],
      "execution_count": null,
      "outputs": []
    },
    {
      "cell_type": "markdown",
      "metadata": {
        "id": "NoAMGkhK9ORS"
      },
      "source": [
        "### **Extração de Imagens**"
      ]
    },
    {
      "cell_type": "markdown",
      "metadata": {
        "id": "QFIU3bMu9Vpf"
      },
      "source": [
        "O comando a seguir extrai todas as imagens do arquivo PDF e armazena no diretório especificado em `--output-dir`"
      ]
    },
    {
      "cell_type": "code",
      "metadata": {
        "id": "vV8XJaAmT-DI"
      },
      "source": [
        "!pdf2txt.py example01.pdf --output-dir cats-and-dogs"
      ],
      "execution_count": null,
      "outputs": []
    },
    {
      "cell_type": "markdown",
      "metadata": {
        "id": "qcd90OuY9kP3"
      },
      "source": [
        "O código a seguir extrai as imagems (alguns tipos) do arquivo PDF"
      ]
    },
    {
      "cell_type": "code",
      "metadata": {
        "id": "aGI8M3x3aqbp",
        "outputId": "24d81c67-6707-4df4-d789-3676612e4e95",
        "colab": {
          "base_uri": "https://localhost:8080/",
          "height": 299
        }
      },
      "source": [
        "# We can use PyPDF2 along with Pillow (Python Imaging Library) \n",
        "# to extract images from the PDF pages and save them as image files\n",
        "\n",
        "!pip3 install Pillow\n",
        "!pip3 install PyPDF2\n",
        "\n",
        "import PyPDF2\n",
        "from PIL import Image\n",
        "\n",
        "with open('/content/example02.pdf', 'rb') as pdf_file:\n",
        "    pdf_reader = PyPDF2.PdfFileReader(pdf_file)\n",
        "\n",
        "    # extracting images from the 1st page\n",
        "    #page0 = pdf_reader.getPage(0)\n",
        "    page0 = pdf_reader.getPage(2)\n",
        "\n",
        "    if '/XObject' in page0['/Resources']:\n",
        "        xObject = page0['/Resources']['/XObject'].getObject()\n",
        "\n",
        "        for obj in xObject:\n",
        "            if xObject[obj]['/Subtype'] == '/Image':\n",
        "                size = (xObject[obj]['/Width'], xObject[obj]['/Height'])\n",
        "                data = xObject[obj].getData()\n",
        "                if xObject[obj]['/ColorSpace'] == '/DeviceRGB':\n",
        "                    mode = \"RGB\"\n",
        "                else:\n",
        "                    mode = \"P\"\n",
        "\n",
        "                if '/Filter' in xObject[obj]:\n",
        "                    if xObject[obj]['/Filter'] == '/FlateDecode':\n",
        "                        img = Image.frombytes(mode, size, data)\n",
        "                        img.save(obj[1:] + \".png\")\n",
        "                        print(obj[1:] + \".png\")\n",
        "                    elif xObject[obj]['/Filter'] == '/DCTDecode':\n",
        "                        img = open(obj[1:] + \".jpg\", \"wb\")\n",
        "                        img.write(data)\n",
        "                        img.close()\n",
        "                        print(obj[1:] + \".jpg\")\n",
        "                    elif xObject[obj]['/Filter'] == '/JPXDecode':\n",
        "                        img = open(obj[1:] + \".jp2\", \"wb\")\n",
        "                        img.write(data)\n",
        "                        img.close()\n",
        "                        print(obj[1:] + \".jp2\")\n",
        "                    elif xObject[obj]['/Filter'] == '/CCITTFaxDecode':\n",
        "                        img = open(obj[1:] + \".tiff\", \"wb\")\n",
        "                        img.write(data)\n",
        "                        img.close()\n",
        "                        print(obj[1:] + \".tiff\")\n",
        "                else:\n",
        "                    img = Image.frombytes(mode, size, data)\n",
        "                    img.save(obj[1:] + \".png\")\n",
        "                    print(obj[1:] + \".png\")\n",
        "    else:\n",
        "        print(\"No image found.\")\n"
      ],
      "execution_count": null,
      "outputs": [
        {
          "output_type": "stream",
          "text": [
            "Requirement already satisfied: Pillow in /usr/local/lib/python3.6/dist-packages (7.0.0)\n",
            "Collecting PyPDF2\n",
            "\u001b[?25l  Downloading https://files.pythonhosted.org/packages/b4/01/68fcc0d43daf4c6bdbc6b33cc3f77bda531c86b174cac56ef0ffdb96faab/PyPDF2-1.26.0.tar.gz (77kB)\n",
            "\u001b[K     |████████████████████████████████| 81kB 3.0MB/s \n",
            "\u001b[?25hBuilding wheels for collected packages: PyPDF2\n",
            "  Building wheel for PyPDF2 (setup.py) ... \u001b[?25l\u001b[?25hdone\n",
            "  Created wheel for PyPDF2: filename=PyPDF2-1.26.0-cp36-none-any.whl size=61086 sha256=6266f71ec63f97f9bd3f8aace52caefecd7674edc37621766b5dd66056591f58\n",
            "  Stored in directory: /root/.cache/pip/wheels/53/84/19/35bc977c8bf5f0c23a8a011aa958acd4da4bbd7a229315c1b7\n",
            "Successfully built PyPDF2\n",
            "Installing collected packages: PyPDF2\n",
            "Successfully installed PyPDF2-1.26.0\n",
            "Im4.png\n",
            "Im5.png\n",
            "Im6.png\n"
          ],
          "name": "stdout"
        }
      ]
    },
    {
      "cell_type": "markdown",
      "metadata": {
        "id": "SQrPo-uo90u_"
      },
      "source": [
        "### **Informação do arquivo PDF**"
      ]
    },
    {
      "cell_type": "code",
      "metadata": {
        "id": "N_U8OB3EgKAO",
        "outputId": "ea64b742-4a10-49f8-9be3-947df3b40a97",
        "colab": {
          "base_uri": "https://localhost:8080/",
          "height": 112
        }
      },
      "source": [
        "import PyPDF2\n",
        "\n",
        "with open('/content/example02.pdf', 'rb') as pdf_file:\n",
        "    pdf_reader = PyPDF2.PdfFileReader(pdf_file)\n",
        "    print(f'Number of Pages in PDF File is {pdf_reader.getNumPages()}')\n",
        "    print(f'PDF Metadata is {pdf_reader.documentInfo}')\n",
        "    print(f'PDF File Author is {pdf_reader.documentInfo[\"/Author\"]}')\n",
        "    print(f'PDF File Creator is {pdf_reader.documentInfo[\"/Creator\"]}')"
      ],
      "execution_count": null,
      "outputs": [
        {
          "output_type": "stream",
          "text": [
            "Number of Pages in PDF File is 5\n",
            "PDF Metadata is {'/Author': '', '/CreationDate': 'D:20180109020539Z', '/Creator': 'LaTeX with hyperref package', '/Keywords': '', '/ModDate': 'D:20180109020539Z', '/PTEX.Fullbanner': 'This is pdfTeX, Version 3.14159265-2.6-1.40.17 (TeX Live 2016) kpathsea version 6.2.2', '/Producer': 'pdfTeX-1.40.17', '/Subject': '', '/Title': '', '/Trapped': '/False'}\n",
            "PDF File Author is \n",
            "PDF File Creator is LaTeX with hyperref package\n"
          ],
          "name": "stdout"
        }
      ]
    },
    {
      "cell_type": "markdown",
      "metadata": {
        "id": "BVxh2xdU95yf"
      },
      "source": [
        "### **Listagem dos arquivos no Google Colab**"
      ]
    },
    {
      "cell_type": "code",
      "metadata": {
        "id": "cViQvEb0c9Zc",
        "outputId": "656fcfe3-e222-49f2-95b6-e01b7551172b",
        "colab": {
          "base_uri": "https://localhost:8080/",
          "height": 74
        }
      },
      "source": [
        "import os\n",
        "print( os.getcwd() )\n",
        "print( os.listdir() )"
      ],
      "execution_count": null,
      "outputs": [
        {
          "output_type": "stream",
          "text": [
            "/content\n",
            "['.config', 'example01.pdf', 'Im4.png', 'example02.pdf', 'Im5.png', 'Im6.png', 'cats-and-dogs', 'sample_data']\n"
          ],
          "name": "stdout"
        }
      ]
    }
  ]
}