{
  "nbformat": 4,
  "nbformat_minor": 0,
  "metadata": {
    "colab": {
      "name": "2020-QS PLN Atividade Quinzenal Individual 02.ipynb",
      "provenance": [],
      "authorship_tag": "ABX9TyOMl7w0ocbZ1S18q4QbDEro",
      "include_colab_link": true
    },
    "kernelspec": {
      "name": "python3",
      "display_name": "Python 3"
    }
  },
  "cells": [
    {
      "cell_type": "markdown",
      "metadata": {
        "id": "view-in-github",
        "colab_type": "text"
      },
      "source": [
        "<a href=\"https://colab.research.google.com/github/adalves-ufabc/2020.QS-PLN/blob/main/2020_QS_PLN_Atividade_Quinzenal_Individual_02.ipynb\" target=\"_parent\"><img src=\"https://colab.research.google.com/assets/colab-badge.svg\" alt=\"Open In Colab\"/></a>"
      ]
    },
    {
      "cell_type": "markdown",
      "metadata": {
        "id": "Y6QILOdpOjwv"
      },
      "source": [
        "# **Processamento de Linguagem Natural [2020.QS]**\n",
        "Prof. Alexandre Donizeti Alves"
      ]
    },
    {
      "cell_type": "markdown",
      "metadata": {
        "id": "8m67OOx9MX_3"
      },
      "source": [
        "### **Atividade Quinzenal Individual 02 [Expressões Regulares]**\n"
      ]
    },
    {
      "cell_type": "markdown",
      "metadata": {
        "id": "5Gk0nHKabBT-"
      },
      "source": [
        "A lista de exercícios deve ser feita usando o **Google Colab** com uma conta \n",
        "sua vinculada ao Gmail. O link do seu notebook, armazenado no Google Drive, deve ser enviado usando o seguinte formulário:\n",
        "\n",
        "> https://forms.gle/eHRWeZ6cJzcnAJBX7\n",
        "\n",
        "\n",
        "**IMPORTANTE**: A submissão deve ser feita até o dia 16/10 (sexta-feira), até às 23h59. Por favor, lembre-se de dar permissão de ACESSO IRRESTRITO."
      ]
    },
    {
      "cell_type": "markdown",
      "metadata": {
        "id": "D7hJlilKM485"
      },
      "source": [
        "**Por favor, informe o seu nome e RA:**\n",
        "\n",
        "---\n",
        "**Nome**: *# digite aqui o seu nome*\n",
        "\n",
        "**RA**: *# digite aqui o seu RA*"
      ]
    },
    {
      "cell_type": "markdown",
      "metadata": {
        "id": "EtjgWQRzNphL"
      },
      "source": [
        "### **Exercício 01**"
      ]
    },
    {
      "cell_type": "markdown",
      "metadata": {
        "id": "Jz2Yidf2NJBb"
      },
      "source": [
        "Verifique se as strings fornecidas contêm 0xFF. Exibir um resultado booleano conforme mostrado abaixo:"
      ]
    },
    {
      "cell_type": "code",
      "metadata": {
        "id": "h9yQwDKDMJSL"
      },
      "source": [
        "import re\n",
        "\n",
        "linha01 = 'start address: 0xA0, func1 address: 0xC0'\n",
        "linha02 = 'end address: 0xFF, func2 address: 0xB0'\n",
        "\n",
        "print(bool(re.search( ### adicione sua solucao aqui ### )))\n",
        "# output: False\n",
        "print(bool(re.search( ### adicione sua solucao aqui ### )))     \n",
        "# output: True"
      ],
      "execution_count": null,
      "outputs": []
    },
    {
      "cell_type": "markdown",
      "metadata": {
        "id": "SljZCCbkPfx0"
      },
      "source": [
        "### **Exercício 02**"
      ]
    },
    {
      "cell_type": "markdown",
      "metadata": {
        "id": "U5Pq2LHLPi1z"
      },
      "source": [
        "Substitua todas as ocorrências de 4 por four para a string fornecida"
      ]
    },
    {
      "cell_type": "code",
      "metadata": {
        "id": "zenCoOm_PqBG"
      },
      "source": [
        "fruits = 'They ate 4 apples and 4 oranges'\n",
        "re.sub( ### adicione sua solucao aqui ### )\n",
        "\n",
        "# output: 'They ate four apples and four oranges'"
      ],
      "execution_count": null,
      "outputs": []
    },
    {
      "cell_type": "markdown",
      "metadata": {
        "id": "4hwXp_-OUsHV"
      },
      "source": [
        "### **Exercício 03**"
      ]
    },
    {
      "cell_type": "markdown",
      "metadata": {
        "id": "kw32DZm8VNyA"
      },
      "source": [
        "Para a string de entrada fornecida, altere apenas a palavra inteira ***red*** para ***green***"
      ]
    },
    {
      "cell_type": "code",
      "metadata": {
        "id": "ZoZo06xAUv31"
      },
      "source": [
        "words = 'bred red spread credible'\n",
        "re.sub(### adicione sua solucao aqui ###)\n",
        "\n",
        "# output: 'bred green spread credible'"
      ],
      "execution_count": null,
      "outputs": []
    },
    {
      "cell_type": "markdown",
      "metadata": {
        "id": "pcvPHzvhV49p"
      },
      "source": [
        "### **Exercício 04**"
      ]
    },
    {
      "cell_type": "markdown",
      "metadata": {
        "id": "6wSliulWV8Iz"
      },
      "source": [
        "Para a lista de entrada fornecida, filtre todos os elementos que contenham 42 entre caracteres de uma palavra"
      ]
    },
    {
      "cell_type": "code",
      "metadata": {
        "id": "d3DWehHWV_Qq"
      },
      "source": [
        "words = ['hi42bye', 'nice1423', 'bad42', 'cool_42a', 'fake4b']\n",
        "\n",
        "[w for w in words if re.search( ### adicione sua solucao aqui ### )]\n",
        "\n",
        "# output: ['hi42bye', 'nice1423', 'cool_42a']"
      ],
      "execution_count": null,
      "outputs": []
    },
    {
      "cell_type": "markdown",
      "metadata": {
        "id": "YPFp1k-aXTD7"
      },
      "source": [
        "### **Exercício 05**"
      ]
    },
    {
      "cell_type": "markdown",
      "metadata": {
        "id": "wor43g7FYCte"
      },
      "source": [
        "Para as strings de entrada fornecidas, substitua todas as ocorrências de ***removed*** ou ***reed*** ou ***received*** ou ***refused*** por ***X***."
      ]
    },
    {
      "cell_type": "code",
      "metadata": {
        "id": "C4wcFtr3YZF7"
      },
      "source": [
        "s1 = 'creed refuse removed read'\n",
        "s2 = 'refused reed redo received'\n",
        "\n",
        "#pat = re.compile( ### adicione sua solucao aqui ### )\n",
        "\n",
        "print(pat.sub('X', s1))\n",
        "# output: 'cX refuse X read'\n",
        "\n",
        "print(pat.sub('X', s2))\n",
        "# output: 'X X redo X'"
      ],
      "execution_count": null,
      "outputs": []
    },
    {
      "cell_type": "markdown",
      "metadata": {
        "id": "8hOzuqFRZat4"
      },
      "source": [
        "### **Exercício 06**"
      ]
    },
    {
      "cell_type": "markdown",
      "metadata": {
        "id": "0gUtnartZh0j"
      },
      "source": [
        "Substitua **42 // 5** ou **42/5** por **8** para a entrada fornecida."
      ]
    },
    {
      "cell_type": "code",
      "metadata": {
        "id": "922yOpMMZrnP"
      },
      "source": [
        "text = 'a+42//5-c pressure*3+42/5-14256'\n",
        "\n",
        "re.sub( ### adicione sua solucao aqui ### )\n",
        "# output: 'a+8-c pressure*3+8-14256'"
      ],
      "execution_count": null,
      "outputs": []
    },
    {
      "cell_type": "markdown",
      "metadata": {
        "id": "AKvIO-McaY5I"
      },
      "source": [
        "### **Exercício 07**"
      ]
    },
    {
      "cell_type": "markdown",
      "metadata": {
        "id": "4PeuVWmvagWH"
      },
      "source": [
        "Para as strings de entrada fornecidas, remova tudo desde a primeira ocorrência de **i** até o final da string."
      ]
    },
    {
      "cell_type": "code",
      "metadata": {
        "id": "SX7std2faoQf"
      },
      "source": [
        "s1 = 'remove the special meaning of such constructs'\n",
        "s2 = 'characters while constructing'\n",
        "\n",
        "pat = re.compile( ### adicione sua solucao aqui ### )\n",
        "\n",
        "pat.sub('', s1)\n",
        "# output: 'remove the spec'\n",
        "\n",
        "pat.sub('', s2)\n",
        "#output: 'characters wh'"
      ],
      "execution_count": null,
      "outputs": []
    },
    {
      "cell_type": "markdown",
      "metadata": {
        "id": "G6RhL6-yeKsm"
      },
      "source": [
        "### **Exercício 08**"
      ]
    },
    {
      "cell_type": "markdown",
      "metadata": {
        "id": "Pxf5B_cFeQ6G"
      },
      "source": [
        "Para as palavras da lista de entrada, remova todos os elementos com menos de 6 caracteres."
      ]
    },
    {
      "cell_type": "code",
      "metadata": {
        "id": "LA5t3lBZeWPO"
      },
      "source": [
        "words = ['sequoia', 'subtle', 'exhibit', 'asset', 'sets', 'tests', 'site']\n",
        "\n",
        "[w for w in words if re.search( ### adicione sua solucao aqui ### )]\n",
        "# output: ['sequoia', 'subtle', 'exhibit']"
      ],
      "execution_count": null,
      "outputs": []
    },
    {
      "cell_type": "markdown",
      "metadata": {
        "id": "sV7p0YSmes-R"
      },
      "source": [
        "### **Exercício 09**"
      ]
    },
    {
      "cell_type": "markdown",
      "metadata": {
        "id": "pz3VLamoexW4"
      },
      "source": [
        "Crie um **exercício** (conforme os exercícios anteriores) usando expressões regulares com **classes de caracteres**."
      ]
    },
    {
      "cell_type": "markdown",
      "metadata": {
        "id": "Qfx0oYPFfWfd"
      },
      "source": [
        "### **Exercício 10**"
      ]
    },
    {
      "cell_type": "markdown",
      "metadata": {
        "id": "yqQJ0aE1fZ_I"
      },
      "source": [
        "Crie um **exercício** usando expressões regulares **criando suas próprias classes de caracteres**."
      ]
    }
  ]
}